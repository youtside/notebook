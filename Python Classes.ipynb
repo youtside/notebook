{
 "cells": [
  {
   "cell_type": "markdown",
   "metadata": {},
   "source": [
    "# Python's Class Development Toolkit\n",
    "https://www.youtube.com/watch?v=HTLu2DFOdTg\n"
   ]
  },
  {
   "cell_type": "markdown",
   "metadata": {},
   "source": [
    "# Summary\n",
    "1. Inherit from `object`\n",
    "1. __Instance variables__ for information unique to an instance\n",
    "1. __Class variables__ for data shared among all instances\n",
    "1. __Regular methods__ need `self` to operate on instance data\n",
    "1. __Class methods__ implement alternative constructors. They need `cls` so they can create subclass instances as well.\n",
    "1. __Static methods__ attach functions to classes. They don't need either `self` or `cls. Static methods improve discoverability and require context to be specified.\n",
    "1. `__var` for class local reference. \n",
    "1. A __property__ lets getter and setter methods be invoked automatically by attribute access. This allows Python classes to freely expose their instance variables.\n",
    "1. The `__slots__` variable implements the Flyweight Design Patter by suppressing instance dictionaries."
   ]
  },
  {
   "cell_type": "markdown",
   "metadata": {},
   "source": [
    "## Circle Company\n",
    "- Agile Methodology\n",
    "    - core idea: iterate and adapt quickly\n",
    "    - out sith waterfall: design code test ship\n",
    "    - Let little bits of design, coding and testing; inform later bits of design, docing and testing\n",
    "\n",
    "- Lean Startup Methodology\n",
    "    - Lean startup == Agile applied to business"
   ]
  },
  {
   "cell_type": "markdown",
   "metadata": {},
   "source": [
    "### docstring: Company name and elevator pitch\n",
    "* (module level) __docstring__\n",
    "\n",
    "```Python\n",
    "''' Circuitous, LLC - \n",
    "    An advanced Circle Analytics Company\n",
    "'''\n",
    "```"
   ]
  },
  {
   "cell_type": "markdown",
   "metadata": {},
   "source": [
    "### New Style class: Circle class\n",
    "* Start with __documentation__ \n",
    "    - Can generate PDF and review by business\n",
    "* (class level) __docstring__\n",
    "* New style classes\n",
    "* Initialize instance variables\n",
    "    - Init isn't a constructor. It's job is to initialize the instance variables.\n",
    "    - `self` is your instance. It has already been made by the time it gets called.\n",
    "    - Anything not unique to an instance does NOT go to instance variable\n",
    "* Regular method\n",
    "    - Regular methods have `self` as first argument\n",
    "* Modules for code reuse:\n",
    "    - `return 3.14 * self.radius ** 2.0` -> `return math.pi * self.radius ** 2.0`\n",
    "* Class variables for shared data\n",
    "    - shared by all the instances"
   ]
  },
  {
   "cell_type": "code",
   "execution_count": 3,
   "metadata": {},
   "outputs": [],
   "source": [
    "import math\n",
    "\n",
    "class Circle(object):\n",
    "    'An advanced circle analytic toolkit'\n",
    "\n",
    "    version = '0.1' # class variable\n",
    "\n",
    "    def __init__(self, radius):\n",
    "        self.radius = radius # instance variable\n",
    "\n",
    "    def area(self):\n",
    "        'Perform quadrature on a shape of uniform radius'\n",
    "        return math.pi * self.radius ** 2.0"
   ]
  },
  {
   "cell_type": "markdown",
   "metadata": {},
   "source": [
    "### Minimum viable product: Ship it!\n",
    "\n",
    "```Python\n",
    "# Tutorial\n",
    "print('circuituous version', Circle.version)\n",
    "...\n",
    "```"
   ]
  },
  {
   "cell_type": "markdown",
   "metadata": {},
   "source": [
    "### First cusomer: Academia"
   ]
  },
  {
   "cell_type": "code",
   "execution_count": 30,
   "metadata": {},
   "outputs": [
    {
     "name": "stdout",
     "output_type": "stream",
     "text": [
      "Using Circutuous™ version 0.1\n",
      "The average area of 10 random circles is 0.9\n"
     ]
    }
   ],
   "source": [
    "from random import random, seed\n",
    "\n",
    "seed(123457) # Reproducable\n",
    "print(f'Using Circutuous\\N{trade mark sign} version {Circle.version}')\n",
    "n = 10\n",
    "circles = [Circle(random()) for i in range(n)]\n",
    "\n",
    "avg = sum([c.area() for c in circles]) / n\n",
    "print(f'The average area of {n} random circles is {avg:0.1f}')\n"
   ]
  },
  {
   "cell_type": "markdown",
   "metadata": {},
   "source": [
    "### Next Customer wants a perimeter method\n",
    "- Second customer: Rubber sheet company\n",
    "\n",
    "- how do we feel about exposing the radius attribute?\n",
    "    - i.e. radius isn't constant after creating the instance\n",
    "    - `getter` and `setter`\n",
    "    - Yes, expose attributes in Python"
   ]
  },
  {
   "cell_type": "code",
   "execution_count": 44,
   "metadata": {},
   "outputs": [
    {
     "name": "stdout",
     "output_type": "stream",
     "text": [
      "A circlet with a radius of 0.1 has a perimeter of0.6283185307179586\n",
      "and a cold area of 0.031415926535897934\n",
      "and a warm area of 0.038013271108436504\n",
      "\n",
      "A circlet with a radius of 0.7 has a perimeter of4.39822971502571\n",
      "and a cold area of 1.5393804002589984\n",
      "and a warm area of 1.8626502843133883\n",
      "\n",
      "A circlet with a radius of 0.8 has a perimeter of5.026548245743669\n",
      "and a cold area of 2.0106192982974678\n",
      "and a warm area of 2.4328493509399363\n",
      "\n"
     ]
    }
   ],
   "source": [
    "import math\n",
    "\n",
    "class Circle(object):\n",
    "    'An advanced circle analytic toolkit'\n",
    "\n",
    "    version = '0.2' # class variable\n",
    "\n",
    "    def __init__(self, radius):\n",
    "        self.radius = radius # instance variable\n",
    "\n",
    "    def area(self):\n",
    "        'Perform quadrature on a shape of uniform radius'\n",
    "        return math.pi * self.radius ** 2.0\n",
    "    \n",
    "    def perimeter(self):\n",
    "        return 2.0 * math.pi * self.radius\n",
    "\n",
    "cuts = [0.1, 0.7, 0.8]\n",
    "circles = [Circle(r) for r in cuts]\n",
    "for c in circles:\n",
    "    print(f'A circlet with a radius of {c.radius} has a perimeter of{c.perimeter()}')\n",
    "    print(f'and a cold area of {c.area()}')\n",
    "    c.radius *= 1.1\n",
    "    print(f'and a warm area of {c.area()}\\n')"
   ]
  },
  {
   "cell_type": "markdown",
   "metadata": {},
   "source": [
    "### override: Third customer - National tire chain\n",
    "* __extend__ method: parent method eventually get called\n",
    "* __override__ method: parent method doesn't get called"
   ]
  },
  {
   "cell_type": "code",
   "execution_count": 55,
   "metadata": {},
   "outputs": [
    {
     "name": "stdout",
     "output_type": "stream",
     "text": [
      "A tire of radius 22 has an inner area of 1520.53 and an odometer corrected perimeter of 172.79\n",
      "\n"
     ]
    }
   ],
   "source": [
    "class Tire(Circle):\n",
    "    'Tires are circles with a corrected perimeter'\n",
    "    \n",
    "    def perimeter(self):\n",
    "        'Circuference corrected for the rubber'\n",
    "        return Circle.perimeter(self) * 1.25\n",
    "    \n",
    "t = Tire(22)\n",
    "print(f'A tire of radius {t.radius} has an inner area of {t.area():.2f} '\n",
    "      f'and an odometer corrected perimeter of {t.perimeter():.2f}\\n')\n"
   ]
  },
  {
   "cell_type": "markdown",
   "metadata": {},
   "source": [
    "### classmethod: Next customer: National graphics company\n",
    "Converting method\n",
    "- The API is awkward. A converter function is always needed. Perhaps change the constructor signature? \n",
    "    ```Python\n",
    "    bbd = 25.1\n",
    "    c = Circle(bbd_to_radius(bbd))\n",
    "    ...\n",
    "    ```\n",
    "- Constructor war: \n",
    "    - several people want to different signatures of constructor (e.g., most powerful customer)\n",
    "    - Provide alternative constructors. Everyone should win.\n",
    "\n",
    "    ```Python\n",
    "    datatime(2019, 1, 20)\n",
    "    datetime.fromtimestamp(1363493616)\n",
    "    datetime.fromordinal(734000)\n",
    "    datetime.now()\n",
    "\n",
    "    dict.fromkeys(['k1', 'k2', 'k3'])\n",
    "    ```\n",
    "- __Class methods__ create alternative constructors\n",
    "    - It should also work for subclasses. \n",
    "    - This code doesn't work:\n",
    "    ```Python\n",
    "    t = Tire.from_bbd(45)\n",
    "    ```\n",
    "- Subclasses?\n",
    "    - Besure to use `cls` to support subclassing\n",
    "    \n",
    "    `return Circle(radius)` -> `return cls(radius)`\n"
   ]
  },
  {
   "cell_type": "code",
   "execution_count": 57,
   "metadata": {},
   "outputs": [],
   "source": [
    "import math\n",
    "\n",
    "class Circle(object):\n",
    "    'An advanced circle analytic toolkit'\n",
    "\n",
    "    version = '0.3' # class variable\n",
    "\n",
    "    def __init__(self, radius):\n",
    "        self.radius = radius # instance variable\n",
    "\n",
    "    def area(self):\n",
    "        'Perform quadrature on a shape of uniform radius'\n",
    "        return math.pi * self.radius ** 2.0\n",
    "    \n",
    "    def perimeter(self):\n",
    "        return 2.0 * math.pi * self.radius\n",
    "    \n",
    "    @classmethod            # alternative constructor\n",
    "    def from_bbd(cls, bbd):\n",
    "        'Construct a circle from a bounding box diagonal'\n",
    "        radius = bbd / 2.0 / math.sqrt(2.0)\n",
    "        # return Circle(radius)\n",
    "        return cls(radius)\n"
   ]
  },
  {
   "cell_type": "markdown",
   "metadata": {},
   "source": [
    "### staticmethod: New customer request: add a function\n",
    "- Will this also work for the Sphere class and the Hyperbolic class? No / No\n",
    "- Can people even find this code? \n",
    "    - No, it's not in the class\n",
    "    - Indent\n",
    "- No `self` used inside function body\n",
    "- Purpose of `staticmethod`:\n",
    "    * Attach functions to classes\n",
    "    * Improve findability \n",
    "    * Ensure people using function in approproate context: `Circle.angle_to_grade(30)`"
   ]
  },
  {
   "cell_type": "code",
   "execution_count": 59,
   "metadata": {},
   "outputs": [],
   "source": [
    "def angle_to_grade(angle):\n",
    "    'Convert angle in degree to a percentage grade'\n",
    "    return math.tan(math.radians(angle)) * 100.0\n",
    "\n",
    "class Circle(object):\n",
    "    'An advanced circle analytic toolkit'\n",
    "\n",
    "    version = '0.4b' # class variable\n",
    "\n",
    "    def __init__(self, radius):\n",
    "        self.radius = radius # instance variable\n",
    "        \n",
    "    @staticmethod\n",
    "    def angle_to_grade(angle):\n",
    "        'Convert angle in degree to a percentage grade'\n",
    "        return math.tan(math.radians(angle)) * 100.0\n"
   ]
  },
  {
   "cell_type": "markdown",
   "metadata": {},
   "source": [
    "### Class local reference: Government request #1\n",
    "Not allow to use radius in area calculation. Instead you must call `perimeter()` and back into the radius.\n",
    "\n",
    "- Change in `p = self.perimeter()` doesn't work for children classes. \n",
    "- Subclass should be free to override any methods without breaking the code\n",
    "- Solution 1: class local reference: keep a spare copy. `self._perimeter`\n",
    "    - If someone overrides it, you still got the original\n",
    "    - BUT Tire company also declares `_perimeter` \n",
    "    - Need to specify name: `_tireperimeter`, `_circleperimeter`\n",
    "- Built in already: `self.__perimeter()`\n",
    "\n",
    "__Class local reference__: making sure `self` is actually referring to _you_ instead of _you and your children_.\n",
    "- Not about private\n",
    "- All about freedom: make sure subclass is free to override any methods without breaking others."
   ]
  },
  {
   "cell_type": "code",
   "execution_count": 68,
   "metadata": {},
   "outputs": [
    {
     "name": "stdout",
     "output_type": "stream",
     "text": [
      "{'__module__': '__main__', '__doc__': 'An advanced circle analytic toolkit', 'version': '0.5', '__init__': <function Circle.__init__ at 0x7fbc445dd840>, 'area': <function Circle.area at 0x7fbc445ddf28>, 'perimeter': <function Circle.perimeter at 0x7fbc443d9378>, '_Circle__perimeter': <function Circle.perimeter at 0x7fbc443d9378>, '__dict__': <attribute '__dict__' of 'Circle' objects>, '__weakref__': <attribute '__weakref__' of 'Circle' objects>}\n"
     ]
    }
   ],
   "source": [
    "class Circle(object):\n",
    "    'An advanced circle analytic toolkit'\n",
    "\n",
    "    version = '0.5b' # class variable\n",
    "\n",
    "    def __init__(self, radius):\n",
    "        self.radius = radius # instance variable\n",
    "\n",
    "    def area(self):\n",
    "        'Perform quadrature on a shape of uniform radius'\n",
    "        p = self.perimeter()\n",
    "        r = p / math.pi / 2.0\n",
    "        return math.pi * r ** 2.0\n",
    "    \n",
    "    def perimeter(self):\n",
    "        return 2.0 * math.pi * self.radius\n",
    "    \n",
    "    \n",
    "# Problem with the tire company: perimeter scales \n",
    "\n",
    "\n",
    "    def area(self):\n",
    "        'Perform quadrature on a shape of uniform radius'\n",
    "        p = self._perimeter()\n",
    "        r = p / math.pi / 2.0\n",
    "        return math.pi * r ** 2.0\n",
    "    _perimeter = perimeter\n",
    "    \n",
    "\n",
    "class Circle(object):\n",
    "    'An advanced circle analytic toolkit'\n",
    "\n",
    "    version = '0.5' # class variable\n",
    "\n",
    "    def __init__(self, radius):\n",
    "        self.radius = radius # instance variable\n",
    "\n",
    "    def area(self):\n",
    "        'Perform quadrature on a shape of uniform radius'\n",
    "        p = self.__perimeter()\n",
    "        r = p / math.pi / 2.0\n",
    "        return math.pi * r ** 2.0\n",
    "    \n",
    "    def perimeter(self):\n",
    "        return 2.0 * math.pi * self.radius\n",
    "    \n",
    "    __perimeter = perimeter # Auto renamed to _Circle__perimeter\n",
    "\n",
    "print(Circle.__dict__)"
   ]
  },
  {
   "cell_type": "markdown",
   "metadata": {},
   "source": [
    "### property: Government request #2\n",
    "    - not allowed to store the _radius_\n",
    "    - must store the _diameter_ instead\n",
    "\n",
    "- `property`: Convert attribute access to method access"
   ]
  },
  {
   "cell_type": "code",
   "execution_count": 67,
   "metadata": {},
   "outputs": [],
   "source": [
    "class Circle(object):\n",
    "    'An advanced circle analytic toolkit'\n",
    "\n",
    "    version = '0.6' # class variable\n",
    "\n",
    "    def __init__(self, radius):\n",
    "        self.radius = radius # instance variable\n",
    "    \n",
    "    @property               # convert dotted access to method calls\n",
    "    def radius(self):\n",
    "        'Radius of a circle'\n",
    "        return self.diameter / 2.0\n",
    "    \n",
    "    @radius.setter\n",
    "    def radius(self, radius):\n",
    "        self.diameter = radius * 2.0"
   ]
  },
  {
   "cell_type": "markdown",
   "metadata": {},
   "source": [
    "### slots: User request: Many circles\n",
    "    - n = 10000000\n",
    "    - major memory problem, each instance is over 300 bytes each (dict)\n",
    "- Flyweight design pattern: `__slots__`\n",
    "    - just allocate one pointer for the _diameter_ and nothing else.\n",
    "    - lost `__dict__`\n",
    "        - Lost ability to inspect `__dict__`\n",
    "        - Can't add additional attributes\n",
    "    - Save optimization  for the last\n",
    "- If __subclassing__, `__slots__` does NOT inherent"
   ]
  },
  {
   "cell_type": "code",
   "execution_count": 1,
   "metadata": {},
   "outputs": [
    {
     "name": "stdout",
     "output_type": "stream",
     "text": [
      "{'__module__': '__main__', '__doc__': 'An advanced circle analytic toolkit', '__slots__': ['diameter'], 'version': '0.7', '__init__': <function Circle.__init__ at 0x7f8ad00d0d08>, 'radius': <property object at 0x7f8ad014fc78>, 'area': <function Circle.area at 0x7f8ad00d0840>, 'perimeter': <function Circle.perimeter at 0x7f8ad00fc048>, '_Circle__perimeter': <function Circle.perimeter at 0x7f8ad00fc048>, 'diameter': <member 'diameter' of 'Circle' objects>}\n"
     ]
    }
   ],
   "source": [
    "class Circle(object):\n",
    "    'An advanced circle analytic toolkit'\n",
    "\n",
    "    __slots__ = ['diameter']\n",
    "    version = '0.7' # class variable\n",
    "\n",
    "    def __init__(self, radius):\n",
    "        self.radius = radius # instance variable\n",
    "    \n",
    "    @property               # convert dotted access to method calls\n",
    "    def radius(self):\n",
    "        'Radius of a circle'\n",
    "        return self.diameter / 2.0\n",
    "    \n",
    "    @radius.setter\n",
    "    def radius(self, radius):\n",
    "        self.diameter = radius * 2.0\n",
    "        \n",
    "    def area(self):\n",
    "        'Perform quadrature on a shape of uniform radius'\n",
    "        p = self.__perimeter()\n",
    "        r = p / math.pi / 2.0\n",
    "        return math.pi * r ** 2.0\n",
    "    \n",
    "    def perimeter(self):\n",
    "        return 2.0 * math.pi * self.radius\n",
    "    \n",
    "    __perimeter = perimeter # Auto renamed to _Circle__perimeter\n",
    "print(Circle.__dict__)"
   ]
  },
  {
   "cell_type": "code",
   "execution_count": 2,
   "metadata": {},
   "outputs": [
    {
     "name": "stdout",
     "output_type": "stream",
     "text": [
      "Using Circutuous™ version 0.7\n"
     ]
    },
    {
     "ename": "NameError",
     "evalue": "name 'math' is not defined",
     "output_type": "error",
     "traceback": [
      "\u001b[0;31m---------------------------------------------------------------------------\u001b[0m",
      "\u001b[0;31mNameError\u001b[0m                                 Traceback (most recent call last)",
      "\u001b[0;32m<ipython-input-2-eaa35cc2d0ab>\u001b[0m in \u001b[0;36m<module>\u001b[0;34m\u001b[0m\n\u001b[1;32m      7\u001b[0m \u001b[0mcircles\u001b[0m \u001b[0;34m=\u001b[0m \u001b[0;34m[\u001b[0m\u001b[0mCircle\u001b[0m\u001b[0;34m(\u001b[0m\u001b[0mrandom\u001b[0m\u001b[0;34m(\u001b[0m\u001b[0;34m)\u001b[0m\u001b[0;34m)\u001b[0m \u001b[0;32mfor\u001b[0m \u001b[0mi\u001b[0m \u001b[0;32min\u001b[0m \u001b[0mrange\u001b[0m\u001b[0;34m(\u001b[0m\u001b[0mn\u001b[0m\u001b[0;34m)\u001b[0m\u001b[0;34m]\u001b[0m\u001b[0;34m\u001b[0m\u001b[0;34m\u001b[0m\u001b[0m\n\u001b[1;32m      8\u001b[0m \u001b[0;34m\u001b[0m\u001b[0m\n\u001b[0;32m----> 9\u001b[0;31m \u001b[0mavg\u001b[0m \u001b[0;34m=\u001b[0m \u001b[0msum\u001b[0m\u001b[0;34m(\u001b[0m\u001b[0;34m[\u001b[0m\u001b[0mc\u001b[0m\u001b[0;34m.\u001b[0m\u001b[0marea\u001b[0m\u001b[0;34m(\u001b[0m\u001b[0;34m)\u001b[0m \u001b[0;32mfor\u001b[0m \u001b[0mc\u001b[0m \u001b[0;32min\u001b[0m \u001b[0mcircles\u001b[0m\u001b[0;34m]\u001b[0m\u001b[0;34m)\u001b[0m \u001b[0;34m/\u001b[0m \u001b[0mn\u001b[0m\u001b[0;34m\u001b[0m\u001b[0;34m\u001b[0m\u001b[0m\n\u001b[0m\u001b[1;32m     10\u001b[0m \u001b[0mprint\u001b[0m\u001b[0;34m(\u001b[0m\u001b[0;34mf'The average area of {n} random circles is {avg:0.1f}'\u001b[0m\u001b[0;34m)\u001b[0m\u001b[0;34m\u001b[0m\u001b[0;34m\u001b[0m\u001b[0m\n",
      "\u001b[0;32m<ipython-input-2-eaa35cc2d0ab>\u001b[0m in \u001b[0;36m<listcomp>\u001b[0;34m(.0)\u001b[0m\n\u001b[1;32m      7\u001b[0m \u001b[0mcircles\u001b[0m \u001b[0;34m=\u001b[0m \u001b[0;34m[\u001b[0m\u001b[0mCircle\u001b[0m\u001b[0;34m(\u001b[0m\u001b[0mrandom\u001b[0m\u001b[0;34m(\u001b[0m\u001b[0;34m)\u001b[0m\u001b[0;34m)\u001b[0m \u001b[0;32mfor\u001b[0m \u001b[0mi\u001b[0m \u001b[0;32min\u001b[0m \u001b[0mrange\u001b[0m\u001b[0;34m(\u001b[0m\u001b[0mn\u001b[0m\u001b[0;34m)\u001b[0m\u001b[0;34m]\u001b[0m\u001b[0;34m\u001b[0m\u001b[0;34m\u001b[0m\u001b[0m\n\u001b[1;32m      8\u001b[0m \u001b[0;34m\u001b[0m\u001b[0m\n\u001b[0;32m----> 9\u001b[0;31m \u001b[0mavg\u001b[0m \u001b[0;34m=\u001b[0m \u001b[0msum\u001b[0m\u001b[0;34m(\u001b[0m\u001b[0;34m[\u001b[0m\u001b[0mc\u001b[0m\u001b[0;34m.\u001b[0m\u001b[0marea\u001b[0m\u001b[0;34m(\u001b[0m\u001b[0;34m)\u001b[0m \u001b[0;32mfor\u001b[0m \u001b[0mc\u001b[0m \u001b[0;32min\u001b[0m \u001b[0mcircles\u001b[0m\u001b[0;34m]\u001b[0m\u001b[0;34m)\u001b[0m \u001b[0;34m/\u001b[0m \u001b[0mn\u001b[0m\u001b[0;34m\u001b[0m\u001b[0;34m\u001b[0m\u001b[0m\n\u001b[0m\u001b[1;32m     10\u001b[0m \u001b[0mprint\u001b[0m\u001b[0;34m(\u001b[0m\u001b[0;34mf'The average area of {n} random circles is {avg:0.1f}'\u001b[0m\u001b[0;34m)\u001b[0m\u001b[0;34m\u001b[0m\u001b[0;34m\u001b[0m\u001b[0m\n",
      "\u001b[0;32m<ipython-input-1-a0200db076c7>\u001b[0m in \u001b[0;36marea\u001b[0;34m(self)\u001b[0m\n\u001b[1;32m     19\u001b[0m     \u001b[0;32mdef\u001b[0m \u001b[0marea\u001b[0m\u001b[0;34m(\u001b[0m\u001b[0mself\u001b[0m\u001b[0;34m)\u001b[0m\u001b[0;34m:\u001b[0m\u001b[0;34m\u001b[0m\u001b[0;34m\u001b[0m\u001b[0m\n\u001b[1;32m     20\u001b[0m         \u001b[0;34m'Perform quadrature on a shape of uniform radius'\u001b[0m\u001b[0;34m\u001b[0m\u001b[0;34m\u001b[0m\u001b[0m\n\u001b[0;32m---> 21\u001b[0;31m         \u001b[0mp\u001b[0m \u001b[0;34m=\u001b[0m \u001b[0mself\u001b[0m\u001b[0;34m.\u001b[0m\u001b[0m__perimeter\u001b[0m\u001b[0;34m(\u001b[0m\u001b[0;34m)\u001b[0m\u001b[0;34m\u001b[0m\u001b[0;34m\u001b[0m\u001b[0m\n\u001b[0m\u001b[1;32m     22\u001b[0m         \u001b[0mr\u001b[0m \u001b[0;34m=\u001b[0m \u001b[0mp\u001b[0m \u001b[0;34m/\u001b[0m \u001b[0mmath\u001b[0m\u001b[0;34m.\u001b[0m\u001b[0mpi\u001b[0m \u001b[0;34m/\u001b[0m \u001b[0;36m2.0\u001b[0m\u001b[0;34m\u001b[0m\u001b[0;34m\u001b[0m\u001b[0m\n\u001b[1;32m     23\u001b[0m         \u001b[0;32mreturn\u001b[0m \u001b[0mmath\u001b[0m\u001b[0;34m.\u001b[0m\u001b[0mpi\u001b[0m \u001b[0;34m*\u001b[0m \u001b[0mr\u001b[0m \u001b[0;34m**\u001b[0m \u001b[0;36m2.0\u001b[0m\u001b[0;34m\u001b[0m\u001b[0;34m\u001b[0m\u001b[0m\n",
      "\u001b[0;32m<ipython-input-1-a0200db076c7>\u001b[0m in \u001b[0;36mperimeter\u001b[0;34m(self)\u001b[0m\n\u001b[1;32m     24\u001b[0m \u001b[0;34m\u001b[0m\u001b[0m\n\u001b[1;32m     25\u001b[0m     \u001b[0;32mdef\u001b[0m \u001b[0mperimeter\u001b[0m\u001b[0;34m(\u001b[0m\u001b[0mself\u001b[0m\u001b[0;34m)\u001b[0m\u001b[0;34m:\u001b[0m\u001b[0;34m\u001b[0m\u001b[0;34m\u001b[0m\u001b[0m\n\u001b[0;32m---> 26\u001b[0;31m         \u001b[0;32mreturn\u001b[0m \u001b[0;36m2.0\u001b[0m \u001b[0;34m*\u001b[0m \u001b[0mmath\u001b[0m\u001b[0;34m.\u001b[0m\u001b[0mpi\u001b[0m \u001b[0;34m*\u001b[0m \u001b[0mself\u001b[0m\u001b[0;34m.\u001b[0m\u001b[0mradius\u001b[0m\u001b[0;34m\u001b[0m\u001b[0;34m\u001b[0m\u001b[0m\n\u001b[0m\u001b[1;32m     27\u001b[0m \u001b[0;34m\u001b[0m\u001b[0m\n\u001b[1;32m     28\u001b[0m     \u001b[0m__perimeter\u001b[0m \u001b[0;34m=\u001b[0m \u001b[0mperimeter\u001b[0m \u001b[0;31m# Auto renamed to _Circle__perimeter\u001b[0m\u001b[0;34m\u001b[0m\u001b[0;34m\u001b[0m\u001b[0m\n",
      "\u001b[0;31mNameError\u001b[0m: name 'math' is not defined"
     ]
    }
   ],
   "source": [
    "from random import random, seed\n",
    "\n",
    "n = 10000\n",
    "seed(123457) # Reproducable\n",
    "print(f'Using Circutuous\\N{trade mark sign} version {Circle.version}')\n",
    "\n",
    "circles = [Circle(random()) for i in range(n)]\n",
    "\n",
    "avg = sum([c.area() for c in circles]) / n\n",
    "print(f'The average area of {n} random circles is {avg:0.1f}')"
   ]
  },
  {
   "cell_type": "markdown",
   "metadata": {},
   "source": [
    "- class is a namespace; defination runs as if it runs in module and the module dictionary becomes the class dictionary\n",
    "- YAGNI - You Aint Gonna Need It\n",
    "- When finished one class, polish and think about the subclasses come after this"
   ]
  },
  {
   "cell_type": "markdown",
   "metadata": {},
   "source": [
    "# Subclassing\n",
    "https://www.youtube.com/watch?v=miGolgp9xq\n",
    "The Art of Subclassing"
   ]
  },
  {
   "cell_type": "code",
   "execution_count": 3,
   "metadata": {},
   "outputs": [],
   "source": [
    "# Simple example of subclassing\n",
    "\n",
    "class Animal(object):\n",
    "    'Generic animal class'\n",
    "    \n",
    "    def __init__(self, name):\n",
    "        self.name = name\n",
    "        \n",
    "    def walk(self):\n",
    "        print(f'{self.name} is Walking')\n",
    "        \n",
    "class Dog(Animal):\n",
    "    'Man\\'s best friend'\n",
    "    \n",
    "    def bark(self):\n",
    "        print('Woof')"
   ]
  },
  {
   "cell_type": "markdown",
   "metadata": {},
   "source": [
    "## Terminology\n",
    "\n",
    "- Adding\n",
    "    - adding new method, new capability\n",
    "    - Dog adds the `bark()` method to Animal which didn't have such method.\n",
    "- Overriding\n",
    "    - replacing existing method in subclass\n",
    "    - Snake repaces the `walk()` method of Animal with a `walk()` method that knows how to slither.\n",
    "- Extending\n",
    "    - inheritave capability AND adding new behaviour\n",
    "    - Cat modifies the `walk()` method to add tail swishing behavior while delegating the work of actual walking to its parent."
   ]
  },
  {
   "cell_type": "markdown",
   "metadata": {},
   "source": [
    "## Pattern for Subclassing\n",
    "\n",
    "###  Frameworks\n",
    "\n",
    "- The parent class supplies all of the \"controller\" functionality and makes calls to pre-named stub methods\n",
    "- the subclass overrides stub methods of interest\n",
    "    - to a more concreate / specific use\n",
    "- For example, SimpleHTTPServer runs an event loop and dispatches HTTP requests to stub methods like `do_HEAD()` and `do_GET()`\n",
    "    - no actual implementation in parent class\n",
    "- Someone writing an HTTP server would use a subclass to supply the desired actions in the event of a `GET` or `HEAD` request\n",
    "- Very static\n",
    "\n",
    "### Dynamic dispatch to subclass methods\n",
    "\n",
    "- Subclasser has greater control\n",
    "- The parent class uses getattr() to dispatch to new functionality\n",
    "- The child class implements appropriately named methods\n",
    "- Example from cmd.py:\n",
    "\n",
    "```Python\n",
    "def onecmd(self, cmd, arg):\n",
    "    try:\n",
    "        func = getattr(self, 'do_' + cmd)\n",
    "    except AttributeError:\n",
    "        return self.default(cmd)\n",
    "    return func(arg)\n",
    "```\n",
    "- How it might be used in a subclass:\n",
    "    - user specify 'pendown' and code call `do_pendown` for you.\n",
    "    \n",
    "```Python\n",
    "def do_pendown(self):\n",
    "    self.canvas.setpen(1)\n",
    "```    "
   ]
  },
  {
   "cell_type": "markdown",
   "metadata": {},
   "source": [
    "## Call Patterns for subclassing\n"
   ]
  },
  {
   "cell_type": "code",
   "execution_count": 10,
   "metadata": {},
   "outputs": [],
   "source": [
    "import math\n",
    "\n",
    "class Circle:\n",
    "    def __init__(slef, radius):\n",
    "        self.radius = radius\n",
    "    def area(self):\n",
    "        return self.radius ** 2.0 * math.pi\n",
    "    def __repr__(self):\n",
    "        return f'{self.__class__.__name__} has area {self.area()}'\n",
    "    \n",
    "class Donut(Circle):\n",
    "    def __init__(self, outer, inner):\n",
    "        Circle.__init__(self, outer)\n",
    "        self.inner = inner\n",
    "    def area(self):\n",
    "        outer, inner = self.radius, self.inner\n",
    "        return Circle(outer).area() - Circle(inner).area()"
   ]
  },
  {
   "cell_type": "markdown",
   "metadata": {},
   "source": [
    "- subclass calls parent's `__init__` (vs. super())\n",
    "    - extending `__init__`\n",
    "- Replace `area` with a different \n",
    "    - override `area`\n",
    "- subclass doesn't have `__repr__`, going up looking for `__repr__`\n",
    "    - Circle's `__repr__` is running on Donut\n",
    "    - Didn't hardware class name, using `__class__.__name__`\n",
    "    - `self.area()` - Circle or Donut? \n",
    "        - Donut -> `__repr__` in Circle -> `self.area()` in Donut\n",
    "    - __Everytime__ you refer to 'self', going to bottom and going up again.\n",
    "        \n",
    "    - similarly, calling `super()` might end up with someone unrelated\n",
    "        - go up from children\n",
    "        - call other's inheritance tree"
   ]
  },
  {
   "cell_type": "markdown",
   "metadata": {},
   "source": [
    "## About Subclasses\n",
    "### An object or class? \n",
    "- One common definition of an object:\n",
    "\n",
    "    An entity that encapsulates data together with functions (methods) for manipulating that data\n",
    "\n",
    "\n",
    "- Operationally in Python, we implement that with dictionaries\n",
    "    - __Instance dictionaries__ hold state and point to their classes\n",
    "    - __Class dictionaries__ hold the functions (methods)\n",
    "    \n",
    "```\n",
    " InstDict1  +----------+\n",
    "                       |\n",
    "                       v\n",
    " InstDict2  +-----> ClassDict\n",
    "                       ^\n",
    "                       |\n",
    " InstDict3 +-----------+\n",
    "\n",
    "```\n",
    "### Subclass? \n",
    "\n",
    "- A subclass is just a class that __delegates work__ to another class\n",
    "- A subclass nad its parent are just two different dictionaries that contain functions\n",
    "- A subclass points to its parent\n",
    "- The pointer means \" _I delegate work to this class_ \"\n",
    "    - not \"subclass specialize...\"\n",
    "    - parent is the subcontractor\n",
    "\n",
    "```\n",
    " InstDict1  +----------+\n",
    "                       |\n",
    "                       v\n",
    " InstDict2  +-----> SubClassDict +----> ParClassDict\n",
    "                       ^\n",
    "                       |\n",
    " InstDict3 +-----------+\n",
    "```\n",
    "\n",
    "- In other words, subclassing can be viewed as a technique for _code re-use_\n",
    "- It is the __subclass that is in charge__\n",
    "- The subclass decides what work gets delegated\n",
    "\n",
    "### Operational view vs the conceptual view\n",
    "\n",
    "__Operational__ view of subclassing:\n",
    "- Classes are dictionaries of functions\n",
    "- Subclasses point to other dictionaries to reuse their code\n",
    "    - subclass decides what work it contracts to\n",
    "- Subclasses are in complete control of what happens\n",
    "\n",
    "__Conceptual__ views of subclass:\n",
    "- Parent classes define an interface\n",
    "- Subclasses can extend that interface\n",
    "- Parents are in charge\n",
    "- Subclasses are just specializations of the parent\n",
    "    - Dog is an instance of Animal that knows how to bark\n",
    "    - Counter is an instance of dict that has a default of zero\n",
    "    - A named tuple is an instance of tuple that also has attribute access\n",
    " "
   ]
  },
  {
   "cell_type": "markdown",
   "metadata": {},
   "source": [
    "## Liskov Substitution Principle\n",
    "If S is a subtype of T, then objects of type T may be replaced with objects of the S\n",
    "\n",
    "```Python\n",
    "def name_pet(animal):\n",
    "    print(f'The pet\\'s name is {animal.name}')\n",
    "    \n",
    "name_pet(Animal('Polly'))\n",
    "name_pet(Dog('Fido'))\n",
    "```\n",
    "\n",
    "- It's all about _polymorphism_ and substitutability_ so that the subclass can be used in client code without changing the client code.\n",
    "\n",
    "### Liskov Violations\n",
    "- Any part of the API that isn't fully substitutable\n",
    "- This is common and normal\n",
    "- In particular, useful subclasses commonly have _different constructor signatures_\n",
    "- For example, the array API is very similar to the list API but the constructor is different => Not substitutable\n",
    "```Python\n",
    "    s = list(some_iter)\n",
    "    s = array('c', some_iter)\n",
    "```\n",
    "- Minimize impact\n",
    "            \n",
    "### Goal: isolate or minimize the impact\n",
    "- MutableSet instances support `union()`, `intersection()`, `difference()`\n",
    "- they need to be able to create new instances of MutableSets\n",
    "- but the signature of the constructor is unknown\n",
    "- so we factor out calls to the constructor in `_from_iterable()`\n",
    "    - as an adapter\n",
    "    - Call this instead of default constructor\n",
    "    \n",
    "```Python\n",
    "class TypeSet(MutableSet):\n",
    "    def __init__(self, thetype, iterable):\n",
    "        self.thetype = thetype\n",
    "        ...\n",
    "    \n",
    "        def _from_iterable(self, iterable):\n",
    "            'adapter for the constructor'\n",
    "            it = iter(iterable)\n",
    "            first = next(it)\n",
    "            return TypeSet(type(first), iterable)\n",
    "```\n",
    "- get union, intersect and differ for free by overriding `_from_iterable`"
   ]
  },
  {
   "cell_type": "markdown",
   "metadata": {},
   "source": [
    "### The Circle / Ellipse Problem\n",
    "- no right / wrong answer\n",
    "- subclasses reuse code in parent\n",
    "- i.e., parent should have the __most reusable code__\n",
    "\n",
    "\n",
    "- `exception` problem: \n",
    "    - exception like runtimeerror, valueerror, typeerror\n",
    "    - solution: multiple inheritance"
   ]
  },
  {
   "cell_type": "markdown",
   "metadata": {},
   "source": [
    "## Open-Closed Principle\n",
    "- \"Software entities (classes, modules, functions, etc.) should be open for extension, but closed for modification\"\n",
    "- many different interpretations\n",
    "    - (Java) use ABC to create fixed interfaces with multiple implementations\n",
    "    - objects have internal invariants and that subclasses shouldn't be able to break those invariants\n",
    "    - i.e., the classes capabilities can be extended but the underlying class sohuldn't get broken"
   ]
  },
  {
   "cell_type": "code",
   "execution_count": 12,
   "metadata": {},
   "outputs": [],
   "source": [
    "class CaseInsensitiveDict(dict):\n",
    "    def __setitem__(self, key, value):  # override setitem\n",
    "        key = key.lower()\n",
    "        dict.__setitem__(self, key, value)\n",
    "    def __getitem__(self, key):         # override getitem\n",
    "        key = key.lower()\n",
    "        return dict.__getitem__(self, key)\n",
    "# doesn't work\n",
    "# Overriding getitem isn't sufficient overriding `get`\n"
   ]
  },
  {
   "cell_type": "markdown",
   "metadata": {},
   "source": [
    "- dict has internal invariants\n",
    "- need to override every methods"
   ]
  },
  {
   "cell_type": "markdown",
   "metadata": {},
   "source": [
    "### OCP in Python with name mangling\n",
    "A method called `__update` in a class called MyDict transforms the name into `_MyDict__update`\n",
    "\n",
    "Class local reference\n",
    "\n",
    "This makes the method invisible to subclasses. Use this to create _protected internal callse_ in addition to overridable public methods.\n",
    "\n",
    "```Python\n",
    "class MyDict:\n",
    "    def __init__(self, iterable):\n",
    "        self.items_list = []\n",
    "        self.__update(iterable)\n",
    "    def update(self, iterable):\n",
    "        for item in iterable:\n",
    "            self.items_list.append(item)\n",
    "    __update = update\n",
    "```"
   ]
  }
 ],
 "metadata": {
  "kernelspec": {
   "display_name": "Python 3",
   "language": "python",
   "name": "python3"
  },
  "language_info": {
   "codemirror_mode": {
    "name": "ipython",
    "version": 3
   },
   "file_extension": ".py",
   "mimetype": "text/x-python",
   "name": "python",
   "nbconvert_exporter": "python",
   "pygments_lexer": "ipython3",
   "version": "3.6.7"
  },
  "toc": {
   "base_numbering": 1,
   "nav_menu": {},
   "number_sections": true,
   "sideBar": true,
   "skip_h1_title": false,
   "title_cell": "Table of Contents",
   "title_sidebar": "Contents",
   "toc_cell": false,
   "toc_position": {
    "height": "calc(100% - 180px)",
    "left": "10px",
    "top": "150px",
    "width": "316px"
   },
   "toc_section_display": true,
   "toc_window_display": true
  }
 },
 "nbformat": 4,
 "nbformat_minor": 2
}
