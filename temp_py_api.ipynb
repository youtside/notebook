{
 "cells": [
  {
   "cell_type": "markdown",
   "metadata": {},
   "source": [
    "# API design - lessons learned\n",
    "\n",
    "- Sometimes, one goodidea \n",
    "- Is over-powered by another conflicting goal\n",
    "\n",
    "## Environmental consideration\n",
    "- Does the API need to conform to a spec? If so, your hands are tied\n",
    "    - A good way\n",
    "    - Improves learnability\n",
    "    - Spec usually comes with tests (decimal)\n",
    "\n",
    "- Is there some well-known mataphor or other (external) expectation about what the API whould look like? \n",
    "    - Sets, for example (No learning curve)\n",
    "    - Study approaches in Java, c, etc\n",
    "    \n",
    "- Will the API be published broadly enought that you can't easily change it? \n",
    "    - hard to change down in the road\n",
    "    - Publish minimal API vs full api that as useful as possible\n",
    "    \n",
    "    \n",
    "## Designing array indicies to integers\n",
    "- We wanted `a[3L]` to work like `a[3]` and didn't mind `a[3.0]`\n",
    "- But `a[3.4]` working like `a[3]` is right out \n",
    "- new api: `__index__`\n",
    "\n",
    "- Principle\n",
    "    - when need to force multi input types into single type, need to tightened up and unwanted type need get caught\n",
    "    \n",
    "## Designing classes for subclassing\n",
    "- We wanted to override `dict.__setitem__` and have everything work\n",
    "- But we don't want to break invariants\n",
    "\n",
    "- At the time when designing class, no need for subclassing\n",
    "- Class design not done until considering subclasses\n",
    "    - `super.__init__`\n",
    "    - protect internal methods\n",
    "    - `__name`\n",
    "    \n",
    "- e.g., when subclasing `dict`, need to override every methods that's potentially change functionality\n",
    "\n",
    "- When designing own class, consider invariants\n",
    "\n",
    "- provide hooks instead of hard wiring class: monkey patch\n",
    "    - `dict.__getitem__` calls `__missing__()`\n"
   ]
  },
  {
   "cell_type": "markdown",
   "metadata": {},
   "source": [
    "## OCP\n",
    "```Python\n",
    "class D:\n",
    "    def __setitem__(self, b, c):\n",
    "        pass\n",
    "    def update(self, items):\n",
    "        for k, v in items:\n",
    "            self[k] = v\n",
    "class E(D):\n",
    "    def __setitem__(self, b, c): pass #changed\n",
    "    # When E use update, it will use new setitem \n",
    "    # behavior change\n",
    "    \n",
    "\n",
    "    \n",
    "class D:\n",
    "    __local__setitem__ = __setitem__ \n",
    "    ...\n",
    "    self.__local__setitem__(k, v)\n",
    "```"
   ]
  },
  {
   "cell_type": "markdown",
   "metadata": {},
   "source": [
    "## Recursive `__repr__`\n",
    "- we want to write: \n",
    "```Python\n",
    "@recursive_repr\n",
    "def __repr__(*args):\n",
    "    ...\n",
    "```\n",
    "and get output like `{\"a\": ...}`\n",
    "\n",
    "- But we got\n",
    "```Python\n",
    "@recursive_repr\n",
    "def __repr__(*args):\n",
    "    ...\n",
    "```\n",
    "\n",
    "- Why the decorator has `()`?\n",
    "    - The output `...` in `{'a':...}` is hard-wired\n",
    "    - ` @reprlib.recursive_repr(fillvalue=\"...\") `\n",
    "- To provide an __hook__: One or two arguments plus lots of default \n",
    "    - So that people can control behavior\n",
    "    \n",
    "- Principle\n",
    "    - hardwiring choises will severly limit your options for users to provide optimal arguments and flexiability (if you don't control the client code)\n",
    "    - but IF I can control the client code, the better option is to supply without the control line (simplest working code)"
   ]
  },
  {
   "cell_type": "code",
   "execution_count": 5,
   "metadata": {},
   "outputs": [
    {
     "data": {
      "text/plain": [
       "{'k': 3, 'e': {...}}"
      ]
     },
     "execution_count": 5,
     "metadata": {},
     "output_type": "execute_result"
    }
   ],
   "source": [
    "d = {}\n",
    "d['k'] = 3\n",
    "d['e'] = d\n",
    "d"
   ]
  },
  {
   "cell_type": "markdown",
   "metadata": {},
   "source": [
    "- principle\n",
    "Behaviour should be recognizable so person can anticipate what it going to do, not creating confusion\n",
    "\n",
    "- principle\n",
    "    - be nice, provocable, forgiving\n",
    "    - when a guy starts gussing what the other guy is doing, the behaviour became unrecognizable; others can't recognize its nice so start behaving evil"
   ]
  },
  {
   "cell_type": "markdown",
   "metadata": {},
   "source": [
    "## Conflicting constructor requirements\n",
    "- We want to write `itertools.chain(a, b, c)` and `SomeNT(a, b, c)`\n",
    "- But also need `itertools.chain(iterable)` and `SomeNT(iterable)`\n",
    "\n",
    "- When there are conflicting requirements for a constructor, the preferred solution is to serve each need with its own `classmethod`\n",
    "- Combining multiple signatures into one constructor hasn't worked out as well"
   ]
  },
  {
   "cell_type": "code",
   "execution_count": 8,
   "metadata": {},
   "outputs": [
    {
     "data": {
      "text/plain": [
       "[0, 1]"
      ]
     },
     "execution_count": 8,
     "metadata": {},
     "output_type": "execute_result"
    }
   ],
   "source": [
    "##\n",
    "a = list(range(10))\n",
    "a[:2]"
   ]
  }
 ],
 "metadata": {
  "kernelspec": {
   "display_name": "Python 3",
   "language": "python",
   "name": "python3"
  },
  "language_info": {
   "codemirror_mode": {
    "name": "ipython",
    "version": 3
   },
   "file_extension": ".py",
   "mimetype": "text/x-python",
   "name": "python",
   "nbconvert_exporter": "python",
   "pygments_lexer": "ipython3",
   "version": "3.6.7"
  },
  "toc": {
   "base_numbering": 1,
   "nav_menu": {},
   "number_sections": true,
   "sideBar": true,
   "skip_h1_title": false,
   "title_cell": "Table of Contents",
   "title_sidebar": "Contents",
   "toc_cell": false,
   "toc_position": {},
   "toc_section_display": true,
   "toc_window_display": false
  }
 },
 "nbformat": 4,
 "nbformat_minor": 2
}
