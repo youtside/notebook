{
 "cells": [
  {
   "cell_type": "markdown",
   "metadata": {},
   "source": [
    "* find the first occurrence letter"
   ]
  },
  {
   "cell_type": "code",
   "execution_count": 6,
   "metadata": {},
   "outputs": [
    {
     "name": "stdout",
     "output_type": "stream",
     "text": [
      "A\n"
     ]
    }
   ],
   "source": [
    "s = \"ABCABC\"\n",
    "\n",
    "def find_first_occurrence(input_string):\n",
    "    result_set = set()\n",
    "    for char in input_string:\n",
    "        if char not in result_set:\n",
    "            result_set.add(char)\n",
    "        else:\n",
    "            return char\n",
    "    else:\n",
    "        return None\n",
    "\n",
    "print(find_first_occurrence(s))\n",
    "    "
   ]
  },
  {
   "cell_type": "markdown",
   "metadata": {},
   "source": [
    "Print directories and sub directories"
   ]
  },
  {
   "cell_type": "code",
   "execution_count": 11,
   "metadata": {
    "collapsed": true
   },
   "outputs": [
    {
     "name": "stdout",
     "output_type": "stream",
     "text": [
      "C:\\Users\\yqian\\Documents\\.Rhistory\n",
      "C:\\Users\\yqian\\Documents\\1Password\\Backups\\1Password 2017-09-07 115604 (305 items).agilekeychain_zip\n",
      "C:\\Users\\yqian\\Documents\\1Password\\Backups\\1Password 2017-09-09 100508 (305 items).agilekeychain_zip\n",
      "C:\\Users\\yqian\\Documents\\1Password\\Backups\\1Password 2017-09-10 100510 (305 items).agilekeychain_zip\n",
      "C:\\Users\\yqian\\Documents\\1Password\\Backups\\1Password 2017-09-11 102638 (305 items).agilekeychain_zip\n",
      "C:\\Users\\yqian\\Documents\\1Password\\Backups\\1Password 2017-09-13 100059 (305 items).agilekeychain_zip\n",
      "C:\\Users\\yqian\\Documents\\1Password\\Backups\\1Password 2017-09-14 112842 (305 items).agilekeychain_zip\n",
      "C:\\Users\\yqian\\Documents\\1Password\\Backups\\1Password 2017-09-15 143645 (306 items).agilekeychain_zip\n",
      "C:\\Users\\yqian\\Documents\\1Password\\Backups\\1Password 2017-09-16 170936 (307 items).agilekeychain_zip\n",
      "C:\\Users\\yqian\\Documents\\1Password\\Backups\\1Password 2017-09-18 012847 (308 items).agilekeychain_zip\n",
      "C:\\Users\\yqian\\Documents\\1Password\\Backups\\1Password 2017-09-19 121504 (310 items).agilekeychain_zip\n",
      "C:\\Users\\yqian\\Documents\\1Password\\Backups\\1Password 2017-09-20 194832 (311 items).agilekeychain_zip\n",
      "C:\\Users\\yqian\\Documents\\1Password\\Backups\\1Password 2017-09-21 222533 (312 items).agilekeychain_zip\n",
      "C:\\Users\\yqian\\Documents\\1Password\\Backups\\1Password 2017-09-23 131617 (312 items).agilekeychain_zip\n",
      "C:\\Users\\yqian\\Documents\\1Password\\Backups\\1Password 2017-09-25 005307 (312 items).agilekeychain_zip\n",
      "C:\\Users\\yqian\\Documents\\1Password\\Backups\\1Password 2017-09-26 123616 (312 items).agilekeychain_zip\n",
      "C:\\Users\\yqian\\Documents\\1Password\\Backups\\1Password 2017-09-27 150611 (312 items).agilekeychain_zip\n",
      "C:\\Users\\yqian\\Documents\\1Password\\Backups\\1Password 2017-09-28 152247 (312 items).agilekeychain_zip\n",
      "C:\\Users\\yqian\\Documents\\1Password\\Backups\\1Password 2017-09-29 161828 (312 items).agilekeychain_zip\n",
      "C:\\Users\\yqian\\Documents\\1Password\\Backups\\1Password 2017-09-30 181216 (312 items).agilekeychain_zip\n",
      "C:\\Users\\yqian\\Documents\\1Password\\Backups\\1Password 2017-10-02 001325 (312 items).agilekeychain_zip\n",
      "C:\\Users\\yqian\\Documents\\1Password\\Backups\\1Password 2017-10-03 014928 (315 items).agilekeychain_zip\n",
      "C:\\Users\\yqian\\Documents\\1Password\\Backups\\1Password 2017-10-04 141507 (317 items).agilekeychain_zip\n",
      "C:\\Users\\yqian\\Documents\\1Password\\Backups\\1Password 2017-10-05 151610 (317 items).agilekeychain_zip\n",
      "C:\\Users\\yqian\\Documents\\1Password\\Backups\\1Password 2017-10-06 190814 (318 items).agilekeychain_zip\n",
      "C:\\Users\\yqian\\Documents\\1Password\\Backups\\1Password 2017-10-08 000149 (318 items).agilekeychain_zip\n",
      "C:\\Users\\yqian\\Documents\\1Password\\Backups\\1Password 2017-10-09 002408 (318 items).agilekeychain_zip\n",
      "C:\\Users\\yqian\\Documents\\1Password\\Backups\\1Password 2017-10-10 101545 (318 items).agilekeychain_zip\n",
      "C:\\Users\\yqian\\Documents\\1Password\\Backups\\1Password 2017-10-11 130301 (319 items).agilekeychain_zip\n",
      "C:\\Users\\yqian\\Documents\\1Password\\Backups\\1Password 2017-10-12 145650 (320 items).agilekeychain_zip\n",
      "C:\\Users\\yqian\\Documents\\1Password\\Backups\\1Password 2017-10-13 150641 (320 items).agilekeychain_zip\n",
      "C:\\Users\\yqian\\Documents\\1Password\\Backups\\1Password 2017-10-14 175506 (320 items).agilekeychain_zip\n",
      "C:\\Users\\yqian\\Documents\\1Password\\Backups\\1Password 2017-10-15 230006 (320 items).agilekeychain_zip\n",
      "C:\\Users\\yqian\\Documents\\1Password\\Backups\\1Password 2017-10-16 230454 (321 items).agilekeychain_zip\n",
      "C:\\Users\\yqian\\Documents\\1Password\\Backups\\1Password 2017-10-17 233730 (321 items).agilekeychain_zip\n",
      "C:\\Users\\yqian\\Documents\\1Password\\Backups\\1Password 2017-10-19 111525 (321 items).agilekeychain_zip\n",
      "C:\\Users\\yqian\\Documents\\1Password\\Backups\\1Password 2017-10-20 150308 (321 items).agilekeychain_zip\n",
      "C:\\Users\\yqian\\Documents\\1Password\\Backups\\1Password 2017-10-21 161402 (321 items).agilekeychain_zip\n",
      "C:\\Users\\yqian\\Documents\\1Password\\Backups\\1Password 2017-10-22 165523 (324 items).agilekeychain_zip\n",
      "C:\\Users\\yqian\\Documents\\1Password\\Backups\\1Password 2017-10-23 185055 (325 items).agilekeychain_zip\n",
      "C:\\Users\\yqian\\Documents\\1Password\\Backups\\1Password 2017-10-24 235519 (325 items).agilekeychain_zip\n",
      "C:\\Users\\yqian\\Documents\\1Password\\Backups\\1Password 2017-10-26 020031 (327 items).agilekeychain_zip\n",
      "C:\\Users\\yqian\\Documents\\1Password\\Backups\\1Password 2017-10-27 112002 (327 items).agilekeychain_zip\n",
      "C:\\Users\\yqian\\Documents\\1Password\\Backups\\1Password 2017-10-28 124505 (327 items).agilekeychain_zip\n",
      "C:\\Users\\yqian\\Documents\\1Password\\Backups\\1Password 2017-10-29 154616 (327 items).agilekeychain_zip\n",
      "C:\\Users\\yqian\\Documents\\1Password\\Backups\\1Password 2017-10-31 013454 (328 items).agilekeychain_zip\n",
      "C:\\Users\\yqian\\Documents\\1Password\\Backups\\1Password 2017-11-01 013609 (329 items).agilekeychain_zip\n",
      "C:\\Users\\yqian\\Documents\\1Password\\Backups\\1Password 2017-11-02 025348 (329 items).agilekeychain_zip\n",
      "C:\\Users\\yqian\\Documents\\1Password\\Backups\\1Password 2017-11-03 054013 (329 items).agilekeychain_zip\n",
      "C:\\Users\\yqian\\Documents\\1Password\\Backups\\1Password 2017-11-04 115706 (330 items).agilekeychain_zip\n",
      "C:\\Users\\yqian\\Documents\\1Password\\Backups\\1Password 2017-11-06 114008 (330 items).agilekeychain_zip\n",
      "C:\\Users\\yqian\\Documents\\Arbutus\\0-Primex Consolidated Sales Dashboard (PP)V1.5 SYS7.xlsm\n",
      "C:\\Users\\yqian\\Documents\\Arbutus\\0-Primex Consolidated Sales Dashboard (PP)V1.5.xlsm\n",
      "C:\\Users\\yqian\\Documents\\Arbutus\\0-Primex Consolidated Sales Dashboard (PP)V1.5_Sep18.xlsm\n",
      "C:\\Users\\yqian\\Documents\\Arbutus\\01-FinancialReports(PP).xlsx\n",
      "C:\\Users\\yqian\\Documents\\Arbutus\\01-Primex Financial Statement Analysis (PP) V1.10.xlsx\n",
      "C:\\Users\\yqian\\Documents\\Arbutus\\1-US Telco USD Sales Dashboard (PP)V1.51.xlsm\n",
      "C:\\Users\\yqian\\Documents\\Arbutus\\23973_20170716.xlsx\n",
      "C:\\Users\\yqian\\Documents\\Arbutus\\23973_20170716.xml\n",
      "C:\\Users\\yqian\\Documents\\Arbutus\\Book1.csv\n",
      "C:\\Users\\yqian\\Documents\\Arbutus\\BU Issue.xlsx\n",
      "C:\\Users\\yqian\\Documents\\Arbutus\\CARO_SalesDashboard_V1.0.xlsx\n",
      "C:\\Users\\yqian\\Documents\\Arbutus\\Invoice_20160429.xlsx\n",
      "C:\\Users\\yqian\\Documents\\Arbutus\\Invoice_20160429.xml\n",
      "C:\\Users\\yqian\\Documents\\Arbutus\\Primex\\0-Primex Consolidated Sales Dashboard (PP)V1.5 SYS7 - Copy.xlsm\n",
      "C:\\Users\\yqian\\Documents\\Arbutus\\Primex\\0-Primex Consolidated Sales Dashboard (PP)V1.5.xlsm\n",
      "C:\\Users\\yqian\\Documents\\Arbutus\\Primex\\0-Primex Consolidated Sales Dashboard (PP)V1_backup.5 SYS7_backup.xlsm\n",
      "C:\\Users\\yqian\\Documents\\Arbutus\\Primex\\0-Primex PowerPivot Report Tables.xlsm\n",
      "C:\\Users\\yqian\\Documents\\Arbutus\\Primex\\01-Primex Financial Statement Analysis (PP) V1.10 SYS7.xlsx\n",
      "C:\\Users\\yqian\\Documents\\Arbutus\\Primex\\Booked Orders.xlsx\n",
      "C:\\Users\\yqian\\Documents\\Arbutus\\Primex\\BudgetF2018.xlsx\n",
      "C:\\Users\\yqian\\Documents\\Arbutus\\Primex\\Cashbook Differences.xlsx\n",
      "C:\\Users\\yqian\\Documents\\Arbutus\\Primex\\CustShipToArea.xlsx\n",
      "C:\\Users\\yqian\\Documents\\Arbutus\\Primex\\F2018\\Consolidated_SalesPlan_US.xlsx\n",
      "C:\\Users\\yqian\\Documents\\Arbutus\\Primex\\F2018\\Copy of T-Primex_BudgetRoadmapF2018_01_J.Leik.xlsx\n",
      "C:\\Users\\yqian\\Documents\\Arbutus\\Primex\\F2018\\T-Primex_BudgetRoadmapF2018_01_B.Blystone.xlsx\n",
      "C:\\Users\\yqian\\Documents\\Arbutus\\Primex\\F2018\\T-Primex_BudgetRoadmapF2018_01_C.Giboney.xlsx\n",
      "C:\\Users\\yqian\\Documents\\Arbutus\\Primex\\F2018\\T-Primex_BudgetRoadmapF2018_01_California.xlsx\n",
      "C:\\Users\\yqian\\Documents\\Arbutus\\Primex\\F2018\\T-Primex_BudgetRoadmapF2018_01_J.Harsh.xlsx\n",
      "C:\\Users\\yqian\\Documents\\Arbutus\\Primex\\F2018\\T-Primex_BudgetRoadmapF2018_01_J.Leik.xlsx\n",
      "C:\\Users\\yqian\\Documents\\Arbutus\\Primex\\F2018\\T-Primex_BudgetRoadmapF2018_01_K.Pena.xlsx\n",
      "C:\\Users\\yqian\\Documents\\Arbutus\\Primex\\F2018\\T-Primex_BudgetRoadmapF2018_01_M.Harji.xlsx\n",
      "C:\\Users\\yqian\\Documents\\Arbutus\\Primex\\F2018\\T-Primex_BudgetRoadmapF2018_01_M.Wolski.xlsx\n",
      "C:\\Users\\yqian\\Documents\\Arbutus\\Primex\\F2018\\T-Primex_BudgetRoadmapF2018_01_N.Todorov.xlsx\n",
      "C:\\Users\\yqian\\Documents\\Arbutus\\Primex\\F2018\\T-Primex_BudgetRoadmapF2018_01_National.xlsx\n",
      "C:\\Users\\yqian\\Documents\\Arbutus\\Primex\\F2018\\T-Primex_BudgetRoadmapF2018_01_US West.xlsx\n",
      "C:\\Users\\yqian\\Documents\\Arbutus\\Primex\\F2018\\T-Primex_BudgetRoadmapF2018_01_US-OEM.xlsx\n",
      "C:\\Users\\yqian\\Documents\\Arbutus\\Primex\\F2018\\T-Primex_BudgetRoadmapF2018_02_D.Abreo.xlsx\n",
      "C:\\Users\\yqian\\Documents\\Arbutus\\Primex\\F2018\\T-Primex_BudgetRoadmapF2018_02_L.Connell.xlsx\n",
      "C:\\Users\\yqian\\Documents\\Arbutus\\Primex\\F2018\\T-Primex_BudgetRoadmapF2018_02_T.Burdett (2).xlsx\n",
      "C:\\Users\\yqian\\Documents\\Arbutus\\Primex\\F2018\\T-Primex_BudgetRoadmapF2018_02_T.Burdett.xlsx\n",
      "C:\\Users\\yqian\\Documents\\Arbutus\\Primex\\F2018\\~$D.Abreo.xlsx\n",
      "C:\\Users\\yqian\\Documents\\Arbutus\\Primex\\How to add additional field to the PowerPivot workbook.docx\n",
      "C:\\Users\\yqian\\Documents\\Arbutus\\Primex\\How to add and check a slicer in PowerPivot report.docx\n",
      "C:\\Users\\yqian\\Documents\\Arbutus\\Primex\\primex logo small.png\n",
      "C:\\Users\\yqian\\Documents\\Arbutus\\Primex\\SalesBudgetF2018_USCAN_PQ - Copy.xlsx\n",
      "C:\\Users\\yqian\\Documents\\Arbutus\\Primex\\SalesBudgetF2018_USCAN_PQ.xlsx\n",
      "C:\\Users\\yqian\\Documents\\Arbutus\\Primex\\SalesBudgetF2018_US_PQ.xlsx\n",
      "C:\\Users\\yqian\\Documents\\Arbutus\\Primex\\SalesDashboard_PowerBI.pbix\n",
      "C:\\Users\\yqian\\Documents\\Arbutus\\Primex Comparison.xlsx\n",
      "C:\\Users\\yqian\\Documents\\Arbutus\\Primex Sales Dashboard.pbix\n",
      "C:\\Users\\yqian\\Documents\\Arbutus\\PrimexLogo.png\n",
      "C:\\Users\\yqian\\Documents\\Arbutus\\PSI\\Mv.sql\n",
      "C:\\Users\\yqian\\Documents\\Arbutus\\PSI\\Mv.xml\n",
      "C:\\Users\\yqian\\Documents\\Arbutus\\PSI\\MVSTOCKCOSTQTYSOLD.MKD\n",
      "C:\\Users\\yqian\\Documents\\Arbutus\\PSI\\PSI_BelowMinReport_Automated_withCost.xlsx\n",
      "C:\\Users\\yqian\\Documents\\Arbutus\\PSI\\PSI_PPReportTables.xlsx\n",
      "C:\\Users\\yqian\\Documents\\Arbutus\\PSI\\PSI_SalesDashboard_V1.2.xlsx\n",
      "C:\\Users\\yqian\\Documents\\Arbutus\\PSI\\PSI_SalesDashboard_V1.3.xlsx\n",
      "C:\\Users\\yqian\\Documents\\Arbutus\\PSI\\PSQL.zip\n",
      "C:\\Users\\yqian\\Documents\\Arbutus\\PSI\\SalesDashboardDatabaseTables.zip\n",
      "C:\\Users\\yqian\\Documents\\Arbutus\\PSI\\Unassigned Cust Salesman list v2.xlsx\n",
      "C:\\Users\\yqian\\Documents\\Arbutus\\PSI\\Unassigned Cust Salesman list.xlsx\n",
      "C:\\Users\\yqian\\Documents\\Arbutus\\PSI\\Views.sql\n",
      "C:\\Users\\yqian\\Documents\\Arbutus\\PSI\\VILLFinancialReportingPackage(PP)_YearEndOct31.xlsx\n",
      "C:\\Users\\yqian\\Documents\\Arbutus\\PSI\\VILL_FactSalesArchive.sql\n",
      "C:\\Users\\yqian\\Documents\\Arbutus\\PSI\\VILL_SalesDashboard_V0.2.xlsx.zip\n",
      "C:\\Users\\yqian\\Documents\\Arbutus\\PSI\\VILL_SalesDashboard_V1.2_Historical.xlsx\n",
      "C:\\Users\\yqian\\Documents\\Arbutus\\PSI\\VILL_UpdateStockCostQtySold\n",
      "C:\\Users\\yqian\\Documents\\Arbutus\\PSI\\VIS_PPReportTables.xlsx\n",
      "C:\\Users\\yqian\\Documents\\Arbutus\\Universal Invoices 20160429.xlsx\n",
      "C:\\Users\\yqian\\Documents\\Arbutus\\US Telco Sales Dashboard.pbix\n",
      "C:\\Users\\yqian\\Documents\\Arbutus\\VILL_Financial Statement Analysis v0.1_MN.xlsx\n",
      "C:\\Users\\yqian\\Documents\\Default.rdp\n",
      "C:\\Users\\yqian\\Documents\\desktop.ini\n",
      "C:\\Users\\yqian\\Documents\\Misc\\maximum_likelihood.pdf\n",
      "C:\\Users\\yqian\\Documents\\MS Partner\\Modern Partner Series-Part 3-Modernize Sales and Marketing.pdf\n",
      "C:\\Users\\yqian\\Documents\\MS Partner\\Modern-Partner-Series-Part-2-Differentiate-to-stand-out.pdf\n",
      "C:\\Users\\yqian\\Documents\\MS Partner\\The Booming Cloud Opportunity.pdf\n",
      "C:\\Users\\yqian\\Documents\\MS Partner\\The Modern Microsoft Partner Series Part 4 - Optimize your Operations 2016.pdf\n",
      "C:\\Users\\yqian\\Documents\\MS Partner\\The Modern Microsoft Partner Series Part 5-Deliver Customer Lifetime Value 2016.pdf\n",
      "C:\\Users\\yqian\\Documents\\My Data Sources\\+Connect to New Data Source.odc\n",
      "C:\\Users\\yqian\\Documents\\My Data Sources\\+NewSQLServerConnection.odc\n",
      "C:\\Users\\yqian\\Documents\\My Data Sources\\DESKTOP.INI\n",
      "C:\\Users\\yqian\\Documents\\My Data Sources\\FOLDER.ICO\n",
      "C:\\Users\\yqian\\Documents\\My Digital Editions\\Annotations\\Python for Data Analysis.pdf.annot\n",
      "C:\\Users\\yqian\\Documents\\My Digital Editions\\Annotations\\welcome.epub.annot\n",
      "C:\\Users\\yqian\\Documents\\My Digital Editions\\Manifest\\Python for Data Analysis.pdf.xml\n",
      "C:\\Users\\yqian\\Documents\\My Digital Editions\\Manifest\\welcome.epub.xml\n",
      "C:\\Users\\yqian\\Documents\\My Digital Editions\\Python for Data Analysis.pdf\n",
      "C:\\Users\\yqian\\Documents\\My Digital Editions\\Tags\\borrowed.xml\n",
      "C:\\Users\\yqian\\Documents\\My Digital Editions\\Tags\\purchased.xml\n",
      "C:\\Users\\yqian\\Documents\\My Digital Editions\\Thumbnails\\Python for Data Analysis.pdf.png\n",
      "C:\\Users\\yqian\\Documents\\My Digital Editions\\Thumbnails\\welcome.epub.png\n",
      "C:\\Users\\yqian\\Documents\\My Digital Editions\\welcome.epub\n",
      "C:\\Users\\yqian\\Documents\\My Games\\Fallout4\\Fallout4.ini\n",
      "C:\\Users\\yqian\\Documents\\My Games\\Fallout4\\Fallout4.rar\n",
      "C:\\Users\\yqian\\Documents\\My Games\\Fallout4\\Fallout4Custom.ini\n",
      "C:\\Users\\yqian\\Documents\\My Games\\Fallout4\\Fallout4Prefs.ini\n",
      "C:\\Users\\yqian\\Documents\\My Games\\Fallout4\\Saves\\Autosave1_3B7DB231__SanctuaryHillsWorld_000002_20171016214814_1_2.fos\n",
      "C:\\Users\\yqian\\Documents\\My Games\\Fallout4\\Saves\\Exitsave0_3B7DB231__SanctuaryHillsWorld_000003_20171016214907_1_2.fos\n",
      "C:\\Users\\yqian\\Documents\\My Games\\Fallout4\\Saves\\Quicksave0_3B7DB231__SanctuaryHillsWorld_000003_20171016214902_1_2.fos\n"
     ]
    },
    {
     "ename": "PermissionError",
     "evalue": "[WinError 5] Access is denied: 'C:\\\\Users\\\\yqian\\\\Documents\\\\My Music'",
     "output_type": "error",
     "traceback": [
      "\u001b[1;31m---------------------------------------------------------------------------\u001b[0m",
      "\u001b[1;31mPermissionError\u001b[0m                           Traceback (most recent call last)",
      "\u001b[1;32m<ipython-input-11-2c6e6784e57c>\u001b[0m in \u001b[0;36m<module>\u001b[1;34m()\u001b[0m\n\u001b[0;32m      7\u001b[0m         \u001b[1;32melse\u001b[0m\u001b[1;33m:\u001b[0m\u001b[1;33m\u001b[0m\u001b[0m\n\u001b[0;32m      8\u001b[0m             \u001b[0mprint\u001b[0m\u001b[1;33m(\u001b[0m\u001b[0msChildPath\u001b[0m\u001b[1;33m)\u001b[0m\u001b[1;33m\u001b[0m\u001b[0m\n\u001b[1;32m----> 9\u001b[1;33m \u001b[0mprint_directory_contents\u001b[0m\u001b[1;33m(\u001b[0m\u001b[1;34m\"C:\\\\Users\\\\yqian\\Documents\"\u001b[0m\u001b[1;33m)\u001b[0m\u001b[1;33m\u001b[0m\u001b[0m\n\u001b[0m",
      "\u001b[1;32m<ipython-input-11-2c6e6784e57c>\u001b[0m in \u001b[0;36mprint_directory_contents\u001b[1;34m(sPath)\u001b[0m\n\u001b[0;32m      4\u001b[0m         \u001b[0msChildPath\u001b[0m \u001b[1;33m=\u001b[0m \u001b[0mos\u001b[0m\u001b[1;33m.\u001b[0m\u001b[0mpath\u001b[0m\u001b[1;33m.\u001b[0m\u001b[0mjoin\u001b[0m\u001b[1;33m(\u001b[0m\u001b[0msPath\u001b[0m\u001b[1;33m,\u001b[0m \u001b[0msChild\u001b[0m\u001b[1;33m)\u001b[0m\u001b[1;33m\u001b[0m\u001b[0m\n\u001b[0;32m      5\u001b[0m         \u001b[1;32mif\u001b[0m \u001b[0mos\u001b[0m\u001b[1;33m.\u001b[0m\u001b[0mpath\u001b[0m\u001b[1;33m.\u001b[0m\u001b[0misdir\u001b[0m\u001b[1;33m(\u001b[0m\u001b[0msChildPath\u001b[0m\u001b[1;33m)\u001b[0m\u001b[1;33m:\u001b[0m\u001b[1;33m\u001b[0m\u001b[0m\n\u001b[1;32m----> 6\u001b[1;33m             \u001b[0mprint_directory_contents\u001b[0m\u001b[1;33m(\u001b[0m\u001b[0msChildPath\u001b[0m\u001b[1;33m)\u001b[0m\u001b[1;33m\u001b[0m\u001b[0m\n\u001b[0m\u001b[0;32m      7\u001b[0m         \u001b[1;32melse\u001b[0m\u001b[1;33m:\u001b[0m\u001b[1;33m\u001b[0m\u001b[0m\n\u001b[0;32m      8\u001b[0m             \u001b[0mprint\u001b[0m\u001b[1;33m(\u001b[0m\u001b[0msChildPath\u001b[0m\u001b[1;33m)\u001b[0m\u001b[1;33m\u001b[0m\u001b[0m\n",
      "\u001b[1;32m<ipython-input-11-2c6e6784e57c>\u001b[0m in \u001b[0;36mprint_directory_contents\u001b[1;34m(sPath)\u001b[0m\n\u001b[0;32m      1\u001b[0m \u001b[1;32mdef\u001b[0m \u001b[0mprint_directory_contents\u001b[0m\u001b[1;33m(\u001b[0m\u001b[0msPath\u001b[0m\u001b[1;33m)\u001b[0m\u001b[1;33m:\u001b[0m\u001b[1;33m\u001b[0m\u001b[0m\n\u001b[0;32m      2\u001b[0m     \u001b[1;32mimport\u001b[0m \u001b[0mos\u001b[0m\u001b[1;33m\u001b[0m\u001b[0m\n\u001b[1;32m----> 3\u001b[1;33m     \u001b[1;32mfor\u001b[0m \u001b[0msChild\u001b[0m \u001b[1;32min\u001b[0m \u001b[0mos\u001b[0m\u001b[1;33m.\u001b[0m\u001b[0mlistdir\u001b[0m\u001b[1;33m(\u001b[0m\u001b[0msPath\u001b[0m\u001b[1;33m)\u001b[0m\u001b[1;33m:\u001b[0m\u001b[1;33m\u001b[0m\u001b[0m\n\u001b[0m\u001b[0;32m      4\u001b[0m         \u001b[0msChildPath\u001b[0m \u001b[1;33m=\u001b[0m \u001b[0mos\u001b[0m\u001b[1;33m.\u001b[0m\u001b[0mpath\u001b[0m\u001b[1;33m.\u001b[0m\u001b[0mjoin\u001b[0m\u001b[1;33m(\u001b[0m\u001b[0msPath\u001b[0m\u001b[1;33m,\u001b[0m \u001b[0msChild\u001b[0m\u001b[1;33m)\u001b[0m\u001b[1;33m\u001b[0m\u001b[0m\n\u001b[0;32m      5\u001b[0m         \u001b[1;32mif\u001b[0m \u001b[0mos\u001b[0m\u001b[1;33m.\u001b[0m\u001b[0mpath\u001b[0m\u001b[1;33m.\u001b[0m\u001b[0misdir\u001b[0m\u001b[1;33m(\u001b[0m\u001b[0msChildPath\u001b[0m\u001b[1;33m)\u001b[0m\u001b[1;33m:\u001b[0m\u001b[1;33m\u001b[0m\u001b[0m\n",
      "\u001b[1;31mPermissionError\u001b[0m: [WinError 5] Access is denied: 'C:\\\\Users\\\\yqian\\\\Documents\\\\My Music'"
     ]
    }
   ],
   "source": [
    "def print_directory_contents(sPath):\n",
    "    import os\n",
    "    for sChild in os.listdir(sPath):\n",
    "        sChildPath = os.path.join(sPath, sChild)\n",
    "        if os.path.isdir(sChildPath):\n",
    "            print_directory_contents(sChildPath)\n",
    "        else:\n",
    "            print(sChildPath)\n",
    "print_directory_contents(\"C:\\\\Users\\\\yqian\\Documents\")"
   ]
  },
  {
   "cell_type": "markdown",
   "metadata": {},
   "source": [
    "## Mutable in arguments\n",
    "* Don't use mutable types as default arguments. They hang around and you get these nasty side effects."
   ]
  },
  {
   "cell_type": "code",
   "execution_count": 17,
   "metadata": {},
   "outputs": [
    {
     "name": "stdout",
     "output_type": "stream",
     "text": [
      "[0, 1] 1352091438536\n",
      "[3, 2, 1, 0, 1, 4] 1352108425736\n",
      "[0, 1, 0, 1, 4] 1352091438536\n"
     ]
    }
   ],
   "source": [
    "def f(x,l=[]):\n",
    "    for i in range(x):\n",
    "        l.append(i*i)\n",
    "    print(l, id(l))\n",
    "\n",
    "f(2)\n",
    "f(3,[3,2,1])\n",
    "f(3)\n"
   ]
  },
  {
   "cell_type": "markdown",
   "metadata": {},
   "source": [
    "## What is \\*args and **kwargs? How to use them? "
   ]
  },
  {
   "cell_type": "markdown",
   "metadata": {},
   "source": [
    "## @classmethod, @staticmethod, @property?\n",
    "* All are decorator (syntactic sugar)\n",
    "* @classmethod, the first argument is always class (cls)\n",
    "* @staticmethod: no there default arguments\n",
    "* @property: getter / setter. can't do o.some_property(). \"Read-only\" property: only implement getter, not setter"
   ]
  },
  {
   "cell_type": "code",
   "execution_count": 39,
   "metadata": {
    "collapsed": true
   },
   "outputs": [],
   "source": [
    "class MyClass(object):\n",
    "    def __init__(self):\n",
    "        self._some_property = \"properties are nice\"\n",
    "        self._some_other_property = \"VERY nice\"\n",
    "    def normal_method(*args,**kwargs):\n",
    "        print(\"calling normal_method({0},{1})\".format(args,kwargs))\n",
    "    @classmethod\n",
    "    def class_method(*args,**kwargs):\n",
    "        print(\"calling class_method({0},{1})\".format(args,kwargs))\n",
    "    @staticmethod\n",
    "    def static_method(*args,**kwargs):\n",
    "        print(\"calling static_method({0},{1})\".format(args,kwargs))\n",
    "    @property\n",
    "    def some_property(self,*args,**kwargs):\n",
    "        print(\"calling some_property getter({0},{1},{2})\".format(self,args,kwargs))\n",
    "        return self._some_property\n",
    "    @some_property.setter\n",
    "    def some_property(self,*args,**kwargs):\n",
    "        print(\"calling some_property setter({0},{1},{2})\".format(self,args,kwargs))\n",
    "        self._some_property = args[0]\n",
    "    @property\n",
    "    def some_other_property(self,*args,**kwargs):\n",
    "        print(\"calling some_other_property getter({0},{1},{2})\".format(self,args,kwargs))\n",
    "        return self._some_other_property"
   ]
  },
  {
   "cell_type": "markdown",
   "metadata": {},
   "source": [
    "## Output from below code? (python inheritance / super)\n",
    "### MRO: Method Resolution Order\n",
    "```Python\n",
    "D.mro()\n",
    "```"
   ]
  },
  {
   "cell_type": "code",
   "execution_count": 31,
   "metadata": {},
   "outputs": [
    {
     "name": "stdout",
     "output_type": "stream",
     "text": [
      "go A go!\n",
      "go A go!\n",
      "go B go!\n",
      "go A go!\n",
      "go C go!\n",
      "go A go!\n",
      "go C go!\n",
      "go B go!\n",
      "go D go!\n",
      "go A go!\n",
      "go C go!\n",
      "go B go!\n",
      "stop A stop!\n",
      "stop A stop!\n",
      "stop A stop!\n",
      "stop C stop!\n",
      "stop A stop!\n",
      "stop C stop!\n",
      "stop D stop!\n",
      "stop A stop!\n",
      "stop C stop!\n"
     ]
    },
    {
     "ename": "Exception",
     "evalue": "Not Implemented",
     "output_type": "error",
     "traceback": [
      "\u001b[1;31m---------------------------------------------------------------------------\u001b[0m",
      "\u001b[1;31mException\u001b[0m                                 Traceback (most recent call last)",
      "\u001b[1;32m<ipython-input-31-12e52e9e5144>\u001b[0m in \u001b[0;36m<module>\u001b[1;34m()\u001b[0m\n\u001b[0;32m     52\u001b[0m \u001b[0me\u001b[0m\u001b[1;33m.\u001b[0m\u001b[0mstop\u001b[0m\u001b[1;33m(\u001b[0m\u001b[1;33m)\u001b[0m\u001b[1;33m\u001b[0m\u001b[0m\n\u001b[0;32m     53\u001b[0m \u001b[1;33m\u001b[0m\u001b[0m\n\u001b[1;32m---> 54\u001b[1;33m \u001b[0ma\u001b[0m\u001b[1;33m.\u001b[0m\u001b[0mpause\u001b[0m\u001b[1;33m(\u001b[0m\u001b[1;33m)\u001b[0m\u001b[1;33m\u001b[0m\u001b[0m\n\u001b[0m\u001b[0;32m     55\u001b[0m \u001b[0mb\u001b[0m\u001b[1;33m.\u001b[0m\u001b[0mpause\u001b[0m\u001b[1;33m(\u001b[0m\u001b[1;33m)\u001b[0m\u001b[1;33m\u001b[0m\u001b[0m\n\u001b[0;32m     56\u001b[0m \u001b[0mc\u001b[0m\u001b[1;33m.\u001b[0m\u001b[0mpause\u001b[0m\u001b[1;33m(\u001b[0m\u001b[1;33m)\u001b[0m\u001b[1;33m\u001b[0m\u001b[0m\n",
      "\u001b[1;32m<ipython-input-31-12e52e9e5144>\u001b[0m in \u001b[0;36mpause\u001b[1;34m(self)\u001b[0m\n\u001b[0;32m      5\u001b[0m         \u001b[0mprint\u001b[0m\u001b[1;33m(\u001b[0m\u001b[1;34m\"stop A stop!\"\u001b[0m\u001b[1;33m)\u001b[0m\u001b[1;33m\u001b[0m\u001b[0m\n\u001b[0;32m      6\u001b[0m     \u001b[1;32mdef\u001b[0m \u001b[0mpause\u001b[0m\u001b[1;33m(\u001b[0m\u001b[0mself\u001b[0m\u001b[1;33m)\u001b[0m\u001b[1;33m:\u001b[0m\u001b[1;33m\u001b[0m\u001b[0m\n\u001b[1;32m----> 7\u001b[1;33m         \u001b[1;32mraise\u001b[0m \u001b[0mException\u001b[0m\u001b[1;33m(\u001b[0m\u001b[1;34m\"Not Implemented\"\u001b[0m\u001b[1;33m)\u001b[0m\u001b[1;33m\u001b[0m\u001b[0m\n\u001b[0m\u001b[0;32m      8\u001b[0m \u001b[1;33m\u001b[0m\u001b[0m\n\u001b[0;32m      9\u001b[0m \u001b[1;32mclass\u001b[0m \u001b[0mB\u001b[0m\u001b[1;33m(\u001b[0m\u001b[0mA\u001b[0m\u001b[1;33m)\u001b[0m\u001b[1;33m:\u001b[0m\u001b[1;33m\u001b[0m\u001b[0m\n",
      "\u001b[1;31mException\u001b[0m: Not Implemented"
     ]
    }
   ],
   "source": [
    "class A(object):\n",
    "    def go(self):\n",
    "        print(\"go A go!\")\n",
    "    def stop(self):\n",
    "        print(\"stop A stop!\")\n",
    "    def pause(self):\n",
    "        raise Exception(\"Not Implemented\")\n",
    "\n",
    "class B(A):\n",
    "    def go(self):\n",
    "        super(B, self).go()\n",
    "        print(\"go B go!\")\n",
    "\n",
    "class C(A):\n",
    "    def go(self):\n",
    "        super(C, self).go()\n",
    "        print(\"go C go!\")\n",
    "    def stop(self):\n",
    "        super(C, self).stop()\n",
    "        print(\"stop C stop!\")\n",
    "\n",
    "class D(B,C):\n",
    "    def go(self):\n",
    "        super(D, self).go()\n",
    "        print(\"go D go!\")\n",
    "    def stop(self):\n",
    "        super(D, self).stop()\n",
    "        print(\"stop D stop!\")\n",
    "    def pause(self):\n",
    "        print(\"wait D wait!\")\n",
    "\n",
    "class E(B,C): pass\n",
    "\n",
    "a = A()\n",
    "b = B()\n",
    "c = C()\n",
    "d = D()\n",
    "e = E()\n",
    "\n",
    "# 说明下列代码的输出结果\n",
    "\n",
    "a.go()\n",
    "b.go()\n",
    "c.go()\n",
    "d.go()\n",
    "e.go()\n",
    "\n",
    "a.stop()\n",
    "b.stop()\n",
    "c.stop()\n",
    "d.stop()\n",
    "e.stop()\n",
    "\n",
    "a.pause()\n",
    "b.pause()\n",
    "c.pause()\n",
    "d.pause()\n",
    "e.pause()"
   ]
  },
  {
   "cell_type": "markdown",
   "metadata": {},
   "source": [
    "## Python Garbage Collection\n",
    "* reference count -> if count==0: mark delete\n",
    "* reference cycle\n",
    "* heuristics"
   ]
  },
  {
   "cell_type": "markdown",
   "metadata": {},
   "source": [
    "## Rate the effiency of functions and prove it\n",
    "import cProfile"
   ]
  },
  {
   "cell_type": "code",
   "execution_count": 23,
   "metadata": {},
   "outputs": [
    {
     "name": "stdout",
     "output_type": "stream",
     "text": [
      "         7 function calls in 0.055 seconds\n",
      "\n",
      "   Ordered by: standard name\n",
      "\n",
      "   ncalls  tottime  percall  cumtime  percall filename:lineno(function)\n",
      "        1    0.000    0.000    0.054    0.054 <ipython-input-23-2956a18904b4>:1(f1)\n",
      "        1    0.012    0.012    0.012    0.012 <ipython-input-23-2956a18904b4>:3(<listcomp>)\n",
      "        1    0.008    0.008    0.008    0.008 <ipython-input-23-2956a18904b4>:4(<listcomp>)\n",
      "        1    0.001    0.001    0.055    0.055 <string>:1(<module>)\n",
      "        1    0.000    0.000    0.055    0.055 {built-in method builtins.exec}\n",
      "        1    0.034    0.034    0.034    0.034 {built-in method builtins.sorted}\n",
      "        1    0.000    0.000    0.000    0.000 {method 'disable' of '_lsprof.Profiler' objects}\n",
      "\n",
      "\n",
      "         7 function calls in 0.072 seconds\n",
      "\n",
      "   Ordered by: standard name\n",
      "\n",
      "   ncalls  tottime  percall  cumtime  percall filename:lineno(function)\n",
      "        1    0.000    0.000    0.069    0.069 <ipython-input-23-2956a18904b4>:6(f2)\n",
      "        1    0.007    0.007    0.007    0.007 <ipython-input-23-2956a18904b4>:7(<listcomp>)\n",
      "        1    0.013    0.013    0.013    0.013 <ipython-input-23-2956a18904b4>:9(<listcomp>)\n",
      "        1    0.003    0.003    0.072    0.072 <string>:1(<module>)\n",
      "        1    0.000    0.000    0.072    0.072 {built-in method builtins.exec}\n",
      "        1    0.048    0.048    0.048    0.048 {built-in method builtins.sorted}\n",
      "        1    0.000    0.000    0.000    0.000 {method 'disable' of '_lsprof.Profiler' objects}\n",
      "\n",
      "\n",
      "         7 function calls in 0.143 seconds\n",
      "\n",
      "   Ordered by: standard name\n",
      "\n",
      "   ncalls  tottime  percall  cumtime  percall filename:lineno(function)\n",
      "        1    0.000    0.000    0.137    0.137 <ipython-input-23-2956a18904b4>:11(f3)\n",
      "        1    0.019    0.019    0.019    0.019 <ipython-input-23-2956a18904b4>:12(<listcomp>)\n",
      "        1    0.015    0.015    0.015    0.015 <ipython-input-23-2956a18904b4>:14(<listcomp>)\n",
      "        1    0.005    0.005    0.143    0.143 <string>:1(<module>)\n",
      "        1    0.000    0.000    0.143    0.143 {built-in method builtins.exec}\n",
      "        1    0.103    0.103    0.103    0.103 {built-in method builtins.sorted}\n",
      "        1    0.000    0.000    0.000    0.000 {method 'disable' of '_lsprof.Profiler' objects}\n",
      "\n",
      "\n"
     ]
    }
   ],
   "source": [
    "def f1(lIn):\n",
    "    l1 = sorted(lIn)\n",
    "    l2 = [i for i in l1 if i<0.5]\n",
    "    return [i*i for i in l2]\n",
    "\n",
    "def f2(lIn):\n",
    "    l1 = [i for i in lIn if i<0.5]\n",
    "    l2 = sorted(l1)\n",
    "    return [i*i for i in l2]\n",
    "\n",
    "def f3(lIn):\n",
    "    l1 = [i*i for i in lIn]\n",
    "    l2 = sorted(l1)\n",
    "    return [i for i in l1 if i<(0.5*0.5)]\n",
    "\n",
    "\n",
    "#################\n",
    "import cProfile\n",
    "import random\n",
    "lIn = [random.random() for i in range(100000)]\n",
    "cProfile.run('f1(lIn)')\n",
    "cProfile.run('f2(lIn)')\n",
    "cProfile.run('f3(lIn)')"
   ]
  },
  {
   "cell_type": "markdown",
   "metadata": {},
   "source": [
    "## depth first search vs breadth first search"
   ]
  },
  {
   "cell_type": "code",
   "execution_count": 36,
   "metadata": {},
   "outputs": [
    {
     "name": "stdout",
     "output_type": "stream",
     "text": [
      "<Node 'root'>\n",
      "<Node 'child1'>\n",
      "<Node 'child4'>\n",
      "<Node 'child7'>\n",
      "<Node 'child5'>\n",
      "<Node 'child2'>\n",
      "<Node 'child6'>\n",
      "<Node 'child10'>\n",
      "<Node 'child3'>\n",
      "<Node 'child8'>\n",
      "<Node 'child9'>\n",
      "<Node 'root'>\n",
      "<Node 'child1'>\n",
      "<Node 'child2'>\n",
      "<Node 'child3'>\n",
      "<Node 'child4'>\n",
      "<Node 'child5'>\n",
      "<Node 'child6'>\n",
      "<Node 'child8'>\n",
      "<Node 'child9'>\n",
      "<Node 'child7'>\n",
      "<Node 'child10'>\n"
     ]
    }
   ],
   "source": [
    "class Node(object):\n",
    "    def __init__(self,sName):\n",
    "        self._lChildren = []\n",
    "        self.sName = sName\n",
    "    def __repr__(self):\n",
    "        return \"<Node '{}'>\".format(self.sName)\n",
    "    def append(self,*args,**kwargs):\n",
    "        self._lChildren.append(*args,**kwargs)\n",
    "    def print_all_1(self):\n",
    "        print(self)\n",
    "        for oChild in self._lChildren:\n",
    "            oChild.print_all_1()\n",
    "    def print_all_2(self):\n",
    "        def gen(o):\n",
    "            lAll = [o,]\n",
    "            while lAll:\n",
    "                oNext = lAll.pop(0)\n",
    "                lAll.extend(oNext._lChildren)\n",
    "                yield oNext\n",
    "        for oNode in gen(self):\n",
    "            print(oNode)\n",
    "            \n",
    "\n",
    "oRoot = Node(\"root\")\n",
    "oChild1 = Node(\"child1\")\n",
    "oChild2 = Node(\"child2\")\n",
    "oChild3 = Node(\"child3\")\n",
    "oChild4 = Node(\"child4\")\n",
    "oChild5 = Node(\"child5\")\n",
    "oChild6 = Node(\"child6\")\n",
    "oChild7 = Node(\"child7\")\n",
    "oChild8 = Node(\"child8\")\n",
    "oChild9 = Node(\"child9\")\n",
    "oChild10 = Node(\"child10\")\n",
    "\n",
    "oRoot.append(oChild1)\n",
    "oRoot.append(oChild2)\n",
    "oRoot.append(oChild3)\n",
    "oChild1.append(oChild4)\n",
    "oChild1.append(oChild5)\n",
    "oChild2.append(oChild6)\n",
    "oChild4.append(oChild7)\n",
    "oChild3.append(oChild8)\n",
    "oChild3.append(oChild9)\n",
    "oChild6.append(oChild10)\n",
    "\n",
    "oRoot.print_all_1()\n",
    "oRoot.print_all_2()"
   ]
  },
  {
   "cell_type": "code",
   "execution_count": null,
   "metadata": {
    "collapsed": true
   },
   "outputs": [],
   "source": []
  },
  {
   "cell_type": "code",
   "execution_count": null,
   "metadata": {
    "collapsed": true
   },
   "outputs": [],
   "source": []
  },
  {
   "cell_type": "code",
   "execution_count": null,
   "metadata": {
    "collapsed": true
   },
   "outputs": [],
   "source": []
  },
  {
   "cell_type": "code",
   "execution_count": null,
   "metadata": {
    "collapsed": true
   },
   "outputs": [],
   "source": []
  },
  {
   "cell_type": "code",
   "execution_count": null,
   "metadata": {
    "collapsed": true
   },
   "outputs": [],
   "source": []
  },
  {
   "cell_type": "code",
   "execution_count": null,
   "metadata": {
    "collapsed": true
   },
   "outputs": [],
   "source": []
  },
  {
   "cell_type": "code",
   "execution_count": null,
   "metadata": {
    "collapsed": true
   },
   "outputs": [],
   "source": []
  },
  {
   "cell_type": "code",
   "execution_count": null,
   "metadata": {
    "collapsed": true
   },
   "outputs": [],
   "source": []
  },
  {
   "cell_type": "code",
   "execution_count": null,
   "metadata": {
    "collapsed": true
   },
   "outputs": [],
   "source": []
  },
  {
   "cell_type": "code",
   "execution_count": null,
   "metadata": {
    "collapsed": true
   },
   "outputs": [],
   "source": []
  },
  {
   "cell_type": "code",
   "execution_count": null,
   "metadata": {
    "collapsed": true
   },
   "outputs": [],
   "source": []
  },
  {
   "cell_type": "code",
   "execution_count": null,
   "metadata": {
    "collapsed": true
   },
   "outputs": [],
   "source": []
  },
  {
   "cell_type": "code",
   "execution_count": null,
   "metadata": {
    "collapsed": true
   },
   "outputs": [],
   "source": []
  },
  {
   "cell_type": "code",
   "execution_count": null,
   "metadata": {
    "collapsed": true
   },
   "outputs": [],
   "source": []
  },
  {
   "cell_type": "code",
   "execution_count": null,
   "metadata": {
    "collapsed": true
   },
   "outputs": [],
   "source": []
  },
  {
   "cell_type": "code",
   "execution_count": null,
   "metadata": {
    "collapsed": true
   },
   "outputs": [],
   "source": []
  },
  {
   "cell_type": "code",
   "execution_count": null,
   "metadata": {
    "collapsed": true
   },
   "outputs": [],
   "source": []
  },
  {
   "cell_type": "code",
   "execution_count": null,
   "metadata": {
    "collapsed": true
   },
   "outputs": [],
   "source": []
  },
  {
   "cell_type": "code",
   "execution_count": null,
   "metadata": {
    "collapsed": true
   },
   "outputs": [],
   "source": []
  },
  {
   "cell_type": "markdown",
   "metadata": {},
   "source": [
    "## List of topics\n",
    "1. Web Scraping\n",
    "2. Data Analysis\n",
    "3. Web Server\n",
    "4. API\n",
    "5. Hadoop"
   ]
  },
  {
   "cell_type": "code",
   "execution_count": null,
   "metadata": {
    "collapsed": true
   },
   "outputs": [],
   "source": []
  }
 ],
 "metadata": {
  "kernelspec": {
   "display_name": "Python 3",
   "language": "python",
   "name": "python3"
  },
  "language_info": {
   "codemirror_mode": {
    "name": "ipython",
    "version": 3
   },
   "file_extension": ".py",
   "mimetype": "text/x-python",
   "name": "python",
   "nbconvert_exporter": "python",
   "pygments_lexer": "ipython3",
   "version": "3.6.7"
  },
  "toc": {
   "base_numbering": 1,
   "nav_menu": {},
   "number_sections": true,
   "sideBar": true,
   "skip_h1_title": false,
   "title_cell": "Table of Contents",
   "title_sidebar": "Contents",
   "toc_cell": false,
   "toc_position": {},
   "toc_section_display": true,
   "toc_window_display": false
  }
 },
 "nbformat": 4,
 "nbformat_minor": 2
}
