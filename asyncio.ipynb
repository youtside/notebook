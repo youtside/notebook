{
 "cells": [
  {
   "cell_type": "markdown",
   "metadata": {},
   "source": [
    "## async/await in Python 3.5 and why it is awesome\n",
    "Yury Selivanov \\\n",
    "https://www.youtube.com/watch?v=m28fiN9y_r8\n",
    "\n",
    "- asny/await in Python 3.5\n"
   ]
  },
  {
   "cell_type": "markdown",
   "metadata": {},
   "source": [
    "### Coroutines: `yield`\n",
    "- have to use a function to return\n",
    "- such function raise an exception internally\n",
    "- can't use return statement\n",
    "\n",
    "```Python\n",
    "@inlineCallbacks\n",
    "def thingummy():\n",
    "    thing = yield makeSomeRequestResultingInDeferred()\n",
    "    if tihng == ' I love Twisted':\n",
    "        # will become the result of the Deferred\n",
    "        returnValue('TWISTED IS GREAT')\n",
    "    else:\n",
    "        # will trigger an errback\n",
    "        raise Exception('DESTROY ALL LIFE')\n",
    "```"
   ]
  },
  {
   "cell_type": "markdown",
   "metadata": {},
   "source": [
    "### Coroutines: `yield from` from 3.3\n",
    "- cons: hard to understand how it works\n",
    "- have to use `@asyncio.coroutine`\n",
    "\n",
    "```Python\n",
    "@asyncio.coroutine\n",
    "def computer(x, y):\n",
    "    print(\"Compute {} + {} ...\".format(x, y))\n",
    "    yield from asyncio.sleep(1.0)\n",
    "    return x + y\n",
    "```"
   ]
  },
  {
   "cell_type": "markdown",
   "metadata": {},
   "source": [
    "### Coroutines: `async/await` from 3.5\n",
    "- no decorator\n",
    "- always a coroutine: if function doesn't have await inside\n",
    "\n",
    "```Python\n",
    "async def computer(x, y):\n",
    "    print(\"Compute {} + {} ...\".format(x, y))\n",
    "    await asyncio.sleep(1.0)\n",
    "    return x + y\n",
    "```"
   ]
  },
  {
   "cell_type": "markdown",
   "metadata": {},
   "source": [
    "### Why `async/await` is THE answer\n",
    "- Dedicated syntax; concise and readable\n",
    "- New buitin type for coroutines\n",
    "- New concepts: `async for` and `async with`\n",
    "- Generac, framework agnostic design\n",
    "- Fast: only ~2x slower than fun call, 10-100x faster than yield coroutines"
   ]
  },
  {
   "cell_type": "markdown",
   "metadata": {},
   "source": [
    "### `async/await`\n",
    "- coroutines are subtypes of generators; shares a lot of code\n",
    "    - pythonic sense, complete different object\n",
    "- `await` -> `yield from` -> `YIELD_FORM` opcode\n",
    "- `@types.coroutine\n",
    "    - from generator to coroutine\n",
    "- `__await__`\n",
    "- `__aenter__`, `__aexit__`, `__aiter__`, `__anext__`"
   ]
  },
  {
   "cell_type": "markdown",
   "metadata": {},
   "source": [
    "- github.com/magicstack/asnycpg\n",
    "- `await` prepares database\n",
    "- `async with`: \n",
    "    - allow run async code when enter the block\n",
    "    - allow run async code when exit the block\n",
    "- `async for`: call async code while iterating \n",
    "\n",
    "```Python\n",
    "async def series(length):\n",
    "    st = await con.prepare('SELECT generate_series(0, $1) AS idx`)\n",
    "    \n",
    "    async with con.transaction():\n",
    "        async for rec in st.cursor(length):\n",
    "            print(rec['idx'])\n",
    "```"
   ]
  },
  {
   "cell_type": "markdown",
   "metadata": {},
   "source": [
    "### asyncio\n",
    "- toolbox for frameworks creators to use\n",
    "    - not a actual framework. e.g., no http / db driver, etc\n",
    "- part of standard library\n",
    "- interperate with twisted and tornado\n",
    "\n",
    "### What's inside\n",
    "- standardized pluggable _event loop_\n",
    "- Interfaces for Protocols and Transports\n",
    "- Factories for servers and connections, streams\n",
    "- Futures and Tasks:\n",
    "    - Callbacks + coroutines, timeouts, cancellations\n",
    "    - futures: bridge between old style and new async/await style\n",
    "    - task: __coroutine runner__\n",
    "- Subprocess, queues, synchronisation primitives(locks, events, etc)"
   ]
  },
  {
   "cell_type": "markdown",
   "metadata": {},
   "source": [
    "### Common functions\n",
    "- `asyncio.get_event_loop()`\n",
    "    - returns an instance of actual event loop, then forget about it and only use `async/await`\n",
    "- `loop.create_task()`\n",
    "    - wraps coroutines in a \"coroutine runner\" (to allow event loop to actually run them)\n",
    "    - a mechanism for the _event loop_ to work with _async/await_\n",
    "- `loop.run_until_complete()` and `loop.run_forever()`\n",
    "- `asyncio.gather()`\n",
    "    - awaits on __multiple__ coroutines (or tasks or futures)\n",
    "- `loop.run_in_executor()`\n",
    "    - runs slow cpu-intensive or blocking IO code in a thread or in a process pool\n",
    "- `loop.close()`\n",
    "    - close and clean up resources \n",
    "    ```Python\n",
    "    try:\n",
    "        loop.run_until_complete(asyncio.gather(t1,t2))\n",
    "    finally:\n",
    "        loop.close()\n",
    "    ```"
   ]
  },
  {
   "cell_type": "code",
   "execution_count": 16,
   "metadata": {},
   "outputs": [
    {
     "ename": "TypeError",
     "evalue": "run_until_complete() missing 1 required positional argument: 'future'",
     "output_type": "error",
     "traceback": [
      "\u001b[0;31m---------------------------------------------------------------------------\u001b[0m",
      "\u001b[0;31mTypeError\u001b[0m                                 Traceback (most recent call last)",
      "\u001b[0;32m<ipython-input-16-6ac186af789d>\u001b[0m in \u001b[0;36m<module>\u001b[0;34m\u001b[0m\n\u001b[1;32m     10\u001b[0m \u001b[0;31m#loop.run_forever()\u001b[0m\u001b[0;34m\u001b[0m\u001b[0;34m\u001b[0m\u001b[0;34m\u001b[0m\u001b[0m\n\u001b[1;32m     11\u001b[0m \u001b[0;31m# Or\u001b[0m\u001b[0;34m\u001b[0m\u001b[0;34m\u001b[0m\u001b[0;34m\u001b[0m\u001b[0m\n\u001b[0;32m---> 12\u001b[0;31m \u001b[0mloop\u001b[0m\u001b[0;34m.\u001b[0m\u001b[0mrun_until_complete\u001b[0m\u001b[0;34m(\u001b[0m\u001b[0;34m)\u001b[0m  \u001b[0;31m# asyncio.gather(t1, t2))\u001b[0m\u001b[0;34m\u001b[0m\u001b[0;34m\u001b[0m\u001b[0m\n\u001b[0m",
      "\u001b[0;31mTypeError\u001b[0m: run_until_complete() missing 1 required positional argument: 'future'"
     ]
    },
    {
     "name": "stdout",
     "output_type": "stream",
     "text": [
      "hello\n",
      "world\n"
     ]
    }
   ],
   "source": [
    "import asyncio\n",
    "async def say(what, when):\n",
    "    await asyncio.sleep(when)\n",
    "    print(what)\n",
    "\n",
    "loop = asyncio.get_event_loop()\n",
    "loop.create_task(say('hello', 0.5))\n",
    "loop.create_task(say('world', 1))\n",
    "\n",
    "#loop.run_forever()\n",
    "# Or\n",
    "loop.run_until_complete(asyncio.gather(t1, t2))"
   ]
  },
  {
   "cell_type": "code",
   "execution_count": 13,
   "metadata": {},
   "outputs": [
    {
     "ename": "NameError",
     "evalue": "name 'concurrent' is not defined",
     "output_type": "error",
     "traceback": [
      "\u001b[0;31m---------------------------------------------------------------------------\u001b[0m",
      "\u001b[0;31mNameError\u001b[0m                                 Traceback (most recent call last)",
      "\u001b[0;32m<ipython-input-13-d47806651cd7>\u001b[0m in \u001b[0;36masync-def-wrapper\u001b[0;34m()\u001b[0m\n\u001b[1;32m     11\u001b[0m     \u001b[0;32mawait\u001b[0m \u001b[0mloop\u001b[0m\u001b[0;34m.\u001b[0m\u001b[0mrun_in_executor\u001b[0m\u001b[0;34m(\u001b[0m\u001b[0mpool\u001b[0m\u001b[0;34m,\u001b[0m \u001b[0mcompute_pi\u001b[0m\u001b[0;34m,\u001b[0m \u001b[0;36m20000\u001b[0m\u001b[0;34m)\u001b[0m\u001b[0;34m\u001b[0m\u001b[0;34m\u001b[0m\u001b[0m\n\u001b[1;32m     12\u001b[0m \u001b[0;34m\u001b[0m\u001b[0m\n\u001b[0;32m---> 13\u001b[0;31m \u001b[0;31m# ProcessPool\u001b[0m\u001b[0;34m\u001b[0m\u001b[0;34m\u001b[0m\u001b[0;34m\u001b[0m\u001b[0m\n\u001b[0m\u001b[1;32m     14\u001b[0m \u001b[0;32mwith\u001b[0m \u001b[0mconcurrent\u001b[0m\u001b[0;34m.\u001b[0m\u001b[0mfutures\u001b[0m\u001b[0;34m.\u001b[0m\u001b[0mProcessPoolExecutor\u001b[0m\u001b[0;34m(\u001b[0m\u001b[0;34m)\u001b[0m \u001b[0;32mas\u001b[0m \u001b[0mpool\u001b[0m\u001b[0;34m:\u001b[0m\u001b[0;34m\u001b[0m\u001b[0;34m\u001b[0m\u001b[0m\n\u001b[1;32m     15\u001b[0m     \u001b[0;32mawait\u001b[0m \u001b[0mloop\u001b[0m\u001b[0;34m.\u001b[0m\u001b[0mrun_in_executor\u001b[0m\u001b[0;34m(\u001b[0m\u001b[0mpool\u001b[0m\u001b[0;34m,\u001b[0m \u001b[0mcompute_pi\u001b[0m\u001b[0;34m,\u001b[0m \u001b[0;36m20000\u001b[0m\u001b[0;34m)\u001b[0m\u001b[0;34m\u001b[0m\u001b[0;34m\u001b[0m\u001b[0m\n",
      "\u001b[0;31mNameError\u001b[0m: name 'concurrent' is not defined"
     ]
    }
   ],
   "source": [
    "def compute_pi(digits):\n",
    "    result = 'example'\n",
    "    return result\n",
    "\n",
    "# default loop's executor (asyncio internal thread pool)\n",
    "await loop.run_in_executor(None, compute_pi, 20000) \n",
    "# or\n",
    "\n",
    "# Thread Pool\n",
    "with concurrent.futures.ThreadPoolExecutor() as pool:\n",
    "    await loop.run_in_executor(pool, compute_pi, 20000)\n",
    "\n",
    "# ProcessPool\n",
    "with concurrent.futures.ProcessPoolExecutor() as pool:\n",
    "    await loop.run_in_executor(pool, compute_pi, 20000)\n",
    "    "
   ]
  },
  {
   "cell_type": "markdown",
   "metadata": {},
   "source": [
    "### Debugging\n",
    "- always debug mode when learning\n",
    "    - PYTHONASYNCIODEBUG=1 python app.py\n",
    "    - `loop.set_debug()`\n",
    "- config `logging` to see errors\n",
    "- config test runner to print out __warnings__"
   ]
  },
  {
   "cell_type": "markdown",
   "metadata": {},
   "source": [
    "### uvloop\n",
    "github.com/magicstack/uvloop"
   ]
  },
  {
   "cell_type": "markdown",
   "metadata": {},
   "source": [
    "### PEP 492"
   ]
  },
  {
   "cell_type": "markdown",
   "metadata": {},
   "source": [
    "# Getting to grips with asyncio\n",
    "\n",
    "### What & Whay\n",
    "- I/O is __high latency__\n",
    "- Sequential programs wasts resources __waiting__ on IO\n",
    "- Multithreading / multiprocessing carry\n",
    "    - large __resource__ overheads\n",
    "    - large __cognitive__ overheads\n",
    "- GIL\n",
    "\n",
    "### Definitions\n",
    "1. Dealing with multiple things at once vs. doing multiple things at once\n",
    "    - Concurrency \\\n",
    "      Tasks start, run and complete in overlapping time periods \\\n",
    "      asyncio\n",
    "    - Parallelism \\\n",
    "      Tasks run simultaneously \\\n",
    "      treads / processes + multicore\n",
    "2. The definition of synchronous contradicts common useage\n",
    "    - Asynchronous \\\n",
    "      No need to wait before proceeding \\\n",
    "      shorter overall duration\n",
    "    - Sequential (Synchronous) \\\n",
    "      Must complete before proceeding \\\n",
    "      longer overall duration\n",
    "3. How much of the potential result is returned? \n",
    "    - Asynchronous \\\n",
    "      Returns immediately with a promise for the complete result \\\n",
    "      Callbacks / Futures / Promisses\n",
    "    - Non-blocking \\\n",
    "      Returns immediately, with no result, partial result or complete result \\\n",
    "      Pooling\n",
    "4. Preemptive vs Cooperative multitasking\n",
    "    - Preemptive \\\n",
    "      Scheduler interrupts tasks \\\n",
    "      inconvenient context switches\n",
    "    - Cooperative \\\n",
    "      Task _yield_ to scheduler \\\n",
    "      Uncooperative task hang system"
   ]
  },
  {
   "cell_type": "markdown",
   "metadata": {},
   "source": [
    "## Coroutine\n",
    "\n",
    "### Lucas sequence\n",
    "```python\n",
    "def lucas():\n",
    "    '''\n",
    "    >>> from coop.main import lucas\n",
    "    >>> from itertools import islice\n",
    "    >>>\n",
    "    >>> list(islice(lucas(), 10))\n",
    "    [2, 1, 3, 4, ...]\n",
    "    '''\n",
    "    yield 2\n",
    "    a = 2\n",
    "    b = 1\n",
    "    while True:\n",
    "        yield b\n",
    "        a, b = b, a + b\n",
    "```"
   ]
  },
  {
   "cell_type": "markdown",
   "metadata": {},
   "source": [
    "### Linear search\n",
    "- returns the first item satisfying a predicate\n",
    "- Search is a regular function. Calling search either: \\\n",
    "  directly `returns` the result or \\\n",
    "  `raises` an exception\n",
    "    \n",
    "```python\n",
    "def search(iterable, predicate):\n",
    "    '''\n",
    "    >>> from coop.main import search\n",
    "    >>> search(lucas(), lambda x: len(str(x)) >= 6)\n",
    "    103682\n",
    "    '''\n",
    "    for item in iterable:\n",
    "        if predicate(item):\n",
    "            return item\n",
    "    raise ValueError(\"Not Found\")\n",
    "```"
   ]
  },
  {
   "cell_type": "markdown",
   "metadata": {},
   "source": [
    "### Converting Blocking search to cooperative search\n",
    "```python\n",
    "def async_search(iterable, predicate):\n",
    "    ...\n",
    "        if predicate(item):\n",
    "            return item\n",
    "        yield\n",
    "    raiseValueError(\"Not Found\")\n",
    "\n",
    "```\n",
    "\n",
    "- async_search is a __generator__ function\n",
    "- call async_search(...) will return a `generator` object\n",
    "- use `next` to advance\n",
    "- `yield` nothing and returning item\n",
    "- when `return` in generator function, python packages the payload into `StopIteration` exception object (use `exc.value`)"
   ]
  },
  {
   "cell_type": "markdown",
   "metadata": {},
   "source": [
    "### Task\n",
    "Aggregates a coroutine and an integer id \\\n",
    "thin wrapper around routine\n",
    "```python\n",
    "class Task:\n",
    "    next_id = 0\n",
    "    def __init__(self, routine):\n",
    "        self.id = Task.next_id\n",
    "        Task.next_id += 1\n",
    "        self.routine = routine\n",
    "```\n",
    "\n",
    "```Python\n",
    "class Scheduler:\n",
    "        \n",
    "    def __init__(self):\n",
    "        self.runnable_tasks = deque()\n",
    "        self.completed_task_results = {}\n",
    "        self.failed_task_errors = {}\n",
    "        \n",
    "    def add(self, routine):\n",
    "        task = Task(routine)  # wraps routine in task\n",
    "        self.runnable_tasks.append(task)\n",
    "        return task.id\n",
    "    \n",
    "    def run_to_completion(self):\n",
    "        ''' Run the tasks '''\n",
    "        while len(self.runnable_tasks) != 0:\n",
    "            task = self.runnable_tasks.popleft()\n",
    "            print(\"Running task {} ... \".format(task.id), end='')\n",
    "            try:\n",
    "                yielded = next(task.routine)\n",
    "            except StopIteration as stopped:\n",
    "                print(\"Completed with result: {!r}\".format(stopped.value))\n",
    "                self.completed_task_results[task.id] = stopped.value\n",
    "            except Exception as e:\n",
    "                print(\"Failed with exception: {}\".format(e))\n",
    "                self.failed_task_errors[task.id] = e\n",
    "            else:  # if \"try\" is successful\n",
    "                assert yielded is None\n",
    "                print(\"Now yielded\")\n",
    "                self.runnable_tasks.append(task)  # run forever\n",
    "```"
   ]
  },
  {
   "cell_type": "markdown",
   "metadata": {},
   "source": [
    "### Print a message at intervals\n",
    "yields control untail a time interval expires \\\n",
    "sleep\n",
    "\n",
    "```python\n",
    "# blocking\n",
    "def repetitive_message(msg, interval_seconds):\n",
    "    while True:\n",
    "        print(msg)\n",
    "        start = time.time()\n",
    "        expiry = start + interval_seconds\n",
    "        while True:\n",
    "            now = time.time()\n",
    "            if now >= expiry:\n",
    "                break\n",
    "```\n",
    "\n",
    "```python\n",
    "# async #1\n",
    "# bug: if interval_seconds is very small \n",
    "# the coroutine will NEVER yield and will hog the system\n",
    "def async_repetitive_message(msg, interval_seconds):\n",
    "    while True:\n",
    "        print(msg)\n",
    "        start = time.time()\n",
    "        expiry = start + interval_seconds\n",
    "        while True:\n",
    "            now = time.time()\n",
    "            if now >= expiry:\n",
    "                break\n",
    "            yield\n",
    "```\n",
    "\n",
    "```python\n",
    "# async #2\n",
    "# WHERE to yield control\n",
    "# Ensure coroutine either 1. return immediately or\n",
    "# 2. always yield __at least once__\n",
    "def async_repetitive_message(msg, interval_seconds):\n",
    "    while True:\n",
    "        print(msg)\n",
    "        start = time.time()\n",
    "        expiry = start + interval_seconds\n",
    "        while True:\n",
    "            yield\n",
    "            now = time.time()\n",
    "            if now >= expiry:\n",
    "                break\n",
    "```"
   ]
  },
  {
   "cell_type": "markdown",
   "metadata": {},
   "source": [
    "- Calling __blocking__ functions in __non-blocking__ function _stall_ the whole system\n",
    "- `yield from`: call nested generator from generator\n",
    "\n",
    "- Rule 1: Coroutines are contagious to __callees__ \\\n",
    "  __Everything__ you call - transitively - from a coroutine shoule be non-blocking\n",
    "\n",
    "- Rule 2: Coroutines are contagious to __callers__ \\\n",
    "  Everything that callse - transitively - to a coroutine must iterate the generator.\n",
    "\n",
    "- Everything will be async / non-blocking except _main_"
   ]
  },
  {
   "cell_type": "markdown",
   "metadata": {},
   "source": [
    "### Extract coroutine\n",
    "```python\n",
    "def async_repetitive_message(msg, interval_seconds):\n",
    "    while True:\n",
    "        print(msg)\n",
    "        yield from async_sleep(interval_seconds)\n",
    "        \n",
    "def async_sleep(interval_seconds):\n",
    "    start = time.time()\n",
    "    expiry = start + interval_seconds\n",
    "    while True:\n",
    "        yield\n",
    "        now = time.time()\n",
    "        if now >= expiry:\n",
    "            break\n",
    "```\n",
    "\n",
    "- async_sleep always yield __at least once__\n",
    "- async_sleep(0) yields __exactly once__\n",
    "- Occurrence of __bare yield__ can be replaced with `yield from async_sleep(0)`\n",
    "- async_sleep provided by scheduler -> no need of bare yield at all"
   ]
  },
  {
   "cell_type": "markdown",
   "metadata": {},
   "source": [
    "## Asyncio Language and Library\n",
    "futures, tasks, event-loops\n",
    "\n",
    "1. `def async_foo` -> `async def foo`\n",
    "2. `import asyncio`\n",
    "3. `async_sleep(x)` -> `asyncio.sleep(x)`\n",
    "4. no more `async def sleep(x)`\n",
    "5. `yield from foo` -> `await foo`"
   ]
  },
  {
   "cell_type": "markdown",
   "metadata": {},
   "source": [
    "### asnycio\n",
    "- Coroutines implements __tasks__\n",
    "- Coroutines __await__ other coroutines\n",
    "- Event-loop schedules __concurrent__ tasks\n",
    "- Tasks must __not block__\n",
    "- Awaiting facilitates __context switches__: opportunaty for scheduler to run another task\n",
    "- To yield control __without__ need a result: `await asyncio.sleep(0)`"
   ]
  },
  {
   "cell_type": "markdown",
   "metadata": {},
   "source": [
    "### Coroutines vs. Coroutine Objects\n",
    "\n",
    "- Coroutine: `async def search...` \\\n",
    "  code, __callable__\n",
    "- Coroutine object: `c` in `c = search(lucas(), is_prime)` \\\n",
    "  code + execution state, __awaitable__"
   ]
  },
  {
   "cell_type": "markdown",
   "metadata": {},
   "source": [
    "### Future\n",
    "Encapsulates a potential result or error \\\n",
    "monitor a running task\n",
    "- avoid calling _future = Future()_ constructor directly\n",
    "- prevents event-loops specialising the future implementation\n",
    "\n",
    "```\n",
    "Future\n",
    "    cancel()\n",
    "    cancelled()\n",
    "    done()\n",
    "    result()\n",
    "    exception()\n",
    "    set_result()\n",
    "    set_exception()\n",
    "```\n",
    "\n",
    "```python\n",
    "async def monitored_search(iterable, predicate, future):\n",
    "    try:\n",
    "        found_item = await search(iterable, predicate)\n",
    "    except ValueError as not_found:\n",
    "        future.set_exception(not_found)\n",
    "    else:  # no exception\n",
    "        future.set_result(found_item)\n",
    "        \n",
    "async def monitor_future(future, interval_seconds):\n",
    "    while not future.done():\n",
    "        print(\"Waiting...\")\n",
    "        await asyncio.sleep(interval_seconds)\n",
    "    print(\"Done\")\n",
    "\n",
    "async def thirteen_digit_prime(x):\n",
    "    return (await is_prime(x)) and (len(str(x)) == 13\n",
    "                                    \n",
    "loop = asyncio.get_event_loop()\n",
    "future = loop.create_future()  # Create\n",
    "co_obj = monitored_search(lucas(), thirteen_digit_prime, future)\n",
    "loop.create_task(co_obj)\n",
    "loop.create_task(monitor_future(future, 1.0))\n",
    "loop.run_until_complete(future)\n",
    "print(future.result())\n",
    "loop.close()\n",
    "```"
   ]
  },
  {
   "cell_type": "markdown",
   "metadata": {},
   "source": [
    "### Task\n",
    "A subclass of Future (Task is-a future) which wraps(has) a coroutine\n",
    "\n",
    "```python\n",
    "search_task = loop.create_task(co_obj)\n",
    "loop.create_task(monitor_future(search_task, 1.0))\n",
    "loop.run_until_complete(future)\n",
    "print(future.result())\n",
    "loop.close()\n",
    "```\n",
    "\n",
    "### Creating Tasks\n",
    "Prefer __ensure_future()__ which returns a task:\n",
    "\n",
    "Bad: `task = Task(coro_obj)`\\\n",
    "OK: `task = loop.create_task(coro_obj)` \\\n",
    "Better: `task = ensure_future(awaitable, loop=loop)` idempoeten, more general\n",
    "\n",
    "### Waiting for tasks\n",
    "`asyncio.gather()`\n",
    "- small bug: _Warning: task was destroyed buy it is pending_ \\\n",
    "  The event-loop is being closed before _monitor_task_ has exited gracefully\n",
    "```Python\n",
    "...\n",
    "search_and_monitor_future = asyncio.gather(search_task, monitor_task)\n",
    "loop.run_until_complete(search_and_monitor_future)\n",
    "...\n",
    "```\n",
    "\n",
    "### Awaitables\n",
    "awaitable object can be used in an await expression. \\\n",
    "__coroutines__, __Tasks__, and __Futures__."
   ]
  },
  {
   "cell_type": "markdown",
   "metadata": {},
   "source": [
    "## I/O stuff\n",
    "\n",
    "### I/O await scheduler\n",
    "Tasks suspend when waiting, scheduled when data ready\n",
    "\n",
    "### Layered abstractions for asyncio\n",
    "\n",
    "Layer | based | func\n",
    ":--- | :--- | :---\n",
    "coroutines | generator-based | suspendable / resumable functions\n",
    "event-loop | task-based | await sockets / file descriptors\n",
    "transports | channel-based | date read / write\n",
    "protocols | callback-based | connections made / lost, data received\n",
    "streams | coroutine-based | stream-like comms\n"
   ]
  }
 ],
 "metadata": {
  "kernelspec": {
   "display_name": "Python 3",
   "language": "python",
   "name": "python3"
  },
  "language_info": {
   "codemirror_mode": {
    "name": "ipython",
    "version": 3
   },
   "file_extension": ".py",
   "mimetype": "text/x-python",
   "name": "python",
   "nbconvert_exporter": "python",
   "pygments_lexer": "ipython3",
   "version": "3.7.3"
  }
 },
 "nbformat": 4,
 "nbformat_minor": 2
}
