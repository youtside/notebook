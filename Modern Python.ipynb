{
 "cells": [
  {
   "cell_type": "markdown",
   "metadata": {},
   "source": [
    "## Building Foundational Python Sills for Data Analytics\n",
    "\n",
    "https://www.safaribooksonline.com/library/view/modern-python-livelessons/9780134743400/MOPY_01_01_01.html"
   ]
  },
  {
   "cell_type": "markdown",
   "metadata": {},
   "source": [
    "# Resampling - Preparation\n",
    "Big Idea: Statistics modeled in a program are eaiser to get right and understand than using a formulaic approach. It also extends to more complicated situations that classic formulars."
   ]
  },
  {
   "cell_type": "markdown",
   "metadata": {},
   "source": [
    "## F-strings\n",
    "* Old style: percent style - `%-formatting`\n",
    "* newer style: `.format()`\n",
    "* newer style: `f''`\n",
    "    - `f'{value:{width}.{precision}}'`"
   ]
  },
  {
   "cell_type": "code",
   "execution_count": null,
   "metadata": {},
   "outputs": [],
   "source": [
    "x = 10\n",
    "print('The answer is %d today' % x)\n",
    "\n",
    "print('The answer is {0} today'.format(x))\n",
    "print('The answer is {x} today'.format(x=x))\n",
    "\n",
    "print(f'The answer is {x} today')\n",
    "print(f'The answer is {x :08d} today') # Format operators\n",
    "print(f'The answer is {x ** 2 :08d} today')  # Run expression inside\n",
    "\n",
    "\"\"\"common for raising exception strings\"\"\"\n",
    "raise ValueError(f\"Expect {x!r} to a float not a {type(x).__name__}\")"
   ]
  },
  {
   "cell_type": "markdown",
   "metadata": {},
   "source": [
    "## Counter Objects\n",
    "* Counter: a subclass of dict; modeled from small tote bag\n",
    "* Find out how many instances of some events occurr \n",
    "* Bags: multiset in c++, no order, has frequency \n",
    "* `c.elements()`: Pull out one at a time"
   ]
  },
  {
   "cell_type": "code",
   "execution_count": null,
   "metadata": {},
   "outputs": [],
   "source": [
    "from collections import Counter\n",
    "d = {}\n",
    "# Tranditional dict will raise an key error if no such key\n",
    "# d['dragons']\n",
    "d = Counter()\n",
    "d['dragons']\n",
    "d['dragons'] += 1\n",
    "print(d)\n",
    "\n",
    "# Count elements in a list\n",
    "c = Counter('red green red blue red blue green'.split())\n",
    "print(f'Counter is: {c}; Most common color is {c.most_common(1)}')\n",
    "\n",
    "# list all elements of the counter\n",
    "list(c.elements())\n",
    "list(c) # list key of a (dict)\n",
    "list(c.values()) # list values\n",
    "list(c.items()) # list k,v pair"
   ]
  },
  {
   "cell_type": "markdown",
   "metadata": {},
   "source": [
    "## Statistics Module\n",
    "describing data"
   ]
  },
  {
   "cell_type": "code",
   "execution_count": null,
   "metadata": {},
   "outputs": [],
   "source": [
    "from statistics import mean, median, mode, stdev, pstdev\n",
    "numbers1 = [50, 52, 53]\n",
    "mean(numbers1)\n",
    "# sample stdev vs population stdev\n",
    "stdev(numbers1)\n",
    "pstdev(numbers1)"
   ]
  },
  {
   "cell_type": "markdown",
   "metadata": {},
   "source": [
    "## Sequence Operations\n",
    "concat / slicing / count / index / sort"
   ]
  },
  {
   "cell_type": "code",
   "execution_count": null,
   "metadata": {},
   "outputs": [],
   "source": [
    "s = [10, 20, 30]\n",
    "t = [0, 40, 50, 60, 60]\n",
    "\n",
    "# List concat\n",
    "u = s + t\n",
    "print(u)\n",
    "\n",
    "# Slicing\n",
    "print(u[:2])\n",
    "print(u[-2:])\n",
    "print(u[:2] + u[-2:]) # Concat \n",
    "\n",
    "# all sequences have _count_ and _index_\n",
    "print(dir(list))\n",
    "u[0]\n",
    "u.index(10)\n",
    "u.count(60)\n",
    "\n",
    "# sort\n",
    "u.sort()  # sort original list\n",
    "t = sorted(u) # construct a new list"
   ]
  },
  {
   "cell_type": "markdown",
   "metadata": {},
   "source": [
    "## `lambda` expressions\n",
    "* try to replace labmda -> partial, itemgetter, attrgetter, ...\n",
    "* should be called `make_function()`\n",
    "* Deffering a computertation in the future by making a function of __no arguments__. When the functions is called, the function runs. aka freeze/thaw; promisses"
   ]
  },
  {
   "cell_type": "code",
   "execution_count": null,
   "metadata": {},
   "outputs": [],
   "source": [
    "lambda x: x**2\n",
    "print((lambda x: x**2)(5))\n",
    "\n",
    "# multiple arguments\n",
    "lambda x, y: 3*x + y\n",
    "\n",
    "x = 10\n",
    "y = 20\n",
    "f = lambda : x**y # We can thaw the function after frozen, only when we call it to run it\n",
    "f() "
   ]
  },
  {
   "cell_type": "markdown",
   "metadata": {},
   "source": [
    "## Chained Comparison"
   ]
  },
  {
   "cell_type": "code",
   "execution_count": null,
   "metadata": {},
   "outputs": [],
   "source": [
    "x = 15\n",
    "x > 6\n",
    "x < 10\n",
    "x > 6 and x < 10\n",
    "6 < x < 20 # doesn't load the stack 2 times, a bit more efficient"
   ]
  },
  {
   "cell_type": "markdown",
   "metadata": {},
   "source": [
    "## Random / Distribution"
   ]
  },
  {
   "cell_type": "code",
   "execution_count": null,
   "metadata": {},
   "outputs": [],
   "source": [
    "import random\n",
    "random.seed(123456789) # testing\n",
    "random.random()\n",
    "\n",
    "# Continus dist\n",
    "random.uniform(1000, 1100)\n",
    "random.triangular(1000, 1100) # halfway point much more chosen\n",
    "random.gauss(100, 15) # Random IQ, normal\n",
    "random.expovariate(20) # 1/20\n",
    "\n",
    "from statistics import mean, stdev\n",
    "# triangular, uniform, gauss, expovariate\n",
    "data = [random.expovariate(20) for i in range(1000)]\n",
    "print(mean(data))\n",
    "print(stdev(data))# discrete dist\n",
    "from random import choice, choices, sample, shuffle"
   ]
  },
  {
   "cell_type": "code",
   "execution_count": null,
   "metadata": {},
   "outputs": [],
   "source": [
    "# discrete dist\n",
    "from random import choice, choices, sample, shuffle\n",
    "outcomes = ['win', 'lose', 'draw', 'play again', 'double win']\n",
    "choice(outcomes)\n",
    "choices(outcomes, k=10) # Sampling with replacement\n",
    "\n",
    "from collections import Counter\n",
    "Counter(choices(outcomes, k=10))\n",
    "\n",
    "sorted(sample(range(1, 57), k=6)) # Sampling without replacement\n",
    "\n",
    "sample(outcomes, k=1)[0]\n",
    "choice(outcomes) # choice is a special case of sample\n",
    "\n",
    "shuffle(outcomes); outcomes\n",
    "sample(outcomes, k=len(outcomes)) # shuffle is a special of sample\n"
   ]
  },
  {
   "cell_type": "markdown",
   "metadata": {},
   "source": [
    "# Resampling statistic"
   ]
  },
  {
   "cell_type": "markdown",
   "metadata": {},
   "source": [
    "* Six roulette wheel spins / choices with weighting"
   ]
  },
  {
   "cell_type": "code",
   "execution_count": null,
   "metadata": {},
   "outputs": [],
   "source": [
    "from random import *\n",
    "from statistics import *\n",
    "from collections import *\n",
    "\n",
    "# Six roulette whells -- 18 red 19 black 2 green\n",
    "# ways to populate\n",
    "choice(['red', 'red', 'red', 'black', 'black', 'black', 'green'])\n",
    "\n",
    "population = ['red'] * 18 + ['black'] * 18 + ['green'] * 2\n",
    "choice(population)\n",
    "\n",
    "[choice(population) for i in range(6)]\n",
    "Counter([choice(population) for i in range(6)])\n",
    "\n",
    "Counter(choices(population, k=6))\n",
    "\n",
    "# better way\n",
    "Counter(choices(['red', 'black', 'green'], [18, 18, 2], k=6))"
   ]
  },
  {
   "cell_type": "markdown",
   "metadata": {},
   "source": [
    "* deal 20 cards without replacement (16 tens, 36 low)\n",
    "* after a random deal, what's the  likelihoods of wining"
   ]
  },
  {
   "cell_type": "code",
   "execution_count": null,
   "metadata": {},
   "outputs": [],
   "source": [
    "# define what the deck is\n",
    "deck = Counter(tens=16, low=36)\n",
    "# list all elements\n",
    "deck = list(deck.elements())\n",
    "deal = sample(deck, 20)\n",
    "Counter(deal)\n",
    "# deal 52 cards\n",
    "deal = sample(deck, 52)\n",
    "remainder = deal[20:]\n",
    "Counter(remainder)"
   ]
  },
  {
   "cell_type": "markdown",
   "metadata": {},
   "source": [
    "* a weighted biased coin (spin it)\n",
    "* P(5 or more heads from 7 spins)"
   ]
  },
  {
   "cell_type": "code",
   "execution_count": null,
   "metadata": {},
   "outputs": [],
   "source": [
    "pop = ['heads', 'tails']\n",
    "cumwgt = [0.60, 1.00] # cumulative weights\n",
    "\n",
    "# 1 trail\n",
    "trail = lambda : choices(pop, cum_weights=cumwgt, k=7).count('heads') >= 5\n",
    "n = 100\n",
    "sum(trail() for i in range(n)) / n\n",
    "\n",
    "# compare to the analytic approach \n",
    "from math import factorial as fact\n",
    "\n",
    "def comb(n, r):\n",
    "    return fact(n) // fact(r) // fact(n - r)\n",
    "\n",
    "comb(10, 3)\n",
    "ph=0.6\n",
    "# 5 heads out of 7 spins\n",
    "ph ** 5 * (1-ph) ** 2 * comb(7, 5)\n",
    "# 6 heads out of 7 spins\n",
    "ph ** 6 * (1-ph) ** 1 * comb(7, 6)\n",
    "\n",
    "sum(ph**i * (1-ph)**(7-i) * comb(7, i) for i in range(5, 8))"
   ]
  },
  {
   "cell_type": "markdown",
   "metadata": {},
   "source": [
    "* Does the median-of-five fall in the middle of two quartiles"
   ]
  },
  {
   "cell_type": "code",
   "execution_count": null,
   "metadata": {},
   "outputs": [],
   "source": [
    "sample(range(10000), 5)\n",
    "sorted(sample(range(10000), 5))[2]\n",
    "\n",
    "n = 100000\n",
    "n // 4\n",
    "n * 3 // 4\n",
    "\n",
    "trail = lambda : n // 4 < median(sample(range(100000), 5)) <= 3 * n // 4\n",
    "sum(trail() for i in range(100000)) / n"
   ]
  },
  {
   "cell_type": "markdown",
   "metadata": {},
   "source": [
    "# Improving Reliability"
   ]
  },
  {
   "cell_type": "markdown",
   "metadata": {},
   "source": [
    "## Mypy and Type Hinting\n",
    "__Big idea__: Add type hints to code helps clarify your thoughts, improves documentaion, and may allow a static analysis tool to detect some kinds of errors.\n",
    "* Use of `# type: ` - Type comment\n",
    "* Use of function annotaion\n",
    "* Use of class\n",
    "* Container[Type]\n",
    "* Tuple and ...\n",
    "* Optional arguments\n",
    "* Deque vs deque\n",
    "* Issues with f-string, new colon notation, secrets module\n",
    "\n",
    "Tools:\n",
    "* mypy\n",
    "* pyflakes\n",
    "* hypothesis\n",
    "* unittest -> `nose py.test`  [classic, most builtiful way to run unittest]"
   ]
  },
  {
   "cell_type": "code",
   "execution_count": null,
   "metadata": {},
   "outputs": [],
   "source": [
    "# To check, run in Mypy: `python3 -m mypy hints.py`\n",
    "import typing\n",
    "from collections import OrderedDict, deque, namedtuple\n",
    "\n",
    "# Old style:\n",
    "x = 10 # type: int\n",
    "\n",
    "# New style\n",
    "x: int = 10\n",
    "    \n",
    "# Function annotations, before run time\n",
    "def f(x: int, y: Optional[int]=None) -> int:\n",
    "    if y is None:\n",
    "        y = 20\n",
    "    return x + y\n",
    "    \n",
    "x = {} # type: OrderedDict (should throw error)\n",
    "y = OrderedDict() # type: OrderedDict\n",
    "\n",
    "# Sequence: indexable / iterable\n",
    "def g(x: Sequence):\n",
    "    print(len(x))\n",
    "    print(x[2])\n",
    "    for i in x:\n",
    "        print(i)\n",
    "    print()\n",
    "\n",
    "# Specify Sequence type: \n",
    "def g(x: Sequence[int]):\n",
    "    pass\n",
    "\n",
    "# Specify a list\n",
    "def g(x: List[int]):\n",
    "    pass\n",
    "\n",
    "info = ('Foo', 'Bar', 'Var', 'lentgh') # Tuple[str, ...]  (all strings)\n",
    "\n",
    "Point = namedtuple('Point', ['x', 'y'])\n",
    "Point2 = typing.NamedTuple('Point2', [('x', int), ('y', int)])"
   ]
  },
  {
   "cell_type": "markdown",
   "metadata": {},
   "source": [
    "## fsum, true division\n",
    "* `fsum()` is more accurate than `sum()`\n",
    "```Python\n",
    "from math import fsum \n",
    "```\n",
    "* / vs // [True division vs floor division]"
   ]
  },
  {
   "cell_type": "code",
   "execution_count": null,
   "metadata": {},
   "outputs": [],
   "source": [
    "print(f'{1.1 + 2.2}')\n",
    "print(f'{1.1 + 2.2 == 3.3}')\n",
    "print(f'{sum([0.1] * 10)}')"
   ]
  },
  {
   "cell_type": "markdown",
   "metadata": {},
   "source": [
    "##  Grouping with `defaultdict`\n",
    "`defaultdict` creates a new container to store elements with a common feature (key)\n",
    "\n",
    "```Python\n",
    "d = defaultdict(set)\n",
    "d['t'] # returns an empaty set   vs keyerror in regular dict\n",
    "d['t'].add('tom')\n",
    "```\n",
    "\n",
    "```Python\n",
    "d = defaultdict(list)\n",
    "d['t'].append('tom')\n",
    "d['t'].append('tom')\n",
    "```"
   ]
  },
  {
   "cell_type": "code",
   "execution_count": null,
   "metadata": {},
   "outputs": [],
   "source": [
    "from pprint import pprint\n",
    "from collections import defaultdict\n",
    "names = '''david betty susan mary darlene sandy davin shelly tom michael'''.split()\n",
    "d = defaultdict(list)\n",
    "for name in names:\n",
    "    feature = name[0] # len(name) / name[-1], etc\n",
    "    d[feature].append(name)\n",
    "pprint(d, width=60)\n",
    "\n",
    "d = defaultdict(list)\n",
    "for name in names:\n",
    "    feature = len(name)\n",
    "    d[feature].append(name)\n",
    "pprint(d)"
   ]
  },
  {
   "cell_type": "markdown",
   "metadata": {},
   "source": [
    "## Key function\n",
    "__What__: A function takes one argument and transform it into a key (and do operations below with that key)\n",
    "\n",
    "Works with: min(), max(), sorted(), nsmallest(), nlargest(), groupby() and merge()\n",
    "\n",
    "SQL:\n",
    "```SQL\n",
    "SELECT name FROM names ORDER BY len(name);\n",
    "```\n",
    "\n",
    "Python:\n",
    "```Python\n",
    "pprint(sorted(names, key=len))\n",
    "```"
   ]
  },
  {
   "cell_type": "markdown",
   "metadata": {},
   "source": [
    "## Transposing 2-D data with zip() and star-args\n",
    "- zip: bring multiple sequences together, pair-wise / unpaired elements are left out\n",
    "- `from itertools import zip_longest`: fill in missing value\n",
    "- use with star (*) -> umpack m into seperate arguments; each row becomes an argument"
   ]
  },
  {
   "cell_type": "code",
   "execution_count": null,
   "metadata": {},
   "outputs": [],
   "source": [
    "l = list(zip('abcdef','ghijklm'))\n",
    "print(f'Result: {l}; m is missing') # notice `m` is missing\n",
    "\n",
    "from itertools import zip_longest\n",
    "list(zip_longest('abcdef','ghijklm'))\n",
    "list(zip_longest('abcdef','ghijklm', fillvalue='x'))\n",
    "\n",
    "\n",
    "# Transposing 3x2 matrix to 2x3\n",
    "m = [[10, 20], [30, 40], [50, 60]]\n",
    "print(f'{list(zip([10, 20], [30, 40], [50, 60]))}')\n",
    "\n",
    "print(f'{list(zip(*m))}')"
   ]
  },
  {
   "cell_type": "markdown",
   "metadata": {},
   "source": [
    "## Flattening data with list comprehensions"
   ]
  },
  {
   "cell_type": "code",
   "execution_count": null,
   "metadata": {},
   "outputs": [],
   "source": [
    "m = [[10, 20], [30, 40], [50, 60, 70]]\n",
    "pprint(m, width=15)\n",
    "\n",
    "# flatterning matrix\n",
    "for row in m:\n",
    "    for col in row:\n",
    "        print(col)\n",
    "        \n",
    "[x for row in m for x in row] # Same result using list comprehension\n",
    "\n",
    "non_flat = m\n",
    "for x in non_flat:\n",
    "    if len(x) > 2:\n",
    "        for y in x:\n",
    "            print(y)\n",
    "[y for x in non_flat if len(x) > 2 for y in x] # Same as above            "
   ]
  },
  {
   "cell_type": "markdown",
   "metadata": {},
   "source": [
    "## Convert an interator into a list\n",
    "Use `list(iterator)`\n",
    "- list: indexable; loop over it multiple times; run in reverse"
   ]
  },
  {
   "cell_type": "markdown",
   "metadata": {},
   "source": [
    "# K-means - Cluster Analysis\n",
    "* Big Idea: K-means is an unsupervised learning tool for identifying cluster with-in datasets.\n",
    "* Algorithm:\n",
    "    - Pick arbitrary points as guesses for the center of each group.\n",
    "    - Assign all the data points to the closest matching group. \n",
    "    - Within each group, average the pints to get a new guess for the center of the group.\n",
    "    - Repeat multiple times: Assign data and average the points\n",
    "\n",
    "* Goal: \n",
    "Epress the idea more clearly and beeautifully in Python than in English.\n",
    "\n",
    "\n",
    "Tasks: \n",
    "- mean(data)\n",
    "- dist(point, piont)\n",
    "- assign_data(centroids, pionts)   # centroid = potential center of a cluster\n",
    "- compute_centroids(groups)\n",
    "- k_means(points)"
   ]
  },
  {
   "cell_type": "code",
   "execution_count": null,
   "metadata": {},
   "outputs": [],
   "source": [
    "from typing import Iterable, Tuple, Sequence, Dict, List\n",
    "from pprint import pprint\n",
    "from math import fsum, sqrt\n",
    "\n",
    "# Alias Tuple[int, ...] to Pint\n",
    "Point = Tuple[int, ...]\n",
    "Centroid = Point\n",
    "\n",
    "points = [\n",
    "    (10, 41, 23),\n",
    "    (22, 30, 29),\n",
    "    (11, 42, 5),\n",
    "    (20, 32, 4),\n",
    "    (12, 40, 12),\n",
    "    (21, 36, 23),\n",
    "]\n",
    "\n",
    "def mean(data: Iterable[float]) -> float:\n",
    "    'Acurate arithmetic mean'\n",
    "    data = list(data) # data might be sequence OR generator; convert generator to list\n",
    "    return fsum(data) / len(data)\n",
    "\n",
    "def dist_old(p, q):\n",
    "    'Euclidean distance function for multi-dimensional data'\n",
    "    return sqrt(fsum([(x - y) ** 2 for x, y in zip(p, q)]))\n",
    "\n",
    "# convert global to local; verify by `from dis import dis; dis(dist)`\n",
    "def dist(p: Point, q: Point, fsum=fsum, sqrt=sqrt, zip=zip) -> float:\n",
    "    return sqrt(fsum([(x - y) ** 2 for x, y in zip(p, q)]))\n",
    "\n",
    "from dis import dis\n",
    "dis(dist2)"
   ]
  },
  {
   "cell_type": "code",
   "execution_count": null,
   "metadata": {},
   "outputs": [],
   "source": [
    "from collections import defaultdict\n",
    "\n",
    "def assign_data(centroids: Sequence[Centroid], data: Iterable[Point]) -> Dict[Centroid, List[Point]]:\n",
    "    'Group the data points to the closest centroid'\n",
    "    d = defaultdict(list)\n",
    "    for point in data:\n",
    "        closest_centroid = min(centroids, key=partial(dist, point)) # lambda: dist(point, centroid)\n",
    "        d[closest_centroid].append(point)\n",
    "    return dict(d) # convert back to regular dict\n",
    "\n",
    "# list all the centroids:\n",
    "centroids = [(9, 39, 20), (12, 36,25)]\n",
    "point = (11, 42, 5)\n",
    "[dist(point, centroid) for centroid in centroids]\n",
    "\n",
    "# use key function to determine the point, rather dist\n",
    "min(centroids, key=lambda centroid: dist(point, centroid))"
   ]
  },
  {
   "cell_type": "code",
   "execution_count": null,
   "metadata": {},
   "outputs": [],
   "source": [
    "from functools import partial # partial function evaluation; freeze some arguments\n",
    "pow(2, 5)\n",
    "twopow = partial(pow, 2)\n",
    "twopow(5)\n",
    "min(centroids, key=partial(dist, point)) # partial version"
   ]
  },
  {
   "cell_type": "code",
   "execution_count": null,
   "metadata": {},
   "outputs": [],
   "source": [
    "pprint(assign_data(centroids, points), width=45)"
   ]
  },
  {
   "cell_type": "code",
   "execution_count": null,
   "metadata": {},
   "outputs": [],
   "source": [
    "def transpose(data):\n",
    "    'Swap the rows and columns in a 2-D array of data'\n",
    "    return list(zip(*data))\n",
    "\n",
    "def compute_centroids(groups: Iterable[Sequence[Point]]) -> List[Centroid]:\n",
    "    'Compute the centroid of each group'\n",
    "    return [tuple(map(mean, transpose(group))) for group in groups]\n",
    "    # return [tuple(map(mean, zip(*group))) for group in groups]"
   ]
  },
  {
   "cell_type": "code",
   "execution_count": null,
   "metadata": {},
   "outputs": [],
   "source": [
    "from random import sample # sample without replacement\n",
    "def k_means(data: Iterable[Point], k=2, iterations=50) -> List[Centroid]:\n",
    "    data = list(data) # turn iterable into sequence\n",
    "    centroids = sample(data, k)\n",
    "    for i in range(iterations):\n",
    "        labeled = assign_data(centroids, data)\n",
    "        centroids = compute_centroids(labeled.values())\n",
    "    return centroids\n",
    "\n",
    "centroids = k_means(points, k=3)\n",
    "d = assign_data(centroids, points)\n",
    "pprint(d)"
   ]
  },
  {
   "cell_type": "markdown",
   "metadata": {},
   "source": [
    "# Building Additional Skills For Data Analysis\n",
    "- `defaultdict` for accumulating data (tabulating)\n",
    "- `defaultdict` for reversing a one-to-many mapping\n",
    "- glob\n",
    "- reading files with an encoding\n",
    "- using `next()` or `islice()` to remove elements from an iterator\n",
    "- csv.reader\n",
    "- tuple unpacking\n",
    "- looping idioms: enumerate, zip, reversed, sorted, set\n",
    "- incrementing instances of Counter\n",
    "- assertions"
   ]
  },
  {
   "cell_type": "markdown",
   "metadata": {},
   "source": [
    "## Use `defaultdict` for accumulation\n",
    "and then convert `defaultdict` to __regular `dict`__ for normal use after the cummulation phase\n",
    "- after data is accumulated, convert it to dict since no longer need its defaulting behavior \n",
    "```Python\n",
    "d = dict(d)\n",
    "```\n",
    "- defaultdict: grouping, accumulation"
   ]
  },
  {
   "cell_type": "code",
   "execution_count": 12,
   "metadata": {},
   "outputs": [
    {
     "name": "stdout",
     "output_type": "stream",
     "text": [
      "defaultdict(<class 'list'>,\n",
      "            {'a': ['red'],\n",
      "             'b': ['yellow'],\n",
      "             'c': ['blue']})\n",
      "defaultdict(<class 'list'>,\n",
      "            {'a': ['red', 'mac'],\n",
      "             'b': ['yellow', 'pc'],\n",
      "             'c': ['blue', 'arm']})\n",
      "{'a': ['red', 'mac'], 'b': ['yellow', 'pc'], 'c': ['blue', 'arm']}\n"
     ]
    }
   ],
   "source": [
    "from collections import defaultdict\n",
    "from pprint import pprint\n",
    "d = defaultdict(list)\n",
    "d['a'].append('red')\n",
    "d['b'].append('yellow')\n",
    "d['c'].append('blue')\n",
    "pprint(d, width=30)\n",
    "\n",
    "d['a'].append('mac')\n",
    "d['b'].append('pc')\n",
    "d['c'].append('arm')\n",
    "pprint(d, width=50)\n",
    "\n",
    "pprint(dict(d))"
   ]
  },
  {
   "cell_type": "markdown",
   "metadata": {},
   "source": [
    "## Reverse a one-many mapping\n",
    "- Model one-to-many: `dict(one, list_of_many)`\n",
    "- reverse (defaultdict, flat list and add)\n",
    "- simpler case (one-to-one): `{span: eng for eng, span in e2s.items()}`"
   ]
  },
  {
   "cell_type": "code",
   "execution_count": 18,
   "metadata": {},
   "outputs": [
    {
     "name": "stdout",
     "output_type": "stream",
     "text": [
      "defaultdict(<class 'list'>,\n",
      "            {'dos': ['two'],\n",
      "             'gratis': ['free'],\n",
      "             'libre': ['free'],\n",
      "             'tres': ['three', 'trio'],\n",
      "             'uno': ['one']})\n"
     ]
    }
   ],
   "source": [
    "# Pattern for 1-many: scaler, list\n",
    "e2s = {\n",
    "    'one': ['uno'],\n",
    "    'two': ['dos'],\n",
    "    'three': ['tres'],\n",
    "    'trio': ['tres'],\n",
    "    'free': ['libre', 'gratis']\n",
    "}\n",
    "\n",
    "# To revers:\n",
    "s2e = defaultdict(list)\n",
    "for eng, spanwords in e2s.items():\n",
    "    for span in spanwords:\n",
    "        s2e[span].append(eng)\n",
    "pprint(s2e)"
   ]
  },
  {
   "cell_type": "markdown",
   "metadata": {},
   "source": [
    "## glob\n",
    "global wildcard expansion (glob in bash)\n",
    "\n",
    "could be called -> os.expand_wildcards()"
   ]
  },
  {
   "cell_type": "code",
   "execution_count": 24,
   "metadata": {},
   "outputs": [
    {
     "data": {
      "text/plain": [
       "['Python DP.ipynb',\n",
       " 'Interview Questions.ipynb',\n",
       " 'python3-ref-3-datamodel.html',\n",
       " 'Blockchain demo.ipynb',\n",
       " 'README.md',\n",
       " 'REST - Flask.ipynb',\n",
       " 'Flask Tutorial.ipynb',\n",
       " \"Python's Class Development Toolkit.ipynb\",\n",
       " 'VIM and Python.ipynb',\n",
       " 'Modern Python.ipynb',\n",
       " 'Docker & Kube.ipynb',\n",
       " 'Kubernetes.ipynb',\n",
       " 'Modern Dict.ipynb',\n",
       " 'PythonReview.ipynb',\n",
       " 'python_expert_notebook.ipynb']"
      ]
     },
     "execution_count": 24,
     "metadata": {},
     "output_type": "execute_result"
    }
   ],
   "source": [
    "import glob\n",
    "glob.glob('*.*')"
   ]
  },
  {
   "cell_type": "markdown",
   "metadata": {},
   "source": [
    "## Reading files with an encoding"
   ]
  },
  {
   "cell_type": "code",
   "execution_count": 27,
   "metadata": {},
   "outputs": [
    {
     "name": "stdout",
     "output_type": "stream",
     "text": [
      "Various python notebooks\n",
      "\n",
      "\n"
     ]
    }
   ],
   "source": [
    "with open('README.md', encoding='utf-8') as f:\n",
    "    print(f.read())"
   ]
  },
  {
   "cell_type": "markdown",
   "metadata": {},
   "source": [
    "## Remove elements from an iterator\n",
    "consume some elements first then pass it to another function"
   ]
  },
  {
   "cell_type": "code",
   "execution_count": 59,
   "metadata": {},
   "outputs": [
    {
     "name": "stdout",
     "output_type": "stream",
     "text": [
      "a\n",
      "b\n",
      "['c', 'd', 'e', 'f', 'g']\n"
     ]
    }
   ],
   "source": [
    "it = iter('abcdefg')\n",
    "\n",
    "print(next(it))\n",
    "print(next(it))\n",
    "\n",
    "print(list(it))"
   ]
  },
  {
   "cell_type": "markdown",
   "metadata": {},
   "source": [
    "## CSV module"
   ]
  },
  {
   "cell_type": "code",
   "execution_count": 62,
   "metadata": {},
   "outputs": [
    {
     "name": "stdout",
     "output_type": "stream",
     "text": [
      "['Various python notebooks']\n",
      "[]\n"
     ]
    }
   ],
   "source": [
    "import csv\n",
    "with open('README.md', encoding='utf-8') as f:\n",
    "    for row in csv.reader(f):\n",
    "        print(row)"
   ]
  },
  {
   "cell_type": "markdown",
   "metadata": {},
   "source": [
    "## Tuple packing / unpacking\n",
    "```Python\n",
    "t = ('a1', 'b2', 42, '2') # Tuple packing\n",
    "type(t)\n",
    "len(t)\n",
    "field1, field2, field3, field4 = t # unpacking\n",
    "```"
   ]
  },
  {
   "cell_type": "code",
   "execution_count": 64,
   "metadata": {},
   "outputs": [],
   "source": []
  },
  {
   "cell_type": "markdown",
   "metadata": {},
   "source": [
    "## Looping idioms"
   ]
  },
  {
   "cell_type": "code",
   "execution_count": 89,
   "metadata": {
    "scrolled": true
   },
   "outputs": [
    {
     "name": "stdout",
     "output_type": "stream",
     "text": [
      "SQ\n",
      "EG\n",
      "SM\n",
      "LL\n",
      "SQ\n",
      "EG\n",
      "SM\n",
      "LL\n",
      "1 sq\n",
      "2 eg\n",
      "3 sm\n",
      "4 ll\n",
      "1 sq\n",
      "2 eg\n",
      "3 sm\n",
      "4 ll\n",
      "yellow\n",
      "blue\n",
      "green\n",
      "red\n",
      "yellow\n",
      "blue\n",
      "green\n",
      "red\n",
      "sq red\n",
      "eg green\n",
      "sm blue\n",
      "ll yellow\n",
      "sq red\n",
      "eg green\n",
      "sm blue\n",
      "ll yellow\n",
      "red\n",
      "blue\n",
      "green\n",
      "yellow\n",
      "yvr\n",
      "pvg\n",
      "pvg\n",
      "yvr\n",
      "0 YVR\n",
      "1 PVG\n"
     ]
    }
   ],
   "source": [
    "names = 'sq eg sm ll'.split()\n",
    "colors = 'red green blue yellow'.split()\n",
    "cities = 'yvr yvr pvg pvg'.split()\n",
    "\n",
    "# Loop idioms:\n",
    "for i in range(len(names)):\n",
    "    print(names[i].upper())\n",
    "\n",
    "for name in names:           # foreach\n",
    "    print(name.upper())\n",
    "    \n",
    "###\n",
    "for i in range(len(names)):\n",
    "    print(i+1, names[i])\n",
    "\n",
    "for i, name in enumerate(names, start=1): # enum\n",
    "    print(i, name)\n",
    "    \n",
    "# print all color in reverse order\n",
    "for i in range(len(colors) - 1, -1, -1):\n",
    "    print(colors[i])\n",
    "    \n",
    "for color in reversed(colors):\n",
    "    print(color)\n",
    "    \n",
    "# pair / mapcar\n",
    "n = min(len(names), len(colors))\n",
    "for i in range(n):\n",
    "    print(names[i], colors[i])\n",
    "\n",
    "for name, color in zip(names, colors):\n",
    "    print(name, color)\n",
    "    \n",
    "# sorted\n",
    "for color in sorted(colors, key=len):\n",
    "    print(color)\n",
    "    \n",
    "# eliminating duplicates\n",
    "for city in set(cities):\n",
    "    print(city)\n",
    "    \n",
    "for city in sorted(set(cities)):\n",
    "    print(city)\n",
    "# SELECT DISTINCT city FROM Cities ORDER BY city;\n",
    "# DISTINCT == set()\n",
    "# ORDER BY == sorted()\n",
    "\n",
    "# Functional programming\n",
    "for i, city in enumerate(map(str.upper, reversed(sorted(set(cities))))):\n",
    "    print(i, city)"
   ]
  },
  {
   "cell_type": "code",
   "execution_count": null,
   "metadata": {},
   "outputs": [],
   "source": [
    "# Sort\n"
   ]
  },
  {
   "cell_type": "markdown",
   "metadata": {},
   "source": [
    "## Counter"
   ]
  },
  {
   "cell_type": "code",
   "execution_count": 96,
   "metadata": {},
   "outputs": [
    {
     "name": "stdout",
     "output_type": "stream",
     "text": [
      "Counter({'red': 1})\n",
      "Counter({'red': 2, 'blue': 1})\n",
      "most common: [('red', 2)]\n",
      "['red', 'red', 'blue']\n"
     ]
    }
   ],
   "source": [
    "import collections\n",
    "c = collections.Counter()\n",
    "c['red'] += 1\n",
    "print(c)\n",
    "\n",
    "c['blue'] += 1\n",
    "c['red'] += 1\n",
    "print(c)\n",
    "\n",
    "print(f'most common: {c.most_common(1)}\\n'\n",
    "      f'{list(c.elements())}')"
   ]
  },
  {
   "cell_type": "markdown",
   "metadata": {},
   "source": [
    "## Assertion\n",
    "check assertion"
   ]
  },
  {
   "cell_type": "code",
   "execution_count": 98,
   "metadata": {},
   "outputs": [
    {
     "ename": "SyntaxError",
     "evalue": "invalid syntax (<ipython-input-98-f24712698dc5>, line 2)",
     "output_type": "error",
     "traceback": [
      "\u001b[0;36m  File \u001b[0;32m\"<ipython-input-98-f24712698dc5>\"\u001b[0;36m, line \u001b[0;32m2\u001b[0m\n\u001b[0;31m    assert 5 - 3 = 6\u001b[0m\n\u001b[0m                 ^\u001b[0m\n\u001b[0;31mSyntaxError\u001b[0m\u001b[0;31m:\u001b[0m invalid syntax\n"
     ]
    }
   ],
   "source": [
    "assert 5 + 3 == 8\n",
    "assert 5 - 3 = 6"
   ]
  },
  {
   "cell_type": "markdown",
   "metadata": {},
   "source": [
    "# Applying Cluster Analysis To A Real Dataset\n",
    "TODO"
   ]
  },
  {
   "cell_type": "markdown",
   "metadata": {},
   "source": [
    "# Gearing Up For A Publisher Subscriber Application\n",
    "- Pub/Sub service\n",
    "- __Big Idea__:\n",
    "Users make posts. Followers subscribe to the posts they are interested in. Newer posts are more relevant.\n",
    "Display Posts by a user, posts for a user or posts matching a search request. Display followers of a user. Display those followed by a user. Store the user account information with hashed passwords\n",
    "\n",
    "- Tools:\n",
    "    * Unicode normalization. NFC: chr(111)+chr(776) -> chr(246)\n",
    "    * Named tuples\n",
    "    * sorted(), bisect() and merge() -- revers and key arguments\n",
    "    * itertools.islice()\n",
    "    * sys.intern()\n",
    "    * random.expovariate()\n",
    "    * time.sleep() and time.time()\n",
    "    * hashlib: pbkdf2_hmac, sha256/512, digest, hexdigest\n",
    "    * repr or a tuple\n",
    "    * joining strings\n",
    "    * floor division\n",
    "    * ternary operator\n",
    "    * and/or short-circuit boolean operators that return a value\n"
   ]
  },
  {
   "cell_type": "markdown",
   "metadata": {},
   "source": [
    "## Unicode Normalization\n",
    "`\\u0664`\n",
    "`\\N{trade mark sign}`\n",
    "```Python\n",
    "import unicodedata\n",
    "u = unicodedata.normalize('NFC', string)\n",
    "```"
   ]
  },
  {
   "cell_type": "markdown",
   "metadata": {},
   "source": [
    "## Named tuples\n",
    "Lookup fields by name\n",
    "```Python\n",
    "import collections\n",
    "Person = collections.namedtuple('Person', ['fname', 'lname', 'age', 'email'])\n",
    "p = Person('Y', 'Q', 1, 'abc@example.com')\n",
    "```\n",
    "Like regular tuple:\n",
    "- `len()`\n",
    "- unpackable: `a, b, c, d = p`\n",
    "- slicerable: `p[:2]`\n",
    "- indexable: `p[0]`"
   ]
  },
  {
   "cell_type": "markdown",
   "metadata": {},
   "source": [
    "## Sorted data / bisect\n",
    "`bisect` is for searching ranges, not searching for a particular values\n",
    "\n",
    "cutting rope: cut n times, get n+1 sections\n",
    "\n",
    "Example: searching income tax brackets"
   ]
  },
  {
   "cell_type": "code",
   "execution_count": 7,
   "metadata": {},
   "outputs": [
    {
     "data": {
      "text/plain": [
       "['C', 'B', 'A', 'A', 'D', 'F']"
      ]
     },
     "execution_count": 7,
     "metadata": {},
     "output_type": "execute_result"
    }
   ],
   "source": [
    "import bisect\n",
    "cuts = [60, 70, 80, 90]\n",
    "grades = 'FDCBA'\n",
    "\n",
    "grades[bisect.bisect(cuts, 76)]\n",
    "[grades[bisect.bisect(cuts, score)] for score in [76, 83, 92, 100, 69, 50]]"
   ]
  },
  {
   "cell_type": "markdown",
   "metadata": {},
   "source": [
    "__`merge()` creates an iterator to combine multiple sorted inputs__\n",
    "\n",
    "Sort multiple lists:\n",
    "```sorted([10, 5, 20] + [1, 11, 25]) # several lists sorted (concat a new list inside)```\n",
    "\n",
    "If multiple lists already sorted: "
   ]
  },
  {
   "cell_type": "code",
   "execution_count": 16,
   "metadata": {},
   "outputs": [
    {
     "data": {
      "text/plain": [
       "1"
      ]
     },
     "execution_count": 16,
     "metadata": {},
     "output_type": "execute_result"
    }
   ],
   "source": [
    "a = [1, 3, 5]\n",
    "b = [2, 4, 6]\n",
    "c = [5, 10, 15]\n",
    "\n",
    "from heapq import merge\n",
    "merge_iterator = merge(a, b, c)\n",
    "\n",
    "next(merge_iterator) # verlong list, just pull few elements"
   ]
  },
  {
   "cell_type": "markdown",
   "metadata": {},
   "source": [
    "## islice\n",
    "`islice()` and `next()` let you partially consume iterators\n",
    "\n",
    "consume iter and produce iter; useful for list (generator is an iterator that runs on demand)\n",
    "\n",
    "`islice(merge(*inputs), n)` beats combining inputs, fully sorting and slicing\n"
   ]
  },
  {
   "cell_type": "code",
   "execution_count": 18,
   "metadata": {},
   "outputs": [
    {
     "data": {
      "text/plain": [
       "[1, 2, 3]"
      ]
     },
     "execution_count": 18,
     "metadata": {},
     "output_type": "execute_result"
    }
   ],
   "source": [
    "from itertools import islice # itertools.islice(iterable, start, stop[, step])\n",
    "list(islice('abcdefghi', 3))\n",
    "list(islice('abcdefghi', 0, 4, 2))\n",
    "\n",
    "it = merge(a, b, c)\n",
    "list(islice(it, 3))"
   ]
  },
  {
   "cell_type": "markdown",
   "metadata": {},
   "source": [
    "## sys.intern() to save memory\n",
    "`s = intern(s)` saves memory for frequently used strings\n",
    "\n",
    "e.g., for user information, don't want the username appears all over the place"
   ]
  },
  {
   "cell_type": "code",
   "execution_count": 27,
   "metadata": {},
   "outputs": [
    {
     "data": {
      "text/plain": [
       "True"
      ]
     },
     "execution_count": 27,
     "metadata": {},
     "output_type": "execute_result"
    }
   ],
   "source": [
    "import sys\n",
    "s = 'he'\n",
    "t = 'llo'\n",
    "hello = 'hello'\n",
    "vv = s + t ## vv and s+t have different id()\n",
    "u = sys.intern('hello')\n",
    "v = sys.intern(s + t)\n",
    "\n",
    "u is v\n"
   ]
  },
  {
   "cell_type": "markdown",
   "metadata": {},
   "source": [
    "## expovariate\n",
    "`random.expovariate()` commonly used in simuation on arrival times"
   ]
  },
  {
   "cell_type": "code",
   "execution_count": 63,
   "metadata": {},
   "outputs": [
    {
     "data": {
      "text/plain": [
       "5.005247245027367"
      ]
     },
     "execution_count": 63,
     "metadata": {},
     "output_type": "execute_result"
    }
   ],
   "source": [
    "from statistics import mean\n",
    "import random\n",
    "\n",
    "mean([random.expovariate(1 / 5) for _ in range(500)]) # mean -> 5 where expo(1/5)"
   ]
  },
  {
   "cell_type": "markdown",
   "metadata": {},
   "source": [
    "## time\n",
    "`time.sleep()` adds a delay\n",
    "\n",
    "`time.ctime()` for end-user and `time.time()` to store timestamps"
   ]
  },
  {
   "cell_type": "code",
   "execution_count": 67,
   "metadata": {},
   "outputs": [
    {
     "name": "stdout",
     "output_type": "stream",
     "text": [
      "100\n",
      "Done\n",
      "1548577174.1066773\n",
      "Sun Jan 27 08:19:34 2019\n"
     ]
    }
   ],
   "source": [
    "import time\n",
    "x = 10; print(x ** 2)\n",
    "time.sleep(2); print('Done')\n",
    "\n",
    "print(time.time())\n",
    "print(time.ctime())"
   ]
  },
  {
   "cell_type": "markdown",
   "metadata": {},
   "source": [
    "## hash\n",
    "prefer sha256 and sha512 over the weaker md5 and sha1 hash functions\n",
    "\n",
    "`hashlib.pbkdf2_hmac()` iterates a sha512 to slowdown forward password guessing attacks (adding salt, etc)"
   ]
  },
  {
   "cell_type": "code",
   "execution_count": 77,
   "metadata": {},
   "outputs": [
    {
     "name": "stdout",
     "output_type": "stream",
     "text": [
      "b'\\xac\\xbd\\x18\\xdbL\\xc2\\xf8\\\\\\xed\\xefeO\\xcc\\xc4\\xa4\\xd8'\n",
      "acbd18db4cc2f85cedef654fccc4a4d8\n"
     ]
    }
   ],
   "source": [
    "# deprecated: md5\n",
    "import hashlib\n",
    "try:\n",
    "    out = hashlib.md5('foo')\n",
    "except:\n",
    "    out = hashlib.md5('foo'.encode('utf-8'))\n",
    "print(out.digest())\n",
    "print(out.hexdigest()) # more human readable"
   ]
  },
  {
   "cell_type": "code",
   "execution_count": 79,
   "metadata": {},
   "outputs": [
    {
     "data": {
      "text/plain": [
       "'2c26b46b68ffc68ff99b453c1d30413413422d706483bfa0f98a5e886266e7ae'"
      ]
     },
     "execution_count": 79,
     "metadata": {},
     "output_type": "execute_result"
    }
   ],
   "source": [
    "# sha256\n",
    "hashlib.sha256('foo'.encode('utf-8')).hexdigest()"
   ]
  },
  {
   "cell_type": "code",
   "execution_count": 91,
   "metadata": {},
   "outputs": [
    {
     "data": {
      "text/plain": [
       "b\"FuZ\\xea\\x16~\\xce\\rh\\x0cb\\xe0tInt/!\\xb4\\x1c\\xd4\\xe4\\xbc\\xc9Q\\xd1S0\\xb4\\xbc'q\""
      ]
     },
     "execution_count": 91,
     "metadata": {},
     "output_type": "execute_result"
    }
   ],
   "source": [
    "# slow down the hash function\n",
    "# run multiple times:\n",
    "b = 'foo'.encode('utf-8')\n",
    "b = hashlib.sha512(b).digest()\n",
    "b = hashlib.sha512(b).digest()\n",
    "b = hashlib.sha512(b).digest()\n",
    "b = hashlib.sha512(b).digest()\n",
    "\n",
    "# =====>\n",
    "p = 'passphrase'.encode('utf-8')\n",
    "h = hashlib.pbkdf2_hmac('sha256', p,  salt=b'rand string', iterations=100)\n",
    "h"
   ]
  },
  {
   "cell_type": "markdown",
   "metadata": {},
   "source": [
    "## `__repr__`"
   ]
  },
  {
   "cell_type": "code",
   "execution_count": 98,
   "metadata": {},
   "outputs": [
    {
     "name": "stdout",
     "output_type": "stream",
     "text": [
      "foobar\n",
      "foobar\n"
     ]
    },
    {
     "data": {
      "text/plain": [
       "\"('fo', 'obar')\""
      ]
     },
     "execution_count": 98,
     "metadata": {},
     "output_type": "execute_result"
    }
   ],
   "source": [
    "s = 'foo'\n",
    "t = 'bar'\n",
    "print(s+t)\n",
    "\n",
    "s = 'fo'\n",
    "t = 'obar'\n",
    "print(s+t) # displays the same; don't want\n",
    "\n",
    "repr((s, t))"
   ]
  },
  {
   "cell_type": "markdown",
   "metadata": {},
   "source": [
    "## join strings\n",
    "opposite of split"
   ]
  },
  {
   "cell_type": "code",
   "execution_count": 100,
   "metadata": {},
   "outputs": [
    {
     "data": {
      "text/plain": [
       "'foo bar 2019'"
      ]
     },
     "execution_count": 100,
     "metadata": {},
     "output_type": "execute_result"
    }
   ],
   "source": [
    "l = ['foo', 'bar', '2019']\n",
    "' '.join(l)"
   ]
  },
  {
   "cell_type": "markdown",
   "metadata": {},
   "source": [
    "## Division\n",
    "/ vs //"
   ]
  },
  {
   "cell_type": "markdown",
   "metadata": {},
   "source": [
    "## Ternary operator / Conditional expression\n",
    "Ternary <-- 3\n",
    "```Python\n",
    "<posres> if <cond> else <negres>\n",
    "```"
   ]
  },
  {
   "cell_type": "code",
   "execution_count": 102,
   "metadata": {},
   "outputs": [
    {
     "data": {
      "text/plain": [
       "'pass'"
      ]
     },
     "execution_count": 102,
     "metadata": {},
     "output_type": "execute_result"
    }
   ],
   "source": [
    "score = 70\n",
    "'pass' if score >= 70 else 'fail'"
   ]
  },
  {
   "cell_type": "markdown",
   "metadata": {},
   "source": [
    "## short-circuit boolean\n",
    "`and` and `or` return the __value__ that caused the expression to be `True` or `False`\n",
    "\n",
    "Usage: `s = s or \"default\"` when passing optional arguments"
   ]
  },
  {
   "cell_type": "code",
   "execution_count": 105,
   "metadata": {},
   "outputs": [
    {
     "data": {
      "text/plain": [
       "'hello'"
      ]
     },
     "execution_count": 105,
     "metadata": {},
     "output_type": "execute_result"
    }
   ],
   "source": [
    "3 < 10 and 10 < 20\n",
    "bool('hello')\n",
    "True and 'hello'"
   ]
  },
  {
   "cell_type": "code",
   "execution_count": 109,
   "metadata": {},
   "outputs": [
    {
     "name": "stdout",
     "output_type": "stream",
     "text": [
      "10 some value\n",
      "10 default\n"
     ]
    }
   ],
   "source": [
    "def f(x, s=None):\n",
    "    s = s or 'default'\n",
    "    print(x, s)\n",
    "f(10, 'some value')\n",
    "f(10)"
   ]
  },
  {
   "cell_type": "markdown",
   "metadata": {},
   "source": [
    "# Implementing a Pub/Sub"
   ]
  },
  {
   "cell_type": "markdown",
   "metadata": {},
   "source": [
    "## Start by developing the _data model_\n",
    "Users make posts. Newer posts are more relevant. \n",
    "\n",
    "- post: namedtuple\n",
    "- place to put it - newest->oldest\n",
    "    - no list (don't scale) -> used when growing to the right\n",
    "    - `deque()` is preferred over `list()` because it supports appendleft()\n",
    "    - doule-ended queue; append and pop on both side\n",
    "- `defaultdict()` with `deque()` simplifies per-user accumulation of posts\n",
    "- `deque.appendlist(dataum)` >> `list.insert(0, datum)`\n",
    "- In large programs, memory use is dominated by data not by containers\n",
    "- keep the test data in separate file (session.py)\n",
    "- Testing with `pyflakes`, `mypy`, testcases, hypothesis\n",
    "- Type defination alias: `User = str`"
   ]
  },
  {
   "cell_type": "code",
   "execution_count": 121,
   "metadata": {},
   "outputs": [],
   "source": [
    "'pubsub.py: Simple message pub/sub service'\n",
    "\n",
    "from typing import NamedTuple, Deque, DefaultDict\n",
    "from collections import deque, defaultdict\n",
    "import time\n",
    "\n",
    "User = str\n",
    "#Post = namedtuple('Post', ['timestamp', 'user', 'text'])\n",
    "Post = NamedTuple('Post', [('timestamp', float), ('user', str), ('text', str)])\n",
    "\n",
    "posts = deque()                  # type: Deque[Post]  # Posts from newest to oldest\n",
    "user_posts = defaultdict(deque)   # type: DefaultDict[User, deque] # defaultdict for accumulation\n",
    "\n",
    "def post_message(user: User, text: str, timestamp: float=None) -> None:\n",
    "    timestamp = timestamp or time.time()\n",
    "    post = Post(timestamp, user, text)\n",
    "    posts.appendleft(post)\n",
    "    user_posts[user].appendleft(post)"
   ]
  },
  {
   "cell_type": "code",
   "execution_count": 138,
   "metadata": {},
   "outputs": [
    {
     "name": "stdout",
     "output_type": "stream",
     "text": [
      "deque([Post(timestamp=1548668863.2607005, user='steve', text='hello world222'),\n",
      "       Post(timestamp=1548668863.2606711, user='foo', text='bar'),\n",
      "       Post(timestamp=1548668863.2606397, user='gx', text='xbbbbbb'),\n",
      "       Post(timestamp=1548668863.2606015, user='steve', text='hello world')])\n",
      "deque([Post(timestamp=1548668863.2607005, user='steve', text='hello world222'),\n",
      "       Post(timestamp=1548668863.2606015, user='steve', text='hello world')])\n"
     ]
    }
   ],
   "source": [
    "'session.py: Sample data to test the pubsub internals'\n",
    "# from pubsum import *\n",
    "post_message('steve', 'hello world')\n",
    "post_message('gx', 'xbbbbbb')\n",
    "post_message('foo', 'bar')\n",
    "post_message('steve', 'hello world222')\n",
    "\n",
    "pprint(posts)\n",
    "pprint(user_posts['steve'])"
   ]
  },
  {
   "cell_type": "markdown",
   "metadata": {},
   "source": [
    "## Let one user follow another\n",
    "Followers subscribe to the posts they are interested in. "
   ]
  },
  {
   "cell_type": "code",
   "execution_count": 147,
   "metadata": {},
   "outputs": [],
   "source": [
    "'pubsub.py: Simple message pub/sub service'\n",
    "\n",
    "from typing import NamedTuple, Deque, DefaultDict, List\n",
    "from collections import deque, defaultdict\n",
    "import time\n",
    "\n",
    "User = str\n",
    "Timestamp = float\n",
    "#Post = namedtuple('Post', ['timestamp', 'user', 'text'])\n",
    "Post = NamedTuple('Post', [('timestamp', float), ('user', str), ('text', str)])\n",
    "\n",
    "posts = deque()                  # type: Deque[Post]  # Posts from newest to oldest\n",
    "user_posts = defaultdict(deque)   # type: DefaultDict[User, deque] # defaultdict for accumulation\n",
    "following = defaultdict(set)               # type: DefaultDict[User, Set[User]]\n",
    "followers = defaultdict(set)               # type: DefaultDict[User, Set[User]]\n",
    "\n",
    "def post_message(user: User, text: str, timestamp: float=None) -> None:\n",
    "    timestamp = timestamp or time.time()\n",
    "    post = Post(timestamp, user, text)\n",
    "    posts.appendleft(post)\n",
    "    user_posts[user].appendleft(post)\n",
    "    \n",
    "def follow(user: User, followed_user: User) -> None:\n",
    "    following[user].add(followed_user)\n",
    "    followers[followed_user].add(user)"
   ]
  },
  {
   "cell_type": "code",
   "execution_count": 142,
   "metadata": {},
   "outputs": [
    {
     "name": "stdout",
     "output_type": "stream",
     "text": [
      "defaultdict(<class 'set'>, {'steve': {'gx'}, 'gx': {'foo', 'steve'}})\n",
      "defaultdict(<class 'set'>, {'gx': {'steve'}, 'foo': {'gx'}, 'steve': {'gx'}})\n"
     ]
    }
   ],
   "source": [
    "'session.py: Sample data to test the pubsub internals'\n",
    "# from pubsum import *\n",
    "post_message('steve', 'hello world')\n",
    "post_message('gx', 'xbbbbbb')\n",
    "post_message('foo', 'bar')\n",
    "post_message('steve', 'hello world222')\n",
    "\n",
    "follow('steve', followed_user='gx')\n",
    "follow('gx', followed_user='foo')\n",
    "follow('gx', followed_user='steve')\n",
    "\n",
    "# pprint(posts)\n",
    "# pprint(user_posts['steve'])\n",
    "pprint(following)\n",
    "pprint(followers)"
   ]
  },
  {
   "cell_type": "markdown",
   "metadata": {},
   "source": [
    "## Display posts and followers\n",
    "Display Posts by a user, posts for a user or posts matching a search request. Display followers of a user. Display those followed by a user. \n",
    "- `deque` already supports \n",
    "- `islice` >> `list(user_posts('steve')`\n",
    "- dev procedure:\n",
    "    1. `list(islice(user_posts[user], limit))` in python shell\n",
    "    1. give function name, arg names\n",
    "    1. type hinting\n",
    "    1. testing the code\n",
    "    1. Tool chain: pyflakes, mypy"
   ]
  },
  {
   "cell_type": "code",
   "execution_count": 143,
   "metadata": {},
   "outputs": [
    {
     "data": {
      "text/plain": [
       "[Post(timestamp=1548668893.8362784, user='steve', text='hello world222'),\n",
       " Post(timestamp=1548668893.836193, user='steve', text='hello world')]"
      ]
     },
     "execution_count": 143,
     "metadata": {},
     "output_type": "execute_result"
    }
   ],
   "source": [
    "from itertools import islice\n",
    "list(islice(user_posts['steve'], 2))"
   ]
  },
  {
   "cell_type": "code",
   "execution_count": 148,
   "metadata": {},
   "outputs": [],
   "source": [
    "def posts_by_user(user: User, limit: Optional[int]=None) -> List[Post]:\n",
    "    return list(islice(user_posts[user], limit))"
   ]
  },
  {
   "cell_type": "code",
   "execution_count": 149,
   "metadata": {},
   "outputs": [],
   "source": [
    "# 3:00"
   ]
  }
 ],
 "metadata": {
  "kernelspec": {
   "display_name": "Python 3",
   "language": "python",
   "name": "python3"
  },
  "language_info": {
   "codemirror_mode": {
    "name": "ipython",
    "version": 3
   },
   "file_extension": ".py",
   "mimetype": "text/x-python",
   "name": "python",
   "nbconvert_exporter": "python",
   "pygments_lexer": "ipython3",
   "version": "3.6.7"
  },
  "toc": {
   "base_numbering": 1,
   "nav_menu": {
    "height": "389px",
    "width": "345px"
   },
   "number_sections": true,
   "sideBar": true,
   "skip_h1_title": false,
   "title_cell": "Table of Contents",
   "title_sidebar": "Contents",
   "toc_cell": false,
   "toc_position": {
    "height": "calc(100% - 180px)",
    "left": "10px",
    "top": "150px",
    "width": "357px"
   },
   "toc_section_display": true,
   "toc_window_display": true
  }
 },
 "nbformat": 4,
 "nbformat_minor": 2
}
