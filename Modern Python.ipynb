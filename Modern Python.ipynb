{
 "cells": [
  {
   "cell_type": "markdown",
   "metadata": {},
   "source": [
    "# 1. Building Foundational Python Sills for Data Analytics\n",
    "https://www.safaribooksonline.com/library/view/modern-python-livelessons/9780134743400/MOPY_01_01_01.html"
   ]
  },
  {
   "cell_type": "markdown",
   "metadata": {},
   "source": [
    "## f-string\n",
    "* %-formatting\n",
    "* .format()\n",
    "* f''"
   ]
  },
  {
   "cell_type": "code",
   "execution_count": 15,
   "metadata": {},
   "outputs": [
    {
     "name": "stdout",
     "output_type": "stream",
     "text": [
      "The answer is 10 today\n",
      "The answer is 10 today\n",
      "The answer is 10 today\n",
      "The answer is 10 today\n",
      "The answer is 00000010 today\n",
      "The answer is 00000100 today\n"
     ]
    },
    {
     "ename": "ValueError",
     "evalue": "Expect 10 to a float not a int",
     "output_type": "error",
     "traceback": [
      "\u001b[1;31m---------------------------------------------------------------------------\u001b[0m",
      "\u001b[1;31mValueError\u001b[0m                                Traceback (most recent call last)",
      "\u001b[1;32m<ipython-input-15-741d20727ea3>\u001b[0m in \u001b[0;36m<module>\u001b[1;34m()\u001b[0m\n\u001b[0;32m      7\u001b[0m \u001b[0mprint\u001b[0m\u001b[1;33m(\u001b[0m\u001b[1;34mf'The answer is {x ** 2 :08d} today'\u001b[0m\u001b[1;33m)\u001b[0m  \u001b[1;31m# expression\u001b[0m\u001b[1;33m\u001b[0m\u001b[0m\n\u001b[0;32m      8\u001b[0m \u001b[1;33m\u001b[0m\u001b[0m\n\u001b[1;32m----> 9\u001b[1;33m \u001b[1;32mraise\u001b[0m \u001b[0mValueError\u001b[0m\u001b[1;33m(\u001b[0m\u001b[1;34mf\"Expect {x!r} to a float not a {type(x).__name__}\"\u001b[0m\u001b[1;33m)\u001b[0m\u001b[1;33m\u001b[0m\u001b[0m\n\u001b[0m",
      "\u001b[1;31mValueError\u001b[0m: Expect 10 to a float not a int"
     ]
    }
   ],
   "source": [
    "x = 10\n",
    "print('The answer is %d today' % x)\n",
    "print('The answer is {0} today'.format(x))\n",
    "print('The answer is {x} today'.format(x=x))\n",
    "print(f'The answer is {x} today')\n",
    "print(f'The answer is {x :08d} today') # Format\n",
    "print(f'The answer is {x ** 2 :08d} today')  # expression\n",
    "\n",
    "raise ValueError(f\"Expect {x!r} to a float not a {type(x).__name__}\")"
   ]
  },
  {
   "cell_type": "markdown",
   "metadata": {},
   "source": [
    "## Counter Objects\n",
    "* find out how many instances of some events occurr \n",
    "* bags: multiset, no order, has frequency "
   ]
  },
  {
   "cell_type": "code",
   "execution_count": 27,
   "metadata": {},
   "outputs": [
    {
     "data": {
      "text/plain": [
       "[('red', 3), ('green', 2), ('blue', 2)]"
      ]
     },
     "execution_count": 27,
     "metadata": {},
     "output_type": "execute_result"
    }
   ],
   "source": [
    "from collections import Counter\n",
    "d = {}\n",
    "# d['dragons']\n",
    "d = Counter()\n",
    "d['dragons']\n",
    "d['dragons'] += 1\n",
    "d\n",
    "\n",
    "c = Counter('red green red blue red blue green'.split())\n",
    "c.most_common(1)\n",
    "\n",
    "# list all elements of the counter\n",
    "list(c.elements())\n",
    "list(c)\n",
    "list(c.values())\n",
    "list(c.items())"
   ]
  },
  {
   "cell_type": "markdown",
   "metadata": {},
   "source": [
    "## Statistics\n",
    "describing data"
   ]
  },
  {
   "cell_type": "code",
   "execution_count": 44,
   "metadata": {},
   "outputs": [
    {
     "data": {
      "text/plain": [
       "1.247219128924647"
      ]
     },
     "execution_count": 44,
     "metadata": {},
     "output_type": "execute_result"
    }
   ],
   "source": [
    "from statistics import mean, median, mode, stdev, pstdev\n",
    "numbers1 = [50, 52, 53]\n",
    "mean(numbers1)\n",
    "# sample stdev vs population stdev\n",
    "stdev(numbers1)\n",
    "pstdev(numbers1)"
   ]
  },
  {
   "cell_type": "markdown",
   "metadata": {},
   "source": [
    "## Sequence Operations\n",
    "concat / slicing / count / index / sort"
   ]
  },
  {
   "cell_type": "code",
   "execution_count": 61,
   "metadata": {},
   "outputs": [
    {
     "name": "stdout",
     "output_type": "stream",
     "text": [
      "[10, 20, 30, 0, 40, 50, 60, 60]\n",
      "[10, 20]\n",
      "[60, 60]\n",
      "[10, 20, 60, 60]\n",
      "['__add__', '__class__', '__contains__', '__delattr__', '__delitem__', '__dir__', '__doc__', '__eq__', '__format__', '__ge__', '__getattribute__', '__getitem__', '__gt__', '__hash__', '__iadd__', '__imul__', '__init__', '__init_subclass__', '__iter__', '__le__', '__len__', '__lt__', '__mul__', '__ne__', '__new__', '__reduce__', '__reduce_ex__', '__repr__', '__reversed__', '__rmul__', '__setattr__', '__setitem__', '__sizeof__', '__str__', '__subclasshook__', 'append', 'clear', 'copy', 'count', 'extend', 'index', 'insert', 'pop', 'remove', 'reverse', 'sort']\n"
     ]
    }
   ],
   "source": [
    "s = [10, 20, 30]\n",
    "t = [0, 40, 50, 60, 60]\n",
    "\n",
    "# List concat\n",
    "u = s + t\n",
    "print(u)\n",
    "\n",
    "# Slicing\n",
    "print(u[:2])\n",
    "print(u[-2:])\n",
    "print(u[:2] + u[-2:])\n",
    "\n",
    "# all sequences have count and index\n",
    "print(dir(list))\n",
    "u[0]\n",
    "u.index(10)\n",
    "u.count(60)\n",
    "\n",
    "# sort\n",
    "u.sort()\n",
    "t = sorted(u) # construct a new list"
   ]
  },
  {
   "cell_type": "markdown",
   "metadata": {},
   "source": [
    "## lambda expressions\n",
    "* try to replace labmda -> partial, itemgetter, attrgetter, ...\n",
    "* should be called make_function ()\n",
    "* Deffering a computertation in the future by making a function of no arguments. When the functions is called, the function runs"
   ]
  },
  {
   "cell_type": "code",
   "execution_count": 66,
   "metadata": {},
   "outputs": [
    {
     "name": "stdout",
     "output_type": "stream",
     "text": [
      "25\n"
     ]
    },
    {
     "data": {
      "text/plain": [
       "100000000000000000000"
      ]
     },
     "execution_count": 66,
     "metadata": {},
     "output_type": "execute_result"
    }
   ],
   "source": [
    "lambda x: x**2\n",
    "print((lambda x: x**2)(5))\n",
    "\n",
    "# multiple arguments\n",
    "lambda x, y: 3*x + y\n",
    "\n",
    "x = 10\n",
    "y = 20\n",
    "f = lambda : x**y\n",
    "f() "
   ]
  },
  {
   "cell_type": "markdown",
   "metadata": {},
   "source": [
    "## Chained Comparison"
   ]
  },
  {
   "cell_type": "code",
   "execution_count": 67,
   "metadata": {},
   "outputs": [
    {
     "data": {
      "text/plain": [
       "True"
      ]
     },
     "execution_count": 67,
     "metadata": {},
     "output_type": "execute_result"
    }
   ],
   "source": [
    "x = 15\n",
    "x > 6\n",
    "x < 10\n",
    "x > 6 and x < 10\n",
    "6 < x < 20 # doesn't load the stack 2 times, a bit more efficient"
   ]
  },
  {
   "cell_type": "markdown",
   "metadata": {},
   "source": [
    "## Random / Distribution"
   ]
  },
  {
   "cell_type": "code",
   "execution_count": 98,
   "metadata": {},
   "outputs": [
    {
     "name": "stdout",
     "output_type": "stream",
     "text": [
      "0.04799016416246343\n",
      "0.04649462604817124\n"
     ]
    }
   ],
   "source": [
    "from random import *\n",
    "seed(123456789) # testing\n",
    "random()\n",
    "\n",
    "# Continus dist\n",
    "uniform(1000, 1100)\n",
    "triangular(1000, 1100)\n",
    "gauss(100, 15) # Random IQ, normal\n",
    "expovariate(20) # 1/20\n",
    "\n",
    "from statistics import mean, stdev\n",
    "# triangular, uniform, gauss, expovariate\n",
    "data = [expovariate(20) for i in range(1000)]\n",
    "print(mean(data))\n",
    "print(stdev(data))# discrete dist\n",
    "from random import choice, choices, sample, shuffle"
   ]
  },
  {
   "cell_type": "code",
   "execution_count": 125,
   "metadata": {},
   "outputs": [
    {
     "data": {
      "text/plain": [
       "['draw', 'win', 'lose', 'double win', 'play again']"
      ]
     },
     "execution_count": 125,
     "metadata": {},
     "output_type": "execute_result"
    }
   ],
   "source": [
    "# discrete dist\n",
    "from random import choice, choices, sample, shuffle\n",
    "outcomes = ['win', 'lose', 'draw', 'play again', 'double win']\n",
    "choice(outcomes)\n",
    "choices(outcomes, k=10) # Sampling with replacement\n",
    "\n",
    "from collections import Counter\n",
    "Counter(choices(outcomes, k=10))\n",
    "\n",
    "sorted(sample(range(1, 57), k=6)) # Sampling without replacement\n",
    "\n",
    "sample(outcomes, k=1)[0]\n",
    "choice(outcomes) # choice is a special case of sample\n",
    "\n",
    "shuffle(outcomes); outcomes\n",
    "sample(outcomes, k=len(outcomes)) # shuffle is a special of sample\n"
   ]
  },
  {
   "cell_type": "markdown",
   "metadata": {},
   "source": [
    "# 2. Resampling statistic"
   ]
  },
  {
   "cell_type": "markdown",
   "metadata": {},
   "source": [
    "* Six roulette wheel spins / choices with weighting"
   ]
  },
  {
   "cell_type": "code",
   "execution_count": 164,
   "metadata": {},
   "outputs": [
    {
     "data": {
      "text/plain": [
       "Counter({'black': 6})"
      ]
     },
     "execution_count": 164,
     "metadata": {},
     "output_type": "execute_result"
    }
   ],
   "source": [
    "from random import *\n",
    "from statistics import *\n",
    "from collections import *\n",
    "\n",
    "# Six roulette whells -- 18 red 19 black 2 green\n",
    "# ways to populate\n",
    "choice(['red', 'red', 'red', 'black', 'black', 'black', 'green'])\n",
    "\n",
    "population = ['red'] * 18 + ['black'] * 18 + ['green'] * 2\n",
    "choice(population)\n",
    "\n",
    "[choice(population) for i in range(6)]\n",
    "Counter([choice(population) for i in range(6)])\n",
    "\n",
    "Counter(choices(population, k=6))\n",
    "\n",
    "# better way\n",
    "Counter(choices(['red', 'black', 'green'], [18, 18, 2], k=6))"
   ]
  },
  {
   "cell_type": "markdown",
   "metadata": {},
   "source": [
    "* deal 20 cards without replacement (16 tens, 36 low)\n",
    "* after a random deal, what's the  likelihoods of wining"
   ]
  },
  {
   "cell_type": "code",
   "execution_count": 176,
   "metadata": {},
   "outputs": [
    {
     "data": {
      "text/plain": [
       "Counter({'low': 24, 'tens': 8})"
      ]
     },
     "execution_count": 176,
     "metadata": {},
     "output_type": "execute_result"
    }
   ],
   "source": [
    "# define what the deck is\n",
    "deck = Counter(tens=16, low=36)\n",
    "# list all elements\n",
    "deck = list(deck.elements())\n",
    "deal = sample(deck, 20)\n",
    "Counter(deal)\n",
    "# deal 52 cards\n",
    "deal = sample(deck, 52)\n",
    "remainder = deal[20:]\n",
    "Counter(remainder)"
   ]
  },
  {
   "cell_type": "markdown",
   "metadata": {},
   "source": [
    "* a weighted biased coin (spin it)\n",
    "* P(5 or more heads from 7 spins)"
   ]
  },
  {
   "cell_type": "code",
   "execution_count": 239,
   "metadata": {},
   "outputs": [
    {
     "data": {
      "text/plain": [
       "0.419904"
      ]
     },
     "execution_count": 239,
     "metadata": {},
     "output_type": "execute_result"
    }
   ],
   "source": [
    "pop = ['heads', 'tails']\n",
    "cumwgt = [0.60, 1.00] # cumulative weights\n",
    "\n",
    "# 1 trail\n",
    "trail = lambda : choices(pop, cum_weights=cumwgt, k=7).count('heads') >= 5\n",
    "n = 100\n",
    "sum(trail() for i in range(n)) / n\n",
    "\n",
    "# compare to the analytic approach \n",
    "from math import factorial as fact\n",
    "\n",
    "def comb(n, r):\n",
    "    return fact(n) // fact(r) // fact(n - r)\n",
    "\n",
    "comb(10, 3)\n",
    "ph=0.6\n",
    "# 5 heads out of 7 spins\n",
    "ph ** 5 * (1-ph) ** 2 * comb(7, 5)\n",
    "# 6 heads out of 7 spins\n",
    "ph ** 6 * (1-ph) ** 1 * comb(7, 6)\n",
    "\n",
    "sum(ph**i * (1-ph)**(7-i) * comb(7, i) for i in range(5, 8))"
   ]
  },
  {
   "cell_type": "markdown",
   "metadata": {},
   "source": [
    "* Does the median-of-five fall in the middle of two quartiles"
   ]
  },
  {
   "cell_type": "code",
   "execution_count": 248,
   "metadata": {},
   "outputs": [
    {
     "data": {
      "text/plain": [
       "0.7936"
      ]
     },
     "execution_count": 248,
     "metadata": {},
     "output_type": "execute_result"
    }
   ],
   "source": [
    "sample(range(10000), 5)\n",
    "sorted(sample(range(10000), 5))[2]\n",
    "\n",
    "n = 100000\n",
    "n // 4\n",
    "n * 3 // 4\n",
    "\n",
    "trail = lambda : n // 4 < median(sample(range(100000), 5)) <= 3 * n // 4\n",
    "sum(trail() for i in range(100000)) / n"
   ]
  }
 ],
 "metadata": {
  "kernelspec": {
   "display_name": "Python 3",
   "language": "python",
   "name": "python3"
  },
  "language_info": {
   "codemirror_mode": {
    "name": "ipython",
    "version": 3
   },
   "file_extension": ".py",
   "mimetype": "text/x-python",
   "name": "python",
   "nbconvert_exporter": "python",
   "pygments_lexer": "ipython3",
   "version": "3.6.3"
  }
 },
 "nbformat": 4,
 "nbformat_minor": 2
}
