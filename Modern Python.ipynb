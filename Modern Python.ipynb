{
 "cells": [
  {
   "cell_type": "markdown",
   "metadata": {},
   "source": [
    "## Building Foundational Python Sills for Data Analytics\n",
    "\n",
    "https://www.safaribooksonline.com/library/view/modern-python-livelessons/9780134743400/MOPY_01_01_01.html"
   ]
  },
  {
   "cell_type": "markdown",
   "metadata": {},
   "source": [
    "# Resampling - Preparation\n",
    "Big Idea: Statistics modeled in a program are eaiser to get right and understand than using a formulaic approach. It also extends to more complicated situations that classic formulars."
   ]
  },
  {
   "cell_type": "markdown",
   "metadata": {},
   "source": [
    "## F-strings\n",
    "* Old style: percent style - `%-formatting`\n",
    "* newer style: `.format()`\n",
    "* newer style: `f''`"
   ]
  },
  {
   "cell_type": "code",
   "execution_count": null,
   "metadata": {},
   "outputs": [],
   "source": [
    "x = 10\n",
    "print('The answer is %d today' % x)\n",
    "\n",
    "print('The answer is {0} today'.format(x))\n",
    "print('The answer is {x} today'.format(x=x))\n",
    "\n",
    "print(f'The answer is {x} today')\n",
    "print(f'The answer is {x :08d} today') # Format operators\n",
    "print(f'The answer is {x ** 2 :08d} today')  # Run expression inside\n",
    "\n",
    "\"\"\"common for raising exception strings\"\"\"\n",
    "raise ValueError(f\"Expect {x!r} to a float not a {type(x).__name__}\")"
   ]
  },
  {
   "cell_type": "markdown",
   "metadata": {},
   "source": [
    "## Counter Objects\n",
    "* Counter: a subclass of dict; modeled from small tote bag\n",
    "* Find out how many instances of some events occurr \n",
    "* Bags: multiset in c++, no order, has frequency \n",
    "* `c.elements()`: Pull out one at a time"
   ]
  },
  {
   "cell_type": "code",
   "execution_count": null,
   "metadata": {},
   "outputs": [],
   "source": [
    "from collections import Counter\n",
    "d = {}\n",
    "# Tranditional dict will raise an key error if no such key\n",
    "# d['dragons']\n",
    "d = Counter()\n",
    "d['dragons']\n",
    "d['dragons'] += 1\n",
    "print(d)\n",
    "\n",
    "# Count elements in a list\n",
    "c = Counter('red green red blue red blue green'.split())\n",
    "print(f'Counter is: {c}; Most common color is {c.most_common(1)}')\n",
    "\n",
    "# list all elements of the counter\n",
    "list(c.elements())\n",
    "list(c) # list key of a (dict)\n",
    "list(c.values()) # list values\n",
    "list(c.items()) # list k,v pair"
   ]
  },
  {
   "cell_type": "markdown",
   "metadata": {},
   "source": [
    "## Statistics Module\n",
    "describing data"
   ]
  },
  {
   "cell_type": "code",
   "execution_count": null,
   "metadata": {},
   "outputs": [],
   "source": [
    "from statistics import mean, median, mode, stdev, pstdev\n",
    "numbers1 = [50, 52, 53]\n",
    "mean(numbers1)\n",
    "# sample stdev vs population stdev\n",
    "stdev(numbers1)\n",
    "pstdev(numbers1)"
   ]
  },
  {
   "cell_type": "markdown",
   "metadata": {},
   "source": [
    "## Sequence Operations\n",
    "concat / slicing / count / index / sort"
   ]
  },
  {
   "cell_type": "code",
   "execution_count": null,
   "metadata": {},
   "outputs": [],
   "source": [
    "s = [10, 20, 30]\n",
    "t = [0, 40, 50, 60, 60]\n",
    "\n",
    "# List concat\n",
    "u = s + t\n",
    "print(u)\n",
    "\n",
    "# Slicing\n",
    "print(u[:2])\n",
    "print(u[-2:])\n",
    "print(u[:2] + u[-2:]) # Concat \n",
    "\n",
    "# all sequences have _count_ and _index_\n",
    "print(dir(list))\n",
    "u[0]\n",
    "u.index(10)\n",
    "u.count(60)\n",
    "\n",
    "# sort\n",
    "u.sort()  # sort original list\n",
    "t = sorted(u) # construct a new list"
   ]
  },
  {
   "cell_type": "markdown",
   "metadata": {},
   "source": [
    "## `lambda` expressions\n",
    "* try to replace labmda -> partial, itemgetter, attrgetter, ...\n",
    "* should be called `make_function()`\n",
    "* Deffering a computertation in the future by making a function of __no arguments__. When the functions is called, the function runs. aka freeze/thaw; promisses"
   ]
  },
  {
   "cell_type": "code",
   "execution_count": null,
   "metadata": {},
   "outputs": [],
   "source": [
    "lambda x: x**2\n",
    "print((lambda x: x**2)(5))\n",
    "\n",
    "# multiple arguments\n",
    "lambda x, y: 3*x + y\n",
    "\n",
    "x = 10\n",
    "y = 20\n",
    "f = lambda : x**y # We can thaw the function after frozen, only when we call it to run it\n",
    "f() "
   ]
  },
  {
   "cell_type": "markdown",
   "metadata": {},
   "source": [
    "## Chained Comparison"
   ]
  },
  {
   "cell_type": "code",
   "execution_count": null,
   "metadata": {},
   "outputs": [],
   "source": [
    "x = 15\n",
    "x > 6\n",
    "x < 10\n",
    "x > 6 and x < 10\n",
    "6 < x < 20 # doesn't load the stack 2 times, a bit more efficient"
   ]
  },
  {
   "cell_type": "markdown",
   "metadata": {},
   "source": [
    "## Random / Distribution"
   ]
  },
  {
   "cell_type": "code",
   "execution_count": null,
   "metadata": {},
   "outputs": [],
   "source": [
    "import random\n",
    "random.seed(123456789) # testing\n",
    "random.random()\n",
    "\n",
    "# Continus dist\n",
    "random.uniform(1000, 1100)\n",
    "random.triangular(1000, 1100) # halfway point much more chosen\n",
    "random.gauss(100, 15) # Random IQ, normal\n",
    "random.expovariate(20) # 1/20\n",
    "\n",
    "from statistics import mean, stdev\n",
    "# triangular, uniform, gauss, expovariate\n",
    "data = [random.expovariate(20) for i in range(1000)]\n",
    "print(mean(data))\n",
    "print(stdev(data))# discrete dist\n",
    "from random import choice, choices, sample, shuffle"
   ]
  },
  {
   "cell_type": "code",
   "execution_count": null,
   "metadata": {},
   "outputs": [],
   "source": [
    "# discrete dist\n",
    "from random import choice, choices, sample, shuffle\n",
    "outcomes = ['win', 'lose', 'draw', 'play again', 'double win']\n",
    "choice(outcomes)\n",
    "choices(outcomes, k=10) # Sampling with replacement\n",
    "\n",
    "from collections import Counter\n",
    "Counter(choices(outcomes, k=10))\n",
    "\n",
    "sorted(sample(range(1, 57), k=6)) # Sampling without replacement\n",
    "\n",
    "sample(outcomes, k=1)[0]\n",
    "choice(outcomes) # choice is a special case of sample\n",
    "\n",
    "shuffle(outcomes); outcomes\n",
    "sample(outcomes, k=len(outcomes)) # shuffle is a special of sample\n"
   ]
  },
  {
   "cell_type": "markdown",
   "metadata": {},
   "source": [
    "# Resampling statistic"
   ]
  },
  {
   "cell_type": "markdown",
   "metadata": {},
   "source": [
    "* Six roulette wheel spins / choices with weighting"
   ]
  },
  {
   "cell_type": "code",
   "execution_count": null,
   "metadata": {},
   "outputs": [],
   "source": [
    "from random import *\n",
    "from statistics import *\n",
    "from collections import *\n",
    "\n",
    "# Six roulette whells -- 18 red 19 black 2 green\n",
    "# ways to populate\n",
    "choice(['red', 'red', 'red', 'black', 'black', 'black', 'green'])\n",
    "\n",
    "population = ['red'] * 18 + ['black'] * 18 + ['green'] * 2\n",
    "choice(population)\n",
    "\n",
    "[choice(population) for i in range(6)]\n",
    "Counter([choice(population) for i in range(6)])\n",
    "\n",
    "Counter(choices(population, k=6))\n",
    "\n",
    "# better way\n",
    "Counter(choices(['red', 'black', 'green'], [18, 18, 2], k=6))"
   ]
  },
  {
   "cell_type": "markdown",
   "metadata": {},
   "source": [
    "* deal 20 cards without replacement (16 tens, 36 low)\n",
    "* after a random deal, what's the  likelihoods of wining"
   ]
  },
  {
   "cell_type": "code",
   "execution_count": null,
   "metadata": {},
   "outputs": [],
   "source": [
    "# define what the deck is\n",
    "deck = Counter(tens=16, low=36)\n",
    "# list all elements\n",
    "deck = list(deck.elements())\n",
    "deal = sample(deck, 20)\n",
    "Counter(deal)\n",
    "# deal 52 cards\n",
    "deal = sample(deck, 52)\n",
    "remainder = deal[20:]\n",
    "Counter(remainder)"
   ]
  },
  {
   "cell_type": "markdown",
   "metadata": {},
   "source": [
    "* a weighted biased coin (spin it)\n",
    "* P(5 or more heads from 7 spins)"
   ]
  },
  {
   "cell_type": "code",
   "execution_count": null,
   "metadata": {},
   "outputs": [],
   "source": [
    "pop = ['heads', 'tails']\n",
    "cumwgt = [0.60, 1.00] # cumulative weights\n",
    "\n",
    "# 1 trail\n",
    "trail = lambda : choices(pop, cum_weights=cumwgt, k=7).count('heads') >= 5\n",
    "n = 100\n",
    "sum(trail() for i in range(n)) / n\n",
    "\n",
    "# compare to the analytic approach \n",
    "from math import factorial as fact\n",
    "\n",
    "def comb(n, r):\n",
    "    return fact(n) // fact(r) // fact(n - r)\n",
    "\n",
    "comb(10, 3)\n",
    "ph=0.6\n",
    "# 5 heads out of 7 spins\n",
    "ph ** 5 * (1-ph) ** 2 * comb(7, 5)\n",
    "# 6 heads out of 7 spins\n",
    "ph ** 6 * (1-ph) ** 1 * comb(7, 6)\n",
    "\n",
    "sum(ph**i * (1-ph)**(7-i) * comb(7, i) for i in range(5, 8))"
   ]
  },
  {
   "cell_type": "markdown",
   "metadata": {},
   "source": [
    "* Does the median-of-five fall in the middle of two quartiles"
   ]
  },
  {
   "cell_type": "code",
   "execution_count": null,
   "metadata": {},
   "outputs": [],
   "source": [
    "sample(range(10000), 5)\n",
    "sorted(sample(range(10000), 5))[2]\n",
    "\n",
    "n = 100000\n",
    "n // 4\n",
    "n * 3 // 4\n",
    "\n",
    "trail = lambda : n // 4 < median(sample(range(100000), 5)) <= 3 * n // 4\n",
    "sum(trail() for i in range(100000)) / n"
   ]
  },
  {
   "cell_type": "markdown",
   "metadata": {},
   "source": [
    "# Improving Reliability"
   ]
  },
  {
   "cell_type": "markdown",
   "metadata": {},
   "source": [
    "## Mypy and Type Hinting\n",
    "__Big idea__: Add type hints to code helps clarify your thoughts, improves documentaion, and may allow a static analysis tool to detect some kinds of errors.\n",
    "* Use of `# type: ` - Type comment\n",
    "* Use of function annotaion\n",
    "* Use of class\n",
    "* Container[Type]\n",
    "* Tuple and ...\n",
    "* Optional arguments\n",
    "* Deque vs deque\n",
    "* Issues with f-string, new colon notation, secrets module\n",
    "\n",
    "Tools:\n",
    "* mypy\n",
    "* pyflakes\n",
    "* hypothesis\n",
    "* unittest -> `nose py.test`  [classic, most builtiful way to run unittest]"
   ]
  },
  {
   "cell_type": "code",
   "execution_count": null,
   "metadata": {},
   "outputs": [],
   "source": [
    "# To check, run in Mypy: `python3 -m mypy hints.py`\n",
    "import typing\n",
    "from collections import OrderedDict, deque, namedtuple\n",
    "\n",
    "# Old style:\n",
    "x = 10 # type: int\n",
    "\n",
    "# New style\n",
    "x: int = 10\n",
    "    \n",
    "# Function annotations, before run time\n",
    "def f(x: int, y: Optional[int]=None) -> int:\n",
    "    if y is None:\n",
    "        y = 20\n",
    "    return x + y\n",
    "    \n",
    "x = {} # type: OrderedDict (should throw error)\n",
    "y = OrderedDict() # type: OrderedDict\n",
    "\n",
    "# Sequence: indexable / iterable\n",
    "def g(x: Sequence):\n",
    "    print(len(x))\n",
    "    print(x[2])\n",
    "    for i in x:\n",
    "        print(i)\n",
    "    print()\n",
    "\n",
    "# Specify Sequence type: \n",
    "def g(x: Sequence[int]):\n",
    "    pass\n",
    "\n",
    "# Specify a list\n",
    "def g(x: List[int]):\n",
    "    pass\n",
    "\n",
    "info = ('Foo', 'Bar', 'Var', 'lentgh') # Tuple[str, ...]  (all strings)\n",
    "\n",
    "Point = namedtuple('Point', ['x', 'y'])\n",
    "Point2 = typing.NamedTuple('Point2', [('x', int), ('y', int)])"
   ]
  },
  {
   "cell_type": "markdown",
   "metadata": {},
   "source": [
    "## fsum, true division\n",
    "* `fsum()` is more accurate than `sum()`\n",
    "```Python\n",
    "from math import fsum \n",
    "```\n",
    "* / vs // [True division vs floor division]"
   ]
  },
  {
   "cell_type": "code",
   "execution_count": null,
   "metadata": {},
   "outputs": [],
   "source": [
    "print(f'{1.1 + 2.2}')\n",
    "print(f'{1.1 + 2.2 == 3.3}')\n",
    "print(f'{sum([0.1] * 10)}')"
   ]
  },
  {
   "cell_type": "markdown",
   "metadata": {},
   "source": [
    "##  Grouping with `defaultdict`\n",
    "`defaultdict` creates a new container to store elements with a common feature (key)\n",
    "\n",
    "```Python\n",
    "d = defaultdict(set)\n",
    "d['t'] # returns an empaty set   vs keyerror in regular dict\n",
    "d['t'].add('tom')\n",
    "```\n",
    "\n",
    "```Python\n",
    "d = defaultdict(list)\n",
    "d['t'].append('tom')\n",
    "d['t'].append('tom')\n",
    "```"
   ]
  },
  {
   "cell_type": "code",
   "execution_count": 6,
   "metadata": {},
   "outputs": [
    {
     "name": "stdout",
     "output_type": "stream",
     "text": [
      "defaultdict(<class 'list'>,\n",
      "            {'b': ['betty'],\n",
      "             'd': ['david', 'darlene', 'davin'],\n",
      "             'm': ['mary', 'michael'],\n",
      "             's': ['susan', 'sandy', 'shelly'],\n",
      "             't': ['tom']})\n",
      "defaultdict(<class 'list'>,\n",
      "            {3: ['tom'],\n",
      "             4: ['mary'],\n",
      "             5: ['david', 'betty', 'susan', 'sandy', 'davin'],\n",
      "             6: ['shelly'],\n",
      "             7: ['darlene', 'michael']})\n"
     ]
    }
   ],
   "source": [
    "from pprint import pprint\n",
    "from collections import defaultdict\n",
    "names = '''david betty susan mary darlene sandy davin shelly tom michael'''.split()\n",
    "d = defaultdict(list)\n",
    "for name in names:\n",
    "    feature = name[0] # len(name) / name[-1], etc\n",
    "    d[feature].append(name)\n",
    "pprint(d, width=60)\n",
    "\n",
    "d = defaultdict(list)\n",
    "for name in names:\n",
    "    feature = len(name)\n",
    "    d[feature].append(name)\n",
    "pprint(d)"
   ]
  },
  {
   "cell_type": "markdown",
   "metadata": {},
   "source": [
    "## Key function\n",
    "__What__: A function takes one argument and transform it into a key (and do operations below with that key)\n",
    "\n",
    "Works with: min(), max(), sorted(), nsmallest(), nlargest(), groupby() and merge()\n",
    "\n",
    "SQL:\n",
    "```SQL\n",
    "SELECT name FROM names ORDER BY len(name);\n",
    "```\n",
    "\n",
    "Python:\n",
    "```Python\n",
    "pprint(sorted(names, key=len))\n",
    "```"
   ]
  },
  {
   "cell_type": "markdown",
   "metadata": {},
   "source": [
    "## Transposing 2-D data with zip() and star-args\n",
    "- zip: bring multiple sequences together, pair-wise / unpaired elements are left out\n",
    "- `from itertools import zip_longest`: fill in missing value\n",
    "- use with star (*) -> umpack m into seperate arguments; each row becomes an argument"
   ]
  },
  {
   "cell_type": "code",
   "execution_count": 29,
   "metadata": {},
   "outputs": [
    {
     "name": "stdout",
     "output_type": "stream",
     "text": [
      "Result: [('a', 'g'), ('b', 'h'), ('c', 'i'), ('d', 'j'), ('e', 'k'), ('f', 'l')]; m is missing\n",
      "[(10, 30, 50), (20, 40, 60)]\n",
      "[(10, 30, 50), (20, 40, 60)]\n"
     ]
    }
   ],
   "source": [
    "l = list(zip('abcdef','ghijklm'))\n",
    "print(f'Result: {l}; m is missing') # notice `m` is missing\n",
    "\n",
    "from itertools import zip_longest\n",
    "list(zip_longest('abcdef','ghijklm'))\n",
    "list(zip_longest('abcdef','ghijklm', fillvalue='x'))\n",
    "\n",
    "\n",
    "# Transposing 3x2 matrix to 2x3\n",
    "m = [[10, 20], [30, 40], [50, 60]]\n",
    "print(f'{list(zip([10, 20], [30, 40], [50, 60]))}')\n",
    "\n",
    "print(f'{list(zip(*m))}')"
   ]
  },
  {
   "cell_type": "markdown",
   "metadata": {},
   "source": [
    "## Flattening data with list comprehensions"
   ]
  },
  {
   "cell_type": "code",
   "execution_count": 28,
   "metadata": {},
   "outputs": [
    {
     "name": "stdout",
     "output_type": "stream",
     "text": [
      "[[10, 20],\n",
      " [30, 40],\n",
      " [50, 60, 70]]\n",
      "10\n",
      "20\n",
      "30\n",
      "40\n",
      "50\n",
      "60\n",
      "70\n",
      "50\n",
      "60\n",
      "70\n"
     ]
    },
    {
     "data": {
      "text/plain": [
       "[50, 60, 70]"
      ]
     },
     "execution_count": 28,
     "metadata": {},
     "output_type": "execute_result"
    }
   ],
   "source": [
    "m = [[10, 20], [30, 40], [50, 60, 70]]\n",
    "pprint(m, width=15)\n",
    "\n",
    "# flatterning matrix\n",
    "for row in m:\n",
    "    for col in row:\n",
    "        print(col)\n",
    "        \n",
    "[x for row in m for x in row] # Same result using list comprehension\n",
    "\n",
    "non_flat = m\n",
    "for x in non_flat:\n",
    "    if len(x) > 2:\n",
    "        for y in x:\n",
    "            print(y)\n",
    "[y for x in non_flat if len(x) > 2 for y in x] # Same as above            "
   ]
  },
  {
   "cell_type": "markdown",
   "metadata": {},
   "source": [
    "## Convert an interator into a list\n",
    "Use `list(iterator)`\n",
    "- list: indexable; loop over it multiple times; run in reverse"
   ]
  },
  {
   "cell_type": "markdown",
   "metadata": {},
   "source": [
    "# K-means"
   ]
  }
 ],
 "metadata": {
  "kernelspec": {
   "display_name": "Python 3",
   "language": "python",
   "name": "python3"
  },
  "language_info": {
   "codemirror_mode": {
    "name": "ipython",
    "version": 3
   },
   "file_extension": ".py",
   "mimetype": "text/x-python",
   "name": "python",
   "nbconvert_exporter": "python",
   "pygments_lexer": "ipython3",
   "version": "3.6.7"
  },
  "toc": {
   "base_numbering": 1,
   "nav_menu": {
    "height": "389px",
    "width": "345px"
   },
   "number_sections": true,
   "sideBar": true,
   "skip_h1_title": false,
   "title_cell": "Table of Contents",
   "title_sidebar": "Contents",
   "toc_cell": false,
   "toc_position": {},
   "toc_section_display": true,
   "toc_window_display": true
  }
 },
 "nbformat": 4,
 "nbformat_minor": 2
}
