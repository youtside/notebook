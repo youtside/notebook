{
 "cells": [
  {
   "cell_type": "markdown",
   "metadata": {},
   "source": [
    "### Patterns in general\n",
    "- \"Each pattern describes a problem which occuurs over and over in our environment, and then describes the core of the solution to that problem, in such way that you can use this solution a million times over, without ever doing it the same way twice\" [Alexander et al, \"A Pattern Language\"]\n",
    "- Design (and thus patterns) is not independent from the implementation's technology.\n",
    "\n",
    "### Classic SW DPs\n",
    "- not data structures, nor algorithms\n",
    "- not domain-specific architectures for entire subsystems\n",
    "\n",
    "### DP write-up components\n",
    "- NAME, context, problem\n",
    "- KNOWN USES (KU): DP are discovered, not invented\n",
    "- results, rationale, related DPs\n",
    "- forces, solution, examples\n",
    "- DP: description > prescription\n",
    "- formal fixed schema not a must (but helpful)\n",
    "\n",
    "## Categories of SQ DP\n",
    "- __Creational__: concern the ways and means of object instantiation\n",
    "\n",
    "- __Structural__: deal with the mutual composition of classes or objects\n",
    "\n",
    "- __Behavioral__: analyze the ways in which classes or objects interact and distribute responsibilities among them\n",
    "\n",
    "## Prolegomena\n",
    "- Program to an interface, not to an implementation\n",
    "- Favor object composition over class inheritance\n",
    "\n",
    "    > - Strong Coupling -> inherit only when it's really convenient\n",
    "    > - Not -> hold or wrap"
   ]
  },
  {
   "cell_type": "markdown",
   "metadata": {},
   "source": [
    "## Hold & Wrap\n",
    "- Hold: object O has subobject S as an attribute (maybe property)\n",
    "    - self.S.method or O.S.method\n",
    "    - Good: Simple, direct, immediate\n",
    "    - Bad: Strong coupling, often on wrong axis\n",
    "- Wrap: hold (via private name) plus deligation\n",
    "    - O.method\n",
    "    - Good: \n",
    "        - explicit (def method(self,...) <- self.S.method)\n",
    "        - Automatic (delegation in `__getattr__`)\n",
    "        - Gets coupling right (law of Demeter)\\\n",
    "- Inheritance cannot restrict"
   ]
  },
  {
   "cell_type": "markdown",
   "metadata": {},
   "source": [
    "Python2: `raise E, V, T`\n",
    "Python3: `raise E(V).with_traceback(T)`"
   ]
  },
  {
   "cell_type": "code",
   "execution_count": 4,
   "metadata": {},
   "outputs": [],
   "source": [
    "class RestrictingWrapper(object):\n",
    "    def __init__(self, wrap, block):\n",
    "        self._wrap = wrap\n",
    "        self._block = block\n",
    "    def __getattr__(self, n):\n",
    "        if n in self._block:\n",
    "            raise AttributeError(n)\n",
    "        return getattr(self._wrap, n)"
   ]
  },
  {
   "cell_type": "markdown",
   "metadata": {},
   "source": [
    "# Creational Patterns\n",
    "- not very common in Python because \"factory\" is essentially built-in"
   ]
  },
  {
   "cell_type": "markdown",
   "metadata": {},
   "source": [
    "## Problem: We want just one instance to exist\n",
    "1. \\>90% times, use a module instead of a class\n",
    "    - X: no subclassing, no special methods (`__add__`)...\n",
    "2. Make just 1 instance (no enforcement)\n",
    "3. Singleton\n",
    "    - X: subclassing not really smooth\n",
    "4. Monostate\n",
    "    - X: Guido dislikes it\n",
    "    \n",
    "### Singleton\n",
    "```Python\n",
    "class Singleton(object):\n",
    "    def __new__(cls, *a, **k):\n",
    "        if not hasattr(cls, '_inst'):\n",
    "            cls._inst = super(Singleton, cls).__new__(cls, *a, **k)\n",
    "        return cls._inst\n",
    "```\n",
    "__CONS__: subclassing is a problem:\n",
    "```Python\n",
    "class Foo(Singleton): pass\n",
    "class Bar(Foo): pass\n",
    "f = Foo(); b = Bar(); # ...???...\n",
    "```\n",
    "\n",
    "### Monostate (Borg)\n",
    "Everything will share the same state\n",
    "```Python\n",
    "class Borg(object):\n",
    "    _shared_state = {}\n",
    "    def __new__(cls, *a, **k):\n",
    "        obj = super(Borg, cls).__new__(cls, *a, **k)\n",
    "        obj.__dict__ = cls._shared_state\n",
    "        return obj\n",
    "```\n",
    "subclassing:\n",
    "```Python\n",
    "class Foo(Borg): pass\n",
    "class Bar(Foo): pass\n",
    "class Baz(Foo): _shared_state = {}\n",
    "```\n",
    "_Data Overriding_ "
   ]
  },
  {
   "cell_type": "markdown",
   "metadata": {},
   "source": [
    "## Problem: Not commit to instantiating a specific concrete class\n",
    "1. Dependency injection\n",
    "    - no creation; injected from \"outside\"\n",
    "    - X: Don't know how many widgets are needed / don't know how many dependencies to inject at the first place\n",
    "2. Factory subcategory of DPs\n",
    "    - may create whatever is approperate / reuse existing\n",
    "    - factory functions (& other callables)\n",
    "    - factory methods (overridable)\n",
    "    - abstract factory classes\n",
    "    \n",
    "### Factories in Python\n",
    "Each type/class is intrinsically a factory. Class is callable\n",
    "- internally, may have `__new__` which can do anything\n",
    "- externally, it's a callable, interchangeable with any other\n",
    "- maybe injected directly (no need for boilerplate factory functions)\n",
    "\n",
    "Modules can be kinda \"abstract\" factories without inheritance (e.g., `os` can be `posix` or `nt`)\n",
    "\n",
    "#### Known Use: `type.__call__`: \"two-phase construction: new-init\"\n",
    "```Python\n",
    "def __call__(cls, *a, *k):\n",
    "    nu = cls.__new__(cls, *a, **k)\n",
    "    if isinstance(nu, cls):\n",
    "        cls.__init__(nu, *a, **k)\n",
    "    return nu\n",
    "```\n",
    "\n",
    "#### Factory-function example\n",
    "```Python\n",
    "def load(pkg, obj):\n",
    "    m = __import__(pkg, {}, {}, [obj])\n",
    "    return getattr(m, obj)\n",
    "cls = load('p1.p2.p3', 'c4')\n",
    "```"
   ]
  },
  {
   "cell_type": "markdown",
   "metadata": {},
   "source": [
    "# Structural Patterns\n",
    "Masquerading / Adaptation\n",
    "\n",
    "- __Adapter__: Tweak an interface (both class and object variants)\n",
    "- __Facade__: Simplify a subsystem's interface\n",
    "- __Bridge__: let many implementations of an abstraction us many implementation of a functionality (without repetitive coding)\n",
    "- __Decorator__: reuse + tweak without inheritance\n",
    "- __Proxy__: decouple from access / location"
   ]
  },
  {
   "cell_type": "markdown",
   "metadata": {},
   "source": [
    "## Adapter\n",
    "- client code $\\gamma$ requires a protocol $C$\n",
    "- supplier code $\\sigma$ provides different protocol $S$\n",
    "    - with a superset of $C$'s functionality\n",
    "- write adapter code $\\alpha$ \"sneaks in the middle\"\n",
    "    - to $\\gamma$, $\\alpha$ is a supplier (produces protocol $C$)\n",
    "    - to $\\sigma$, $\\alpha$ is a client (consumes protocol $S$)\n",
    "    - \"inside\", $\\alpha$ implements $C$ (by means of appropriate calls to $S$ on $\\sigma$)"
   ]
  },
  {
   "cell_type": "code",
   "execution_count": 10,
   "metadata": {},
   "outputs": [],
   "source": [
    "## Toy example\n",
    "# C requires foobar(foo, bar)\n",
    "# S supplies method barfoo(bar, foo)\n",
    "\n",
    "# Sigma\n",
    "class Barfooer(object):\n",
    "    def barfoo(self, bar, foo):\n",
    "        pass\n",
    "\n",
    "# Adapter at Object level\n",
    "# per-instance, with wrapping delegation\n",
    "class FoobarWrapper(object):\n",
    "    def __init__(self, wrappee):\n",
    "        self.w = wrappee\n",
    "    def foobar(self, foo, bar):\n",
    "        return self.w.barfoo(bar, foo)\n",
    "barfooer = Barfooer()\n",
    "foobarer = FoobarWrapper(barfooer)\n",
    "\n",
    "# Adapter at Class level\n",
    "# per-class, with subclasing and self-delegation\n",
    "# maybe faster but object level is cleaner\n",
    "class Foobarer(Barfooer):\n",
    "    def foobar(self, foo, bar):\n",
    "        return self.barfoo(bar, foo)\n",
    "\n",
    "foobarer = Foobarer()"
   ]
  },
  {
   "cell_type": "markdown",
   "metadata": {},
   "source": [
    "### Adapter KU\n",
    "- `socket._fileobject`: from sockets to file-like objects\n",
    "    - socket: unbuffered, file: buffered\n",
    "    - with much code for buffering\n",
    "- `doctest.DocTestSuite`: adapts doctest tests to `unittest.TestSuite`\n",
    "- `dbhash`: adapt dsbdb to dbm\n",
    "- `StringIO`: adapt `str` or `unicode` to file-like\n",
    "- `shelve`: adapt \"limited dict\" (str keys and values, basic methods) to complete mapping\n",
    "    - via `pickle` for anything from/to string\n",
    "    - `UserDict.DictMixin` to add other dict methods\n",
    "    \n",
    "### Observations: Adapter\n",
    "- Some real life adapters may require a lot more code\n",
    "- mixin classes are a great way to help adapt to rich protocols\n",
    "    - can implement advanced methods on top of fundamental ones\n",
    "- Adapter occurs at all levels of complexity\n",
    "- in Python, it's NOT just about classes and their instances (callables) "
   ]
  },
  {
   "cell_type": "code",
   "execution_count": null,
   "metadata": {},
   "outputs": [],
   "source": []
  },
  {
   "cell_type": "code",
   "execution_count": null,
   "metadata": {},
   "outputs": [],
   "source": []
  },
  {
   "cell_type": "code",
   "execution_count": null,
   "metadata": {},
   "outputs": [],
   "source": []
  },
  {
   "cell_type": "code",
   "execution_count": null,
   "metadata": {},
   "outputs": [],
   "source": []
  },
  {
   "cell_type": "code",
   "execution_count": null,
   "metadata": {},
   "outputs": [],
   "source": []
  },
  {
   "cell_type": "code",
   "execution_count": null,
   "metadata": {},
   "outputs": [],
   "source": []
  },
  {
   "cell_type": "code",
   "execution_count": null,
   "metadata": {},
   "outputs": [],
   "source": []
  },
  {
   "cell_type": "code",
   "execution_count": null,
   "metadata": {},
   "outputs": [],
   "source": []
  },
  {
   "cell_type": "code",
   "execution_count": null,
   "metadata": {},
   "outputs": [],
   "source": []
  },
  {
   "cell_type": "code",
   "execution_count": null,
   "metadata": {},
   "outputs": [],
   "source": []
  },
  {
   "cell_type": "code",
   "execution_count": null,
   "metadata": {},
   "outputs": [],
   "source": []
  },
  {
   "cell_type": "code",
   "execution_count": null,
   "metadata": {},
   "outputs": [],
   "source": []
  },
  {
   "cell_type": "code",
   "execution_count": null,
   "metadata": {},
   "outputs": [],
   "source": []
  },
  {
   "cell_type": "code",
   "execution_count": null,
   "metadata": {},
   "outputs": [],
   "source": []
  },
  {
   "cell_type": "code",
   "execution_count": null,
   "metadata": {},
   "outputs": [],
   "source": []
  },
  {
   "cell_type": "code",
   "execution_count": null,
   "metadata": {},
   "outputs": [],
   "source": []
  },
  {
   "cell_type": "code",
   "execution_count": null,
   "metadata": {},
   "outputs": [],
   "source": []
  },
  {
   "cell_type": "code",
   "execution_count": null,
   "metadata": {},
   "outputs": [],
   "source": []
  },
  {
   "cell_type": "code",
   "execution_count": null,
   "metadata": {},
   "outputs": [],
   "source": []
  },
  {
   "cell_type": "code",
   "execution_count": null,
   "metadata": {},
   "outputs": [],
   "source": []
  },
  {
   "cell_type": "code",
   "execution_count": null,
   "metadata": {},
   "outputs": [],
   "source": []
  },
  {
   "cell_type": "code",
   "execution_count": null,
   "metadata": {},
   "outputs": [],
   "source": []
  },
  {
   "cell_type": "code",
   "execution_count": null,
   "metadata": {},
   "outputs": [],
   "source": []
  },
  {
   "cell_type": "code",
   "execution_count": null,
   "metadata": {},
   "outputs": [],
   "source": []
  },
  {
   "cell_type": "code",
   "execution_count": null,
   "metadata": {},
   "outputs": [],
   "source": []
  },
  {
   "cell_type": "code",
   "execution_count": null,
   "metadata": {},
   "outputs": [],
   "source": []
  },
  {
   "cell_type": "code",
   "execution_count": null,
   "metadata": {},
   "outputs": [],
   "source": []
  },
  {
   "cell_type": "code",
   "execution_count": null,
   "metadata": {},
   "outputs": [],
   "source": []
  },
  {
   "cell_type": "code",
   "execution_count": null,
   "metadata": {},
   "outputs": [],
   "source": []
  },
  {
   "cell_type": "code",
   "execution_count": null,
   "metadata": {},
   "outputs": [],
   "source": []
  },
  {
   "cell_type": "code",
   "execution_count": null,
   "metadata": {},
   "outputs": [],
   "source": []
  },
  {
   "cell_type": "code",
   "execution_count": null,
   "metadata": {},
   "outputs": [],
   "source": []
  },
  {
   "cell_type": "code",
   "execution_count": null,
   "metadata": {},
   "outputs": [],
   "source": []
  },
  {
   "cell_type": "code",
   "execution_count": null,
   "metadata": {},
   "outputs": [],
   "source": []
  },
  {
   "cell_type": "code",
   "execution_count": null,
   "metadata": {},
   "outputs": [],
   "source": []
  },
  {
   "cell_type": "code",
   "execution_count": null,
   "metadata": {},
   "outputs": [],
   "source": []
  },
  {
   "cell_type": "code",
   "execution_count": null,
   "metadata": {},
   "outputs": [],
   "source": []
  },
  {
   "cell_type": "code",
   "execution_count": null,
   "metadata": {},
   "outputs": [],
   "source": []
  },
  {
   "cell_type": "code",
   "execution_count": null,
   "metadata": {},
   "outputs": [],
   "source": []
  },
  {
   "cell_type": "code",
   "execution_count": null,
   "metadata": {},
   "outputs": [],
   "source": []
  },
  {
   "cell_type": "code",
   "execution_count": null,
   "metadata": {},
   "outputs": [],
   "source": []
  }
 ],
 "metadata": {
  "kernelspec": {
   "display_name": "Python 3",
   "language": "python",
   "name": "python3"
  },
  "language_info": {
   "codemirror_mode": {
    "name": "ipython",
    "version": 3
   },
   "file_extension": ".py",
   "mimetype": "text/x-python",
   "name": "python",
   "nbconvert_exporter": "python",
   "pygments_lexer": "ipython3",
   "version": "3.6.5"
  }
 },
 "nbformat": 4,
 "nbformat_minor": 2
}
