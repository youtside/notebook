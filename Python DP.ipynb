{
 "cells": [
  {
   "cell_type": "markdown",
   "metadata": {},
   "source": [
    "### Patterns in general\n",
    "- \"Each pattern describes a problem which occuurs over and over in our environment, and then describes the core of the solution to that problem, in such way that you can use this solution a million times over, without ever doing it the same way twice\" [Alexander et al, \"A Pattern Language\"]\n",
    "- Design (and thus patterns) is not independent from the implementation's technology.\n",
    "\n",
    "### Classic SW DPs\n",
    "- not data structures, nor algorithms\n",
    "- not domain-specific architectures for entire subsystems\n",
    "\n",
    "### DP write-up components\n",
    "- NAME, context, problem\n",
    "- KNOWN USES (KU): DP are discovered, not invented\n",
    "- results, rationale, related DPs\n",
    "- forces, solution, examples\n",
    "- DP: description > prescription\n",
    "- formal fixed schema not a must (but helpful)\n",
    "\n",
    "## Categories of SQ DP\n",
    "- __Creational__: concern the ways and means of object instantiation\n",
    "\n",
    "- __Structural__: deal with the mutual composition of classes or objects\n",
    "\n",
    "- __Behavioral__: analyze the ways in which classes or objects interact and distribute responsibilities among them\n",
    "\n",
    "## Prolegomena\n",
    "- Program to an interface, not to an implementation\n",
    "- Favor object composition over class inheritance\n",
    "\n",
    "    > - Strong Coupling -> inherit only when it's really convenient\n",
    "    > - Not -> hold or wrap\n",
    "    \n",
    "- Hold: object O has subobject S as an attribute (maybe property)\n",
    "    - self.S.method or O.S.method\n",
    "    - Good: Simple, direct, immediate\n",
    "    - Bad: Strong coupling, often on wrong axis\n",
    "    \n",
    "- Wrap: hold (via private name) plus deligation\n",
    "    - O.method\n",
    "    - Good: \n",
    "        - explicit (def method(self,...) <- self.S.method)\n",
    "        - Automatic (delegation in \\_\\_getattr\\_\\_)\n",
    "        - Gets coupling right (law of Demeter)\n",
    "\n",
    "    "
   ]
  }
 ],
 "metadata": {
  "kernelspec": {
   "display_name": "Python 3",
   "language": "python",
   "name": "python3"
  },
  "language_info": {
   "codemirror_mode": {
    "name": "ipython",
    "version": 3
   },
   "file_extension": ".py",
   "mimetype": "text/x-python",
   "name": "python",
   "nbconvert_exporter": "python",
   "pygments_lexer": "ipython3",
   "version": "3.6.5"
  }
 },
 "nbformat": 4,
 "nbformat_minor": 2
}
