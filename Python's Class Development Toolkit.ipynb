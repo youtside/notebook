{
 "cells": [
  {
   "cell_type": "markdown",
   "metadata": {},
   "source": [
    "# Python's Class Development Toolkit\n",
    "https://www.youtube.com/watch?v=HTLu2DFOdTg\n"
   ]
  },
  {
   "cell_type": "markdown",
   "metadata": {},
   "source": [
    "# Summary\n",
    "1. Inherit from `object`\n",
    "1. __Instance variables__ for information unique to an instance\n",
    "1. __Class variables__ for data shared among all instances\n",
    "1. __Regular methods__ need `self` to operate on instance data\n",
    "1. __Class methods__ implement alternative constructors. They need `cls` so they can create subclass instances as well.\n",
    "1. __Static methods__ attach functions to classes. They don't need either `self` or `cls. Static methods improve discoverability and require context to be specified.\n",
    "1. `__var` for class local reference. \n",
    "1. A __property__ lets getter and setter methods be invoked automatically by attribute access. This allows Python classes to freely expose their instance variables.\n",
    "1. The `__slots__` variable implements the Flyweight Design Patter by suppressing instance dictionaries."
   ]
  },
  {
   "cell_type": "markdown",
   "metadata": {},
   "source": [
    "## Circle Company\n",
    "- Agile Methodology\n",
    "    - core idea: iterate and adapt quickly\n",
    "    - out sith waterfall: design code test ship\n",
    "    - Let little bits of design, coding and testing; inform later bits of design, docing and testing\n",
    "\n",
    "- Lean Startup Methodology\n",
    "    - Lean startup == Agile applied to business"
   ]
  },
  {
   "cell_type": "markdown",
   "metadata": {},
   "source": [
    "### docstring: Company name and elevator pitch\n",
    "* (module level) __docstring__\n",
    "\n",
    "```Python\n",
    "''' Circuitous, LLC - \n",
    "    An advanced Circle Analytics Company\n",
    "'''\n",
    "```"
   ]
  },
  {
   "cell_type": "markdown",
   "metadata": {},
   "source": [
    "### New Style class: Circle class\n",
    "* Start with __documentation__ \n",
    "    - Can generate PDF and review by business\n",
    "* (class level) __docstring__\n",
    "* New style classes\n",
    "* Initialize instance variables\n",
    "    - Init isn't a constructor. It's job is to initialize the instance variables.\n",
    "    - `self` is your instance. It has already been made by the time it gets called.\n",
    "    - Anything not unique to an instance does NOT go to instance variable\n",
    "* Regular method\n",
    "    - Regular methods have `self` as first argument\n",
    "* Modules for code reuse:\n",
    "    - `return 3.14 * self.radius ** 2.0` -> `return math.pi * self.radius ** 2.0`\n",
    "* Class variables for shared data\n",
    "    - shared by all the instances"
   ]
  },
  {
   "cell_type": "code",
   "execution_count": 3,
   "metadata": {},
   "outputs": [],
   "source": [
    "import math\n",
    "\n",
    "class Circle(object):\n",
    "    'An advanced circle analytic toolkit'\n",
    "\n",
    "    version = '0.1' # class variable\n",
    "\n",
    "    def __init__(self, radius):\n",
    "        self.radius = radius # instance variable\n",
    "\n",
    "    def area(self):\n",
    "        'Perform quadrature on a shape of uniform radius'\n",
    "        return math.pi * self.radius ** 2.0"
   ]
  },
  {
   "cell_type": "markdown",
   "metadata": {},
   "source": [
    "### Minimum viable product: Ship it!\n",
    "\n",
    "```Python\n",
    "# Tutorial\n",
    "print('circuituous version', Circle.version)\n",
    "...\n",
    "```"
   ]
  },
  {
   "cell_type": "markdown",
   "metadata": {},
   "source": [
    "### First cusomer: Academia"
   ]
  },
  {
   "cell_type": "code",
   "execution_count": 30,
   "metadata": {},
   "outputs": [
    {
     "name": "stdout",
     "output_type": "stream",
     "text": [
      "Using Circutuous™ version 0.1\n",
      "The average area of 10 random circles is 0.9\n"
     ]
    }
   ],
   "source": [
    "from random import random, seed\n",
    "\n",
    "seed(123457) # Reproducable\n",
    "print(f'Using Circutuous\\N{trade mark sign} version {Circle.version}')\n",
    "n = 10\n",
    "circles = [Circle(random()) for i in range(n)]\n",
    "\n",
    "avg = sum([c.area() for c in circles]) / n\n",
    "print(f'The average area of {n} random circles is {avg:0.1f}')\n"
   ]
  },
  {
   "cell_type": "markdown",
   "metadata": {},
   "source": [
    "### Next Customer wants a perimeter method\n",
    "- Second customer: Rubber sheet company\n",
    "\n",
    "- how do we feel about exposing the radius attribute?\n",
    "    - i.e. radius isn't constant after creating the instance\n",
    "    - `getter` and `setter`\n",
    "    - Yes, expose attributes in Python"
   ]
  },
  {
   "cell_type": "code",
   "execution_count": 44,
   "metadata": {},
   "outputs": [
    {
     "name": "stdout",
     "output_type": "stream",
     "text": [
      "A circlet with a radius of 0.1 has a perimeter of0.6283185307179586\n",
      "and a cold area of 0.031415926535897934\n",
      "and a warm area of 0.038013271108436504\n",
      "\n",
      "A circlet with a radius of 0.7 has a perimeter of4.39822971502571\n",
      "and a cold area of 1.5393804002589984\n",
      "and a warm area of 1.8626502843133883\n",
      "\n",
      "A circlet with a radius of 0.8 has a perimeter of5.026548245743669\n",
      "and a cold area of 2.0106192982974678\n",
      "and a warm area of 2.4328493509399363\n",
      "\n"
     ]
    }
   ],
   "source": [
    "import math\n",
    "\n",
    "class Circle(object):\n",
    "    'An advanced circle analytic toolkit'\n",
    "\n",
    "    version = '0.2' # class variable\n",
    "\n",
    "    def __init__(self, radius):\n",
    "        self.radius = radius # instance variable\n",
    "\n",
    "    def area(self):\n",
    "        'Perform quadrature on a shape of uniform radius'\n",
    "        return math.pi * self.radius ** 2.0\n",
    "    \n",
    "    def perimeter(self):\n",
    "        return 2.0 * math.pi * self.radius\n",
    "\n",
    "cuts = [0.1, 0.7, 0.8]\n",
    "circles = [Circle(r) for r in cuts]\n",
    "for c in circles:\n",
    "    print(f'A circlet with a radius of {c.radius} has a perimeter of{c.perimeter()}')\n",
    "    print(f'and a cold area of {c.area()}')\n",
    "    c.radius *= 1.1\n",
    "    print(f'and a warm area of {c.area()}\\n')"
   ]
  },
  {
   "cell_type": "markdown",
   "metadata": {},
   "source": [
    "### override: Third customer - National tire chain\n",
    "* __extend__ method: parent method eventually get called\n",
    "* __override__ method: parent method doesn't get called"
   ]
  },
  {
   "cell_type": "code",
   "execution_count": 55,
   "metadata": {},
   "outputs": [
    {
     "name": "stdout",
     "output_type": "stream",
     "text": [
      "A tire of radius 22 has an inner area of 1520.53 and an odometer corrected perimeter of 172.79\n",
      "\n"
     ]
    }
   ],
   "source": [
    "class Tire(Circle):\n",
    "    'Tires are circles with a corrected perimeter'\n",
    "    \n",
    "    def perimeter(self):\n",
    "        'Circuference corrected for the rubber'\n",
    "        return Circle.perimeter(self) * 1.25\n",
    "    \n",
    "t = Tire(22)\n",
    "print(f'A tire of radius {t.radius} has an inner area of {t.area():.2f} '\n",
    "      f'and an odometer corrected perimeter of {t.perimeter():.2f}\\n')\n"
   ]
  },
  {
   "cell_type": "markdown",
   "metadata": {},
   "source": [
    "### classmethod: Next customer: National graphics company\n",
    "Converting method\n",
    "- The API is awkward. A converter function is always needed. Perhaps change the constructor signature? \n",
    "    ```Python\n",
    "    bbd = 25.1\n",
    "    c = Circle(bbd_to_radius(bbd))\n",
    "    ...\n",
    "    ```\n",
    "- Constructor war: \n",
    "    - several people want to different signatures of constructor (e.g., most powerful customer)\n",
    "    - Provide alternative constructors. Everyone should win.\n",
    "\n",
    "    ```Python\n",
    "    datatime(2019, 1, 20)\n",
    "    datetime.fromtimestamp(1363493616)\n",
    "    datetime.fromordinal(734000)\n",
    "    datetime.now()\n",
    "\n",
    "    dict.fromkeys(['k1', 'k2', 'k3'])\n",
    "    ```\n",
    "- __Class methods__ create alternative constructors\n",
    "    - It should also work for subclasses. \n",
    "    - This code doesn't work:\n",
    "    ```Python\n",
    "    t = Tire.from_bbd(45)\n",
    "    ```\n",
    "- Subclasses?\n",
    "    - Besure to use `cls` to support subclassing\n",
    "    \n",
    "    `return Circle(radius)` -> `return cls(radius)`\n"
   ]
  },
  {
   "cell_type": "code",
   "execution_count": 57,
   "metadata": {},
   "outputs": [],
   "source": [
    "import math\n",
    "\n",
    "class Circle(object):\n",
    "    'An advanced circle analytic toolkit'\n",
    "\n",
    "    version = '0.3' # class variable\n",
    "\n",
    "    def __init__(self, radius):\n",
    "        self.radius = radius # instance variable\n",
    "\n",
    "    def area(self):\n",
    "        'Perform quadrature on a shape of uniform radius'\n",
    "        return math.pi * self.radius ** 2.0\n",
    "    \n",
    "    def perimeter(self):\n",
    "        return 2.0 * math.pi * self.radius\n",
    "    \n",
    "    @classmethod            # alternative constructor\n",
    "    def from_bbd(cls, bbd):\n",
    "        'Construct a circle from a bounding box diagonal'\n",
    "        radius = bbd / 2.0 / math.sqrt(2.0)\n",
    "        # return Circle(radius)\n",
    "        return cls(radius)\n"
   ]
  },
  {
   "cell_type": "markdown",
   "metadata": {},
   "source": [
    "### staticmethod: New customer request: add a function\n",
    "- Will this also work for the Sphere class and the Hyperbolic class? No / No\n",
    "- Can people even find this code? \n",
    "    - No, it's not in the class\n",
    "    - Indent\n",
    "- No `self` used inside function body\n",
    "- Purpose of `staticmethod`:\n",
    "    * Attach functions to classes\n",
    "    * Improve findability \n",
    "    * Ensure people using function in approproate context: `Circle.angle_to_grade(30)`"
   ]
  },
  {
   "cell_type": "code",
   "execution_count": 59,
   "metadata": {},
   "outputs": [],
   "source": [
    "def angle_to_grade(angle):\n",
    "    'Convert angle in degree to a percentage grade'\n",
    "    return math.tan(math.radians(angle)) * 100.0\n",
    "\n",
    "class Circle(object):\n",
    "    'An advanced circle analytic toolkit'\n",
    "\n",
    "    version = '0.4b' # class variable\n",
    "\n",
    "    def __init__(self, radius):\n",
    "        self.radius = radius # instance variable\n",
    "        \n",
    "    @staticmethod\n",
    "    def angle_to_grade(angle):\n",
    "        'Convert angle in degree to a percentage grade'\n",
    "        return math.tan(math.radians(angle)) * 100.0\n"
   ]
  },
  {
   "cell_type": "markdown",
   "metadata": {},
   "source": [
    "### Class local reference: Government request #1\n",
    "Not allow to use radius in area calculation. Instead you must call `perimeter()` and back into the radius.\n",
    "\n",
    "- Change in `p = self.perimeter()` doesn't work for children classes. \n",
    "- Subclass should be free to override any methods without breaking the code\n",
    "- Solution 1: class local reference: keep a spare copy. `self._perimeter`\n",
    "    - If someone overrides it, you still got the original\n",
    "    - BUT Tire company also declares `_perimeter` \n",
    "    - Need to specify name: `_tireperimeter`, `_circleperimeter`\n",
    "- Built in already: `self.__perimeter()`\n",
    "\n",
    "__Class local reference__: making sure `self` is actually referring to _you_ instead of _you and your children_.\n",
    "- Not about private\n",
    "- All about freedom: make sure subclass is free to override any methods without breaking others."
   ]
  },
  {
   "cell_type": "code",
   "execution_count": 68,
   "metadata": {},
   "outputs": [
    {
     "name": "stdout",
     "output_type": "stream",
     "text": [
      "{'__module__': '__main__', '__doc__': 'An advanced circle analytic toolkit', 'version': '0.5', '__init__': <function Circle.__init__ at 0x7fbc445dd840>, 'area': <function Circle.area at 0x7fbc445ddf28>, 'perimeter': <function Circle.perimeter at 0x7fbc443d9378>, '_Circle__perimeter': <function Circle.perimeter at 0x7fbc443d9378>, '__dict__': <attribute '__dict__' of 'Circle' objects>, '__weakref__': <attribute '__weakref__' of 'Circle' objects>}\n"
     ]
    }
   ],
   "source": [
    "class Circle(object):\n",
    "    'An advanced circle analytic toolkit'\n",
    "\n",
    "    version = '0.5b' # class variable\n",
    "\n",
    "    def __init__(self, radius):\n",
    "        self.radius = radius # instance variable\n",
    "\n",
    "    def area(self):\n",
    "        'Perform quadrature on a shape of uniform radius'\n",
    "        p = self.perimeter()\n",
    "        r = p / math.pi / 2.0\n",
    "        return math.pi * r ** 2.0\n",
    "    \n",
    "    def perimeter(self):\n",
    "        return 2.0 * math.pi * self.radius\n",
    "    \n",
    "    \n",
    "# Problem with the tire company: perimeter scales \n",
    "\n",
    "\n",
    "    def area(self):\n",
    "        'Perform quadrature on a shape of uniform radius'\n",
    "        p = self._perimeter()\n",
    "        r = p / math.pi / 2.0\n",
    "        return math.pi * r ** 2.0\n",
    "    _perimeter = perimeter\n",
    "    \n",
    "\n",
    "class Circle(object):\n",
    "    'An advanced circle analytic toolkit'\n",
    "\n",
    "    version = '0.5' # class variable\n",
    "\n",
    "    def __init__(self, radius):\n",
    "        self.radius = radius # instance variable\n",
    "\n",
    "    def area(self):\n",
    "        'Perform quadrature on a shape of uniform radius'\n",
    "        p = self.__perimeter()\n",
    "        r = p / math.pi / 2.0\n",
    "        return math.pi * r ** 2.0\n",
    "    \n",
    "    def perimeter(self):\n",
    "        return 2.0 * math.pi * self.radius\n",
    "    \n",
    "    __perimeter = perimeter # Auto renamed to _Circle__perimeter\n",
    "\n",
    "print(Circle.__dict__)"
   ]
  },
  {
   "cell_type": "markdown",
   "metadata": {},
   "source": [
    "### property: Government request #2\n",
    "    - not allowed to store the _radius_\n",
    "    - must store the _diameter_ instead\n",
    "\n",
    "- `property`: Convert attribute access to method access"
   ]
  },
  {
   "cell_type": "code",
   "execution_count": 67,
   "metadata": {},
   "outputs": [],
   "source": [
    "class Circle(object):\n",
    "    'An advanced circle analytic toolkit'\n",
    "\n",
    "    version = '0.6' # class variable\n",
    "\n",
    "    def __init__(self, radius):\n",
    "        self.radius = radius # instance variable\n",
    "    \n",
    "    @property               # convert dotted access to method calls\n",
    "    def radius(self):\n",
    "        'Radius of a circle'\n",
    "        return self.diameter / 2.0\n",
    "    \n",
    "    @radius.setter\n",
    "    def radius(self, radius):\n",
    "        self.diameter = radius * 2.0"
   ]
  },
  {
   "cell_type": "markdown",
   "metadata": {},
   "source": [
    "### slots: User request: Many circles\n",
    "    - n = 10000000\n",
    "    - major memory problem, each instance is over 300 bytes each (dict)\n",
    "- Flyweight design pattern: `__slots__`\n",
    "    - just allocate one pointer for the _diameter_ and nothing else.\n",
    "    - lost `__dict__`\n",
    "        - Lost ability to inspect `__dict__`\n",
    "        - Can't add additional attributes\n",
    "    - Save optimization  for the last\n",
    "- If __subclassing__, `__slots__` does NOT inherent"
   ]
  },
  {
   "cell_type": "code",
   "execution_count": 77,
   "metadata": {},
   "outputs": [
    {
     "name": "stdout",
     "output_type": "stream",
     "text": [
      "{'__module__': '__main__', '__doc__': 'An advanced circle analytic toolkit', '__slots__': ['diameter'], 'version': '0.7', '__init__': <function Circle.__init__ at 0x7fbc445ddae8>, 'radius': <property object at 0x7fbc4452f2c8>, 'area': <function Circle.area at 0x7fbc443d9840>, 'perimeter': <function Circle.perimeter at 0x7fbc443d9c80>, '_Circle__perimeter': <function Circle.perimeter at 0x7fbc443d9c80>, 'diameter': <member 'diameter' of 'Circle' objects>}\n"
     ]
    }
   ],
   "source": [
    "class Circle(object):\n",
    "    'An advanced circle analytic toolkit'\n",
    "\n",
    "    __slots__ = ['diameter']\n",
    "    version = '0.7' # class variable\n",
    "\n",
    "    def __init__(self, radius):\n",
    "        self.radius = radius # instance variable\n",
    "    \n",
    "    @property               # convert dotted access to method calls\n",
    "    def radius(self):\n",
    "        'Radius of a circle'\n",
    "        return self.diameter / 2.0\n",
    "    \n",
    "    @radius.setter\n",
    "    def radius(self, radius):\n",
    "        self.diameter = radius * 2.0\n",
    "        \n",
    "    def area(self):\n",
    "        'Perform quadrature on a shape of uniform radius'\n",
    "        p = self.__perimeter()\n",
    "        r = p / math.pi / 2.0\n",
    "        return math.pi * r ** 2.0\n",
    "    \n",
    "    def perimeter(self):\n",
    "        return 2.0 * math.pi * self.radius\n",
    "    \n",
    "    __perimeter = perimeter # Auto renamed to _Circle__perimeter\n",
    "print(Circle.__dict__)"
   ]
  },
  {
   "cell_type": "code",
   "execution_count": 82,
   "metadata": {},
   "outputs": [
    {
     "name": "stdout",
     "output_type": "stream",
     "text": [
      "Using Circutuous™ version 0.7\n",
      "The average area of 10000 random circles is 1.1\n"
     ]
    }
   ],
   "source": [
    "from random import random, seed\n",
    "\n",
    "n = 10000\n",
    "seed(123457) # Reproducable\n",
    "print(f'Using Circutuous\\N{trade mark sign} version {Circle.version}')\n",
    "\n",
    "circles = [Circle(random()) for i in range(n)]\n",
    "\n",
    "avg = sum([c.area() for c in circles]) / n\n",
    "print(f'The average area of {n} random circles is {avg:0.1f}')"
   ]
  },
  {
   "cell_type": "markdown",
   "metadata": {},
   "source": [
    "- class is a namespace; defination runs as if it runs in module and the module dictionary becomes the class dictionary\n",
    "- YAGNI - You Aint Gonna Need It"
   ]
  }
 ],
 "metadata": {
  "kernelspec": {
   "display_name": "Python 3",
   "language": "python",
   "name": "python3"
  },
  "language_info": {
   "codemirror_mode": {
    "name": "ipython",
    "version": 3
   },
   "file_extension": ".py",
   "mimetype": "text/x-python",
   "name": "python",
   "nbconvert_exporter": "python",
   "pygments_lexer": "ipython3",
   "version": "3.6.7"
  },
  "toc": {
   "base_numbering": 1,
   "nav_menu": {},
   "number_sections": true,
   "sideBar": true,
   "skip_h1_title": false,
   "title_cell": "Table of Contents",
   "title_sidebar": "Contents",
   "toc_cell": false,
   "toc_position": {},
   "toc_section_display": true,
   "toc_window_display": true
  }
 },
 "nbformat": 4,
 "nbformat_minor": 2
}
