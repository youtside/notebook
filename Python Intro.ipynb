{
 "cells": [
  {
   "cell_type": "markdown",
   "metadata": {},
   "source": [
    "# Basic concepts\n",
    "\n",
    "* Import\n",
    "* Indentation\n",
    "* Variables / Numbers / Strings\n",
    "\n",
    "* Control flow\n",
    "    * If / boolean\n",
    "    * For loop / while loop\n",
    "\n",
    "* Print statement\n",
    "* Ways to execute\n",
    "\n",
    "* Data Structure\n",
    "    * Lists / Tuples\n",
    "    * Set\n",
    "    * Dictionaries\n",
    "* Function\n",
    "* List comprehension\n",
    "\n",
    "\n",
    "# Advanced concepts\n",
    "\n",
    "* Objects\n",
    "* Iterators\n",
    "* Generators\n",
    "* Context Managers\n"
   ]
  }
 ],
 "metadata": {
  "kernelspec": {
   "display_name": "Python 3",
   "language": "python",
   "name": "python3"
  },
  "language_info": {
   "codemirror_mode": {
    "name": "ipython",
    "version": 3
   },
   "file_extension": ".py",
   "mimetype": "text/x-python",
   "name": "python",
   "nbconvert_exporter": "python",
   "pygments_lexer": "ipython3",
   "version": "3.6.5"
  }
 },
 "nbformat": 4,
 "nbformat_minor": 2
}
