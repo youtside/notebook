{
 "cells": [
  {
   "cell_type": "markdown",
   "metadata": {},
   "source": [
    "# Overview\n",
    "![Overview](Asset/Kube5min.png)\n",
    "![SimpleArch](Asset/KubeArch_Simple.png)"
   ]
  },
  {
   "cell_type": "markdown",
   "metadata": {},
   "source": [
    "# Basics\n",
    "## Kubernetes Cluster\n",
    "Multiple nodes that have CPU and RAM but they don't care who gets them \n",
    "\n",
    "## Node: Master\n",
    "* Kube Cluster Services\n",
    "* Have control over everything that's happening on the cluster\n",
    "> Scheduling, Node health, etc\n",
    "* API\n",
    "* Enforce _Desired State Management_\n",
    "> Define service configuration -> let cluster services run the configuration \n",
    "\n",
    "## Node: Worker (AKA Nodes)\n",
    "* Container host\n",
    "* Has Kubelet process\n",
    "> communiting with Kube Cluster Services\n",
    "\n",
    "## Container\n",
    "* One process runs on one container\n",
    "* Blue square above\n",
    "\n",
    "## Pod\n",
    "* A set of one or more containers that act as a unit \n",
    "* scheduled onto a VM together\n",
    "* Share a local network and can share file system volumes\n",
    "* Smallest depolyment unit\n",
    "* (See each other as localhost)\n",
    "\n",
    "## Deployment\n",
    "* Feed the configuration: the desired state\n",
    "* Recipe\n",
    "    * Responsible for creating and updating Pods\n",
    "    * Kubernetes will manage state based on the definitions provided\n",
    "    * Can scale up and down to meet demand\n",
    "    * Can roll back to an older version or roll forward\n",
    "* deployment yaml file\n",
    "```YAML\n",
    "replicas: 2\n",
    "  template:\n",
    "    metadata:\n",
    "      labels:\n",
    "        app: webapp\n",
    "    spec:\n",
    "      conatiners:\n",
    "        - name: webapp\n",
    "          image: webapp:VERSION_HERE\n",
    "          ports:\n",
    "          - containerPort: 8080\n",
    "            name: http\n",
    "          env:\n",
    "            - name: REDIS_HOST\n",
    "              value: `redis-master`\n",
    "```\n",
    "\n",
    "## Service\n",
    "![Kube Service](Asset/KubeService.jpg)\n",
    "* <=> Load Balancer\n",
    "* Defines a way to access Pods in a consistent way\n",
    "* Services find the Pod to route traffic to based on the Labels/Selectors in the manifest\n",
    "    * Inside the cluster, they perform load balancing\n",
    "    * They can also interact with GKE to create external load balancers"
   ]
  },
  {
   "cell_type": "markdown",
   "metadata": {},
   "source": [
    "## Google Cloud Platform\n",
    "https://console.cloud.google.com/\n",
    "* Grouped by Project\n",
    "\n",
    "\n",
    "* Zone -> Avalibility zone (datacenter)\n"
   ]
  },
  {
   "cell_type": "markdown",
   "metadata": {},
   "source": [
    "## Interact with Kube by command line\n",
    "### `kubectl`\n",
    "\n",
    "`~/.kube/config`: Configuration file\n",
    "> - clusters\n",
    "> - contexts\n",
    "> - users\n",
    "\n",
    " `kubectl get nodes [-o wide]`: Gets node information\n",
    " \n",
    " `kubectl describe node <nodename>`: get detail about a node\n",
    " > * lists all the running pods \"Non-terminiated Pods\"\n",
    " > * \"Events\" for debugging\n",
    " \n",
    " `kubectl get events`"
   ]
  },
  {
   "cell_type": "markdown",
   "metadata": {},
   "source": [
    "## Namespace\n",
    "`kubectl create ns workshop`\n",
    "\n",
    "`kubectl get ns`\n",
    "\n",
    "* Delete a namespace = delete all the resources in it\n",
    "* select a namespace: `kubectl -n workshop`\n",
    "    * Tidus -> Create a context\n",
    "* Context: \n",
    "    * `kubectl config get-contexts`\n",
    "    * `kubectl config set-context workshop --cluster *** --user *** --namespace ***`\n",
    "* `kubectl get pods` -> No resources found.\n",
    "\n",
    "## Get Resources\n",
    "example: https://github.com/reactiveops/k8s-workshop\n",
    "\n",
    "app + containers + deployment\n",
    "\n",
    "webapp + redis\n",
    "\n",
    "master/slave -> __primary/replica__\n",
    "\n",
    "1m CPU = 1/1000 CPU Core | Limit: how big container can grow\n",
    "\n",
    "env variable >> config file: change container at run time <-- app needs to use it"
   ]
  },
  {
   "cell_type": "markdown",
   "metadata": {},
   "source": [
    "## Scale nodes down to zero\n",
    "`gcloud container clusters resize $CLUSTER --size=0 --zone=$ZONE`"
   ]
  },
  {
   "cell_type": "markdown",
   "metadata": {},
   "source": [
    "## Namings\n",
    "GKE - Google Kubernetes Engine\n"
   ]
  }
 ],
 "metadata": {
  "kernelspec": {
   "display_name": "Python 3",
   "language": "python",
   "name": "python3"
  },
  "language_info": {
   "codemirror_mode": {
    "name": "ipython",
    "version": 3
   },
   "file_extension": ".py",
   "mimetype": "text/x-python",
   "name": "python",
   "nbconvert_exporter": "python",
   "pygments_lexer": "ipython3",
   "version": "3.6.5"
  }
 },
 "nbformat": 4,
 "nbformat_minor": 2
}
